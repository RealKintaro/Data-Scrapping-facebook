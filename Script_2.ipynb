{
 "cells": [
  {
   "cell_type": "code",
   "execution_count": 6,
   "metadata": {},
   "outputs": [],
   "source": [
    "from apify_client import ApifyClient\n",
    "import pandas as pd"
   ]
  },
  {
   "cell_type": "code",
   "execution_count": 7,
   "metadata": {},
   "outputs": [],
   "source": [
    "client = ApifyClient(\"apify_api_r2HUaYl8v7POQgl30hWetdZD2MXmFW2wyUkJ\")\n",
    "page_name = input(\"Enter the page name: \")"
   ]
  },
  {
   "cell_type": "code",
   "execution_count": 8,
   "metadata": {},
   "outputs": [],
   "source": [
    "run_input = {\n",
    "    \"startUrls\": [{ \"url\": f\"https://www.facebook.com/{page_name}/\" }],\n",
    "    \"maxPosts\": 30,\n",
    "    \"maxPostComments\": 30,\n",
    "    \"scrapeReviews\": False,\n",
    "    \"scrapeServices\": False,\n",
    "    \"scrapePosts\": True,\n",
    "    \"proxyConfiguration\": {\n",
    "        \"useApifyProxy\": True,\n",
    "        \"apifyProxyGroups\": [\"RESIDENTIAL\"],\n",
    "    },\n",
    "}\n",
    "\n",
    "run = client.actor(\"pocesar/facebook-pages-scraper\").call(run_input=run_input)"
   ]
  },
  {
   "cell_type": "code",
   "execution_count": 9,
   "metadata": {},
   "outputs": [],
   "source": [
    "data = client.dataset(run['defaultDatasetId']).list_items().items"
   ]
  },
  {
   "cell_type": "code",
   "execution_count": 10,
   "metadata": {},
   "outputs": [],
   "source": [
    "# write a list of dicts to a json file\n",
    "import json\n",
    "\n",
    "json = json.dumps(data,ensure_ascii = False,indent=2)\n",
    "# write json to file\n",
    "with open(f\"data/{page_name}.json\", \"w\", encoding=\"utf-8\") as f:\n",
    "    f.write(json)"
   ]
  }
 ],
 "metadata": {
  "kernelspec": {
   "display_name": "Python 3.8.10 64-bit",
   "language": "python",
   "name": "python3"
  },
  "language_info": {
   "codemirror_mode": {
    "name": "ipython",
    "version": 3
   },
   "file_extension": ".py",
   "mimetype": "text/x-python",
   "name": "python",
   "nbconvert_exporter": "python",
   "pygments_lexer": "ipython3",
   "version": "3.8.10"
  },
  "orig_nbformat": 4,
  "vscode": {
   "interpreter": {
    "hash": "96f786b0b969ce9dd83e03f57258e7a9a05f55dd8c5f36e6eecbeebc399786bd"
   }
  }
 },
 "nbformat": 4,
 "nbformat_minor": 2
}
