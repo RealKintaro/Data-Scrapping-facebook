{
  "nbformat": 4,
  "nbformat_minor": 0,
  "metadata": {
    "colab": {
      "provenance": [],
      "collapsed_sections": []
    },
    "kernelspec": {
      "name": "python3",
      "display_name": "Python 3"
    },
    "accelerator": "GPU"
  },
  "cells": [
    {
      "cell_type": "markdown",
      "metadata": {
        "id": "mx0Hk8bMzyHk"
      },
      "source": [
        "# Hate Speech Detection Using Classical Machine Learning\n",
        "In this notebook, we conduct a preliminary experiment on the detection of hate speech in Arabic facebook comments"
      ]
    },
    {
      "cell_type": "markdown",
      "metadata": {
        "id": "evavjP3jjxQt"
      },
      "source": [
        "# 1. Data Loading and Basic Data Exploration\n",
        "In this section, we are going to load the train and dev dataset avaliable on the [workshop website](http://edinburghnlp.inf.ed.ac.uk/workshops/OSACT4/) and conduct basic data exploration for a basic understanding of the data.\n",
        "*   [Train dataset](https://edinburghnlp.inf.ed.ac.uk/workshops/OSACT4/datasets/OSACT2020-sharedTask-train.txt)\n",
        "*   [Dev dataset](https://edinburghnlp.inf.ed.ac.uk/workshops/OSACT4/datasets/OSACT2020-sharedTask-dev.txt)\n",
        "\n"
      ]
    },
    {
      "cell_type": "code",
      "metadata": {
        "id": "yk-Eo_LrkHMZ",
        "outputId": "4bfc5f25-a0cc-485f-e37e-c6206d26879b",
        "colab": {
          "base_uri": "https://localhost:8080/",
          "height": 125
        }
      },
      "source": [
        "from google.colab import drive\n",
        "drive.mount('/content/drive')"
      ],
      "execution_count": null,
      "outputs": [
        {
          "output_type": "stream",
          "text": [
            "Go to this URL in a browser: https://accounts.google.com/o/oauth2/auth?client_id=947318989803-6bn6qk8qdgf4n4g3pfee6491hc0brc4i.apps.googleusercontent.com&redirect_uri=urn%3aietf%3awg%3aoauth%3a2.0%3aoob&response_type=code&scope=email%20https%3a%2f%2fwww.googleapis.com%2fauth%2fdocs.test%20https%3a%2f%2fwww.googleapis.com%2fauth%2fdrive%20https%3a%2f%2fwww.googleapis.com%2fauth%2fdrive.photos.readonly%20https%3a%2f%2fwww.googleapis.com%2fauth%2fpeopleapi.readonly\n",
            "\n",
            "Enter your authorization code:\n",
            "··········\n",
            "Mounted at /content/drive\n"
          ],
          "name": "stdout"
        }
      ]
    },
    {
      "cell_type": "code",
      "metadata": {
        "id": "JuITAb7bJZgU"
      },
      "source": [
        "import re\n",
        "import string\n",
        "import math\n",
        "import numpy as np\n",
        "import pandas as pd\n",
        "import seaborn as sns\n",
        "import matplotlib.pyplot as plt\n",
        "\n",
        "from sklearn import model_selection, naive_bayes, svm\n",
        "from sklearn import metrics\n",
        "from sklearn.metrics import f1_score\n",
        "from sklearn.metrics import accuracy_score\n",
        "from sklearn.metrics import classification_report as creport\n",
        "\n",
        "\n",
        "from multiprocessing import Pool"
      ],
      "execution_count": null,
      "outputs": []
    },
    {
      "cell_type": "markdown",
      "metadata": {
        "id": "wFDSKk9L6Ga2"
      },
      "source": [
        "NOTE: the data files used in this experiment are CSV files (the original txt files are converted to CSV files)."
      ]
    },
    {
      "cell_type": "markdown",
      "metadata": {
        "id": "Fa7-DN6vU53M"
      },
      "source": [
        "### **Loading Data**"
      ]
    },
    {
      "cell_type": "code",
      "source": [
        "!wget https://raw.githubusercontent.com/AbeerAbuZayed/Hate-Speech-Detection_OSACT4-Workshop/master/Dataset/train_data.csv\n",
        "!wget https://raw.githubusercontent.com/AbeerAbuZayed/Hate-Speech-Detection_OSACT4-Workshop/master/Dataset/dev_data.csv"
      ],
      "metadata": {
        "id": "7BiXnC9-6Mbl",
        "outputId": "1295b53c-2dbf-40d8-8069-d578eca2d810",
        "colab": {
          "base_uri": "https://localhost:8080/"
        }
      },
      "execution_count": null,
      "outputs": [
        {
          "output_type": "stream",
          "name": "stdout",
          "text": [
            "--2022-11-14 02:26:49--  https://raw.githubusercontent.com/AbeerAbuZayed/Hate-Speech-Detection_OSACT4-Workshop/master/Dataset/train_data.csv\n",
            "Resolving raw.githubusercontent.com (raw.githubusercontent.com)... 185.199.108.133, 185.199.109.133, 185.199.110.133, ...\n",
            "Connecting to raw.githubusercontent.com (raw.githubusercontent.com)|185.199.108.133|:443... connected.\n",
            "HTTP request sent, awaiting response... 200 OK\n",
            "Length: 1364314 (1.3M) [text/plain]\n",
            "Saving to: ‘train_data.csv’\n",
            "\n",
            "train_data.csv      100%[===================>]   1.30M  --.-KB/s    in 0.005s  \n",
            "\n",
            "2022-11-14 02:26:50 (244 MB/s) - ‘train_data.csv’ saved [1364314/1364314]\n",
            "\n",
            "--2022-11-14 02:26:50--  https://raw.githubusercontent.com/AbeerAbuZayed/Hate-Speech-Detection_OSACT4-Workshop/master/Dataset/dev_data.csv\n",
            "Resolving raw.githubusercontent.com (raw.githubusercontent.com)... 185.199.108.133, 185.199.109.133, 185.199.110.133, ...\n",
            "Connecting to raw.githubusercontent.com (raw.githubusercontent.com)|185.199.108.133|:443... connected.\n",
            "HTTP request sent, awaiting response... 200 OK\n",
            "Length: 196995 (192K) [text/plain]\n",
            "Saving to: ‘dev_data.csv’\n",
            "\n",
            "dev_data.csv        100%[===================>] 192.38K  --.-KB/s    in 0.003s  \n",
            "\n",
            "2022-11-14 02:26:50 (56.4 MB/s) - ‘dev_data.csv’ saved [196995/196995]\n",
            "\n"
          ]
        }
      ]
    },
    {
      "cell_type": "code",
      "source": [
        "df = pd.read_csv('/content/train_data.csv')\n",
        "df.head()"
      ],
      "metadata": {
        "id": "3Rc4S2qQ6cUd",
        "outputId": "17fa39a0-540f-4f1f-9ea3-97f4ad81a264",
        "colab": {
          "base_uri": "https://localhost:8080/",
          "height": 206
        }
      },
      "execution_count": null,
      "outputs": [
        {
          "output_type": "execute_result",
          "data": {
            "text/plain": [
              "                                               Tweet Offensive    Hate\n",
              "0  الحمدلله يارب فوز مهم يا زمالك.. كل الدعم ليكم...   NOT_OFF  NOT_HS\n",
              "1            فدوه يا بخت فدوه يا زمن واحد منكم يجيبه   NOT_OFF  NOT_HS\n",
              "2  RT @USER: يا رب يا واحد يا أحد بحق يوم الاحد ا...       OFF      HS\n",
              "3  RT @USER: #هوا_الحرية يا وجع قلبي عليكي يا امي...   NOT_OFF  NOT_HS\n",
              "4          يا بكون بحياتك الأهم يا إما ما بدي أكون 🎼   NOT_OFF  NOT_HS"
            ],
            "text/html": [
              "\n",
              "  <div id=\"df-76a45c91-e861-4a10-ba3a-7a64fd6fa657\">\n",
              "    <div class=\"colab-df-container\">\n",
              "      <div>\n",
              "<style scoped>\n",
              "    .dataframe tbody tr th:only-of-type {\n",
              "        vertical-align: middle;\n",
              "    }\n",
              "\n",
              "    .dataframe tbody tr th {\n",
              "        vertical-align: top;\n",
              "    }\n",
              "\n",
              "    .dataframe thead th {\n",
              "        text-align: right;\n",
              "    }\n",
              "</style>\n",
              "<table border=\"1\" class=\"dataframe\">\n",
              "  <thead>\n",
              "    <tr style=\"text-align: right;\">\n",
              "      <th></th>\n",
              "      <th>Tweet</th>\n",
              "      <th>Offensive</th>\n",
              "      <th>Hate</th>\n",
              "    </tr>\n",
              "  </thead>\n",
              "  <tbody>\n",
              "    <tr>\n",
              "      <th>0</th>\n",
              "      <td>الحمدلله يارب فوز مهم يا زمالك.. كل الدعم ليكم...</td>\n",
              "      <td>NOT_OFF</td>\n",
              "      <td>NOT_HS</td>\n",
              "    </tr>\n",
              "    <tr>\n",
              "      <th>1</th>\n",
              "      <td>فدوه يا بخت فدوه يا زمن واحد منكم يجيبه</td>\n",
              "      <td>NOT_OFF</td>\n",
              "      <td>NOT_HS</td>\n",
              "    </tr>\n",
              "    <tr>\n",
              "      <th>2</th>\n",
              "      <td>RT @USER: يا رب يا واحد يا أحد بحق يوم الاحد ا...</td>\n",
              "      <td>OFF</td>\n",
              "      <td>HS</td>\n",
              "    </tr>\n",
              "    <tr>\n",
              "      <th>3</th>\n",
              "      <td>RT @USER: #هوا_الحرية يا وجع قلبي عليكي يا امي...</td>\n",
              "      <td>NOT_OFF</td>\n",
              "      <td>NOT_HS</td>\n",
              "    </tr>\n",
              "    <tr>\n",
              "      <th>4</th>\n",
              "      <td>يا بكون بحياتك الأهم يا إما ما بدي أكون 🎼</td>\n",
              "      <td>NOT_OFF</td>\n",
              "      <td>NOT_HS</td>\n",
              "    </tr>\n",
              "  </tbody>\n",
              "</table>\n",
              "</div>\n",
              "      <button class=\"colab-df-convert\" onclick=\"convertToInteractive('df-76a45c91-e861-4a10-ba3a-7a64fd6fa657')\"\n",
              "              title=\"Convert this dataframe to an interactive table.\"\n",
              "              style=\"display:none;\">\n",
              "        \n",
              "  <svg xmlns=\"http://www.w3.org/2000/svg\" height=\"24px\"viewBox=\"0 0 24 24\"\n",
              "       width=\"24px\">\n",
              "    <path d=\"M0 0h24v24H0V0z\" fill=\"none\"/>\n",
              "    <path d=\"M18.56 5.44l.94 2.06.94-2.06 2.06-.94-2.06-.94-.94-2.06-.94 2.06-2.06.94zm-11 1L8.5 8.5l.94-2.06 2.06-.94-2.06-.94L8.5 2.5l-.94 2.06-2.06.94zm10 10l.94 2.06.94-2.06 2.06-.94-2.06-.94-.94-2.06-.94 2.06-2.06.94z\"/><path d=\"M17.41 7.96l-1.37-1.37c-.4-.4-.92-.59-1.43-.59-.52 0-1.04.2-1.43.59L10.3 9.45l-7.72 7.72c-.78.78-.78 2.05 0 2.83L4 21.41c.39.39.9.59 1.41.59.51 0 1.02-.2 1.41-.59l7.78-7.78 2.81-2.81c.8-.78.8-2.07 0-2.86zM5.41 20L4 18.59l7.72-7.72 1.47 1.35L5.41 20z\"/>\n",
              "  </svg>\n",
              "      </button>\n",
              "      \n",
              "  <style>\n",
              "    .colab-df-container {\n",
              "      display:flex;\n",
              "      flex-wrap:wrap;\n",
              "      gap: 12px;\n",
              "    }\n",
              "\n",
              "    .colab-df-convert {\n",
              "      background-color: #E8F0FE;\n",
              "      border: none;\n",
              "      border-radius: 50%;\n",
              "      cursor: pointer;\n",
              "      display: none;\n",
              "      fill: #1967D2;\n",
              "      height: 32px;\n",
              "      padding: 0 0 0 0;\n",
              "      width: 32px;\n",
              "    }\n",
              "\n",
              "    .colab-df-convert:hover {\n",
              "      background-color: #E2EBFA;\n",
              "      box-shadow: 0px 1px 2px rgba(60, 64, 67, 0.3), 0px 1px 3px 1px rgba(60, 64, 67, 0.15);\n",
              "      fill: #174EA6;\n",
              "    }\n",
              "\n",
              "    [theme=dark] .colab-df-convert {\n",
              "      background-color: #3B4455;\n",
              "      fill: #D2E3FC;\n",
              "    }\n",
              "\n",
              "    [theme=dark] .colab-df-convert:hover {\n",
              "      background-color: #434B5C;\n",
              "      box-shadow: 0px 1px 3px 1px rgba(0, 0, 0, 0.15);\n",
              "      filter: drop-shadow(0px 1px 2px rgba(0, 0, 0, 0.3));\n",
              "      fill: #FFFFFF;\n",
              "    }\n",
              "  </style>\n",
              "\n",
              "      <script>\n",
              "        const buttonEl =\n",
              "          document.querySelector('#df-76a45c91-e861-4a10-ba3a-7a64fd6fa657 button.colab-df-convert');\n",
              "        buttonEl.style.display =\n",
              "          google.colab.kernel.accessAllowed ? 'block' : 'none';\n",
              "\n",
              "        async function convertToInteractive(key) {\n",
              "          const element = document.querySelector('#df-76a45c91-e861-4a10-ba3a-7a64fd6fa657');\n",
              "          const dataTable =\n",
              "            await google.colab.kernel.invokeFunction('convertToInteractive',\n",
              "                                                     [key], {});\n",
              "          if (!dataTable) return;\n",
              "\n",
              "          const docLinkHtml = 'Like what you see? Visit the ' +\n",
              "            '<a target=\"_blank\" href=https://colab.research.google.com/notebooks/data_table.ipynb>data table notebook</a>'\n",
              "            + ' to learn more about interactive tables.';\n",
              "          element.innerHTML = '';\n",
              "          dataTable['output_type'] = 'display_data';\n",
              "          await google.colab.output.renderOutput(dataTable, element);\n",
              "          const docLink = document.createElement('div');\n",
              "          docLink.innerHTML = docLinkHtml;\n",
              "          element.appendChild(docLink);\n",
              "        }\n",
              "      </script>\n",
              "    </div>\n",
              "  </div>\n",
              "  "
            ]
          },
          "metadata": {},
          "execution_count": 3
        }
      ]
    },
    {
      "cell_type": "code",
      "metadata": {
        "id": "KmcNjsUNfbFN",
        "outputId": "e2a02b52-4afb-48aa-ff66-5ef425f4f6f4",
        "colab": {
          "base_uri": "https://localhost:8080/",
          "height": 206
        }
      },
      "source": [
        "train_data = pd.read_csv('/content/train_data.csv')\n",
        "train_data.head()"
      ],
      "execution_count": null,
      "outputs": [
        {
          "output_type": "execute_result",
          "data": {
            "text/plain": [
              "                                               Tweet Offensive    Hate\n",
              "0  الحمدلله يارب فوز مهم يا زمالك.. كل الدعم ليكم...   NOT_OFF  NOT_HS\n",
              "1            فدوه يا بخت فدوه يا زمن واحد منكم يجيبه   NOT_OFF  NOT_HS\n",
              "2  RT @USER: يا رب يا واحد يا أحد بحق يوم الاحد ا...       OFF      HS\n",
              "3  RT @USER: #هوا_الحرية يا وجع قلبي عليكي يا امي...   NOT_OFF  NOT_HS\n",
              "4          يا بكون بحياتك الأهم يا إما ما بدي أكون 🎼   NOT_OFF  NOT_HS"
            ],
            "text/html": [
              "\n",
              "  <div id=\"df-47d6d4bd-ae67-4e95-a917-914079d0975b\">\n",
              "    <div class=\"colab-df-container\">\n",
              "      <div>\n",
              "<style scoped>\n",
              "    .dataframe tbody tr th:only-of-type {\n",
              "        vertical-align: middle;\n",
              "    }\n",
              "\n",
              "    .dataframe tbody tr th {\n",
              "        vertical-align: top;\n",
              "    }\n",
              "\n",
              "    .dataframe thead th {\n",
              "        text-align: right;\n",
              "    }\n",
              "</style>\n",
              "<table border=\"1\" class=\"dataframe\">\n",
              "  <thead>\n",
              "    <tr style=\"text-align: right;\">\n",
              "      <th></th>\n",
              "      <th>Tweet</th>\n",
              "      <th>Offensive</th>\n",
              "      <th>Hate</th>\n",
              "    </tr>\n",
              "  </thead>\n",
              "  <tbody>\n",
              "    <tr>\n",
              "      <th>0</th>\n",
              "      <td>الحمدلله يارب فوز مهم يا زمالك.. كل الدعم ليكم...</td>\n",
              "      <td>NOT_OFF</td>\n",
              "      <td>NOT_HS</td>\n",
              "    </tr>\n",
              "    <tr>\n",
              "      <th>1</th>\n",
              "      <td>فدوه يا بخت فدوه يا زمن واحد منكم يجيبه</td>\n",
              "      <td>NOT_OFF</td>\n",
              "      <td>NOT_HS</td>\n",
              "    </tr>\n",
              "    <tr>\n",
              "      <th>2</th>\n",
              "      <td>RT @USER: يا رب يا واحد يا أحد بحق يوم الاحد ا...</td>\n",
              "      <td>OFF</td>\n",
              "      <td>HS</td>\n",
              "    </tr>\n",
              "    <tr>\n",
              "      <th>3</th>\n",
              "      <td>RT @USER: #هوا_الحرية يا وجع قلبي عليكي يا امي...</td>\n",
              "      <td>NOT_OFF</td>\n",
              "      <td>NOT_HS</td>\n",
              "    </tr>\n",
              "    <tr>\n",
              "      <th>4</th>\n",
              "      <td>يا بكون بحياتك الأهم يا إما ما بدي أكون 🎼</td>\n",
              "      <td>NOT_OFF</td>\n",
              "      <td>NOT_HS</td>\n",
              "    </tr>\n",
              "  </tbody>\n",
              "</table>\n",
              "</div>\n",
              "      <button class=\"colab-df-convert\" onclick=\"convertToInteractive('df-47d6d4bd-ae67-4e95-a917-914079d0975b')\"\n",
              "              title=\"Convert this dataframe to an interactive table.\"\n",
              "              style=\"display:none;\">\n",
              "        \n",
              "  <svg xmlns=\"http://www.w3.org/2000/svg\" height=\"24px\"viewBox=\"0 0 24 24\"\n",
              "       width=\"24px\">\n",
              "    <path d=\"M0 0h24v24H0V0z\" fill=\"none\"/>\n",
              "    <path d=\"M18.56 5.44l.94 2.06.94-2.06 2.06-.94-2.06-.94-.94-2.06-.94 2.06-2.06.94zm-11 1L8.5 8.5l.94-2.06 2.06-.94-2.06-.94L8.5 2.5l-.94 2.06-2.06.94zm10 10l.94 2.06.94-2.06 2.06-.94-2.06-.94-.94-2.06-.94 2.06-2.06.94z\"/><path d=\"M17.41 7.96l-1.37-1.37c-.4-.4-.92-.59-1.43-.59-.52 0-1.04.2-1.43.59L10.3 9.45l-7.72 7.72c-.78.78-.78 2.05 0 2.83L4 21.41c.39.39.9.59 1.41.59.51 0 1.02-.2 1.41-.59l7.78-7.78 2.81-2.81c.8-.78.8-2.07 0-2.86zM5.41 20L4 18.59l7.72-7.72 1.47 1.35L5.41 20z\"/>\n",
              "  </svg>\n",
              "      </button>\n",
              "      \n",
              "  <style>\n",
              "    .colab-df-container {\n",
              "      display:flex;\n",
              "      flex-wrap:wrap;\n",
              "      gap: 12px;\n",
              "    }\n",
              "\n",
              "    .colab-df-convert {\n",
              "      background-color: #E8F0FE;\n",
              "      border: none;\n",
              "      border-radius: 50%;\n",
              "      cursor: pointer;\n",
              "      display: none;\n",
              "      fill: #1967D2;\n",
              "      height: 32px;\n",
              "      padding: 0 0 0 0;\n",
              "      width: 32px;\n",
              "    }\n",
              "\n",
              "    .colab-df-convert:hover {\n",
              "      background-color: #E2EBFA;\n",
              "      box-shadow: 0px 1px 2px rgba(60, 64, 67, 0.3), 0px 1px 3px 1px rgba(60, 64, 67, 0.15);\n",
              "      fill: #174EA6;\n",
              "    }\n",
              "\n",
              "    [theme=dark] .colab-df-convert {\n",
              "      background-color: #3B4455;\n",
              "      fill: #D2E3FC;\n",
              "    }\n",
              "\n",
              "    [theme=dark] .colab-df-convert:hover {\n",
              "      background-color: #434B5C;\n",
              "      box-shadow: 0px 1px 3px 1px rgba(0, 0, 0, 0.15);\n",
              "      filter: drop-shadow(0px 1px 2px rgba(0, 0, 0, 0.3));\n",
              "      fill: #FFFFFF;\n",
              "    }\n",
              "  </style>\n",
              "\n",
              "      <script>\n",
              "        const buttonEl =\n",
              "          document.querySelector('#df-47d6d4bd-ae67-4e95-a917-914079d0975b button.colab-df-convert');\n",
              "        buttonEl.style.display =\n",
              "          google.colab.kernel.accessAllowed ? 'block' : 'none';\n",
              "\n",
              "        async function convertToInteractive(key) {\n",
              "          const element = document.querySelector('#df-47d6d4bd-ae67-4e95-a917-914079d0975b');\n",
              "          const dataTable =\n",
              "            await google.colab.kernel.invokeFunction('convertToInteractive',\n",
              "                                                     [key], {});\n",
              "          if (!dataTable) return;\n",
              "\n",
              "          const docLinkHtml = 'Like what you see? Visit the ' +\n",
              "            '<a target=\"_blank\" href=https://colab.research.google.com/notebooks/data_table.ipynb>data table notebook</a>'\n",
              "            + ' to learn more about interactive tables.';\n",
              "          element.innerHTML = '';\n",
              "          dataTable['output_type'] = 'display_data';\n",
              "          await google.colab.output.renderOutput(dataTable, element);\n",
              "          const docLink = document.createElement('div');\n",
              "          docLink.innerHTML = docLinkHtml;\n",
              "          element.appendChild(docLink);\n",
              "        }\n",
              "      </script>\n",
              "    </div>\n",
              "  </div>\n",
              "  "
            ]
          },
          "metadata": {},
          "execution_count": 4
        }
      ]
    },
    {
      "cell_type": "code",
      "metadata": {
        "id": "gS7-PdkVfuHT",
        "outputId": "2ecd8919-10cf-4031-cb01-3b19c905d3fa",
        "colab": {
          "base_uri": "https://localhost:8080/",
          "height": 206
        }
      },
      "source": [
        "dev_data = pd.read_csv('/content/dev_data.csv')\n",
        "dev_data.head()"
      ],
      "execution_count": null,
      "outputs": [
        {
          "output_type": "execute_result",
          "data": {
            "text/plain": [
              "                                               Tweet Offensive    Hate\n",
              "0  فى حاجات مينفعش نلفت نظركوا ليها زى الاصول كده...   NOT_OFF  NOT_HS\n",
              "1  RT @USER: وعيون تنادينا تحايل فينا و نقول يا ع...   NOT_OFF  NOT_HS\n",
              "2  يا بلادي يا أم البلاد يا بلادي بحبك يا مصر بحب...   NOT_OFF  NOT_HS\n",
              "3  RT @USER: يا رب يا قوي يا معين مدّني بالقوة و ...   NOT_OFF  NOT_HS\n",
              "4     RT @USER: رحمك الله يا صدام يا بطل ومقدام. URL   NOT_OFF  NOT_HS"
            ],
            "text/html": [
              "\n",
              "  <div id=\"df-ef2eb0c0-dcc7-4718-ac1c-0000f420a9e3\">\n",
              "    <div class=\"colab-df-container\">\n",
              "      <div>\n",
              "<style scoped>\n",
              "    .dataframe tbody tr th:only-of-type {\n",
              "        vertical-align: middle;\n",
              "    }\n",
              "\n",
              "    .dataframe tbody tr th {\n",
              "        vertical-align: top;\n",
              "    }\n",
              "\n",
              "    .dataframe thead th {\n",
              "        text-align: right;\n",
              "    }\n",
              "</style>\n",
              "<table border=\"1\" class=\"dataframe\">\n",
              "  <thead>\n",
              "    <tr style=\"text-align: right;\">\n",
              "      <th></th>\n",
              "      <th>Tweet</th>\n",
              "      <th>Offensive</th>\n",
              "      <th>Hate</th>\n",
              "    </tr>\n",
              "  </thead>\n",
              "  <tbody>\n",
              "    <tr>\n",
              "      <th>0</th>\n",
              "      <td>فى حاجات مينفعش نلفت نظركوا ليها زى الاصول كده...</td>\n",
              "      <td>NOT_OFF</td>\n",
              "      <td>NOT_HS</td>\n",
              "    </tr>\n",
              "    <tr>\n",
              "      <th>1</th>\n",
              "      <td>RT @USER: وعيون تنادينا تحايل فينا و نقول يا ع...</td>\n",
              "      <td>NOT_OFF</td>\n",
              "      <td>NOT_HS</td>\n",
              "    </tr>\n",
              "    <tr>\n",
              "      <th>2</th>\n",
              "      <td>يا بلادي يا أم البلاد يا بلادي بحبك يا مصر بحب...</td>\n",
              "      <td>NOT_OFF</td>\n",
              "      <td>NOT_HS</td>\n",
              "    </tr>\n",
              "    <tr>\n",
              "      <th>3</th>\n",
              "      <td>RT @USER: يا رب يا قوي يا معين مدّني بالقوة و ...</td>\n",
              "      <td>NOT_OFF</td>\n",
              "      <td>NOT_HS</td>\n",
              "    </tr>\n",
              "    <tr>\n",
              "      <th>4</th>\n",
              "      <td>RT @USER: رحمك الله يا صدام يا بطل ومقدام. URL</td>\n",
              "      <td>NOT_OFF</td>\n",
              "      <td>NOT_HS</td>\n",
              "    </tr>\n",
              "  </tbody>\n",
              "</table>\n",
              "</div>\n",
              "      <button class=\"colab-df-convert\" onclick=\"convertToInteractive('df-ef2eb0c0-dcc7-4718-ac1c-0000f420a9e3')\"\n",
              "              title=\"Convert this dataframe to an interactive table.\"\n",
              "              style=\"display:none;\">\n",
              "        \n",
              "  <svg xmlns=\"http://www.w3.org/2000/svg\" height=\"24px\"viewBox=\"0 0 24 24\"\n",
              "       width=\"24px\">\n",
              "    <path d=\"M0 0h24v24H0V0z\" fill=\"none\"/>\n",
              "    <path d=\"M18.56 5.44l.94 2.06.94-2.06 2.06-.94-2.06-.94-.94-2.06-.94 2.06-2.06.94zm-11 1L8.5 8.5l.94-2.06 2.06-.94-2.06-.94L8.5 2.5l-.94 2.06-2.06.94zm10 10l.94 2.06.94-2.06 2.06-.94-2.06-.94-.94-2.06-.94 2.06-2.06.94z\"/><path d=\"M17.41 7.96l-1.37-1.37c-.4-.4-.92-.59-1.43-.59-.52 0-1.04.2-1.43.59L10.3 9.45l-7.72 7.72c-.78.78-.78 2.05 0 2.83L4 21.41c.39.39.9.59 1.41.59.51 0 1.02-.2 1.41-.59l7.78-7.78 2.81-2.81c.8-.78.8-2.07 0-2.86zM5.41 20L4 18.59l7.72-7.72 1.47 1.35L5.41 20z\"/>\n",
              "  </svg>\n",
              "      </button>\n",
              "      \n",
              "  <style>\n",
              "    .colab-df-container {\n",
              "      display:flex;\n",
              "      flex-wrap:wrap;\n",
              "      gap: 12px;\n",
              "    }\n",
              "\n",
              "    .colab-df-convert {\n",
              "      background-color: #E8F0FE;\n",
              "      border: none;\n",
              "      border-radius: 50%;\n",
              "      cursor: pointer;\n",
              "      display: none;\n",
              "      fill: #1967D2;\n",
              "      height: 32px;\n",
              "      padding: 0 0 0 0;\n",
              "      width: 32px;\n",
              "    }\n",
              "\n",
              "    .colab-df-convert:hover {\n",
              "      background-color: #E2EBFA;\n",
              "      box-shadow: 0px 1px 2px rgba(60, 64, 67, 0.3), 0px 1px 3px 1px rgba(60, 64, 67, 0.15);\n",
              "      fill: #174EA6;\n",
              "    }\n",
              "\n",
              "    [theme=dark] .colab-df-convert {\n",
              "      background-color: #3B4455;\n",
              "      fill: #D2E3FC;\n",
              "    }\n",
              "\n",
              "    [theme=dark] .colab-df-convert:hover {\n",
              "      background-color: #434B5C;\n",
              "      box-shadow: 0px 1px 3px 1px rgba(0, 0, 0, 0.15);\n",
              "      filter: drop-shadow(0px 1px 2px rgba(0, 0, 0, 0.3));\n",
              "      fill: #FFFFFF;\n",
              "    }\n",
              "  </style>\n",
              "\n",
              "      <script>\n",
              "        const buttonEl =\n",
              "          document.querySelector('#df-ef2eb0c0-dcc7-4718-ac1c-0000f420a9e3 button.colab-df-convert');\n",
              "        buttonEl.style.display =\n",
              "          google.colab.kernel.accessAllowed ? 'block' : 'none';\n",
              "\n",
              "        async function convertToInteractive(key) {\n",
              "          const element = document.querySelector('#df-ef2eb0c0-dcc7-4718-ac1c-0000f420a9e3');\n",
              "          const dataTable =\n",
              "            await google.colab.kernel.invokeFunction('convertToInteractive',\n",
              "                                                     [key], {});\n",
              "          if (!dataTable) return;\n",
              "\n",
              "          const docLinkHtml = 'Like what you see? Visit the ' +\n",
              "            '<a target=\"_blank\" href=https://colab.research.google.com/notebooks/data_table.ipynb>data table notebook</a>'\n",
              "            + ' to learn more about interactive tables.';\n",
              "          element.innerHTML = '';\n",
              "          dataTable['output_type'] = 'display_data';\n",
              "          await google.colab.output.renderOutput(dataTable, element);\n",
              "          const docLink = document.createElement('div');\n",
              "          docLink.innerHTML = docLinkHtml;\n",
              "          element.appendChild(docLink);\n",
              "        }\n",
              "      </script>\n",
              "    </div>\n",
              "  </div>\n",
              "  "
            ]
          },
          "metadata": {},
          "execution_count": 5
        }
      ]
    },
    {
      "cell_type": "code",
      "metadata": {
        "id": "d8r2frbKft2I",
        "outputId": "7f53d75d-a8f6-4215-8fd9-3d7cb18dcb0b",
        "colab": {
          "base_uri": "https://localhost:8080/"
        }
      },
      "source": [
        "print(\"Train data shape:{} \\nDev data shape: {}\".format(train_data.shape,dev_data.shape))\n"
      ],
      "execution_count": null,
      "outputs": [
        {
          "output_type": "stream",
          "name": "stdout",
          "text": [
            "Train data shape:(7000, 3) \n",
            "Dev data shape: (1000, 3)\n"
          ]
        }
      ]
    },
    {
      "cell_type": "markdown",
      "metadata": {
        "id": "yoKuXMED7dLJ"
      },
      "source": [
        "### **Checking Missing Values**"
      ]
    },
    {
      "cell_type": "code",
      "metadata": {
        "id": "rkLxCSlIfto-",
        "outputId": "ab537e03-23b3-4456-f913-2d87a32cd7c1",
        "colab": {
          "base_uri": "https://localhost:8080/"
        }
      },
      "source": [
        "train_data.isnull().sum()"
      ],
      "execution_count": null,
      "outputs": [
        {
          "output_type": "execute_result",
          "data": {
            "text/plain": [
              "Tweet        0\n",
              "Offensive    0\n",
              "Hate         0\n",
              "dtype: int64"
            ]
          },
          "metadata": {},
          "execution_count": 7
        }
      ]
    },
    {
      "cell_type": "code",
      "metadata": {
        "id": "ZMruwp-Zf-1Z",
        "outputId": "6477c7bc-da68-45f4-9a79-7d82528fdf23",
        "colab": {
          "base_uri": "https://localhost:8080/"
        }
      },
      "source": [
        "dev_data.isnull().sum()"
      ],
      "execution_count": null,
      "outputs": [
        {
          "output_type": "execute_result",
          "data": {
            "text/plain": [
              "Tweet        0\n",
              "Offensive    0\n",
              "Hate         0\n",
              "dtype: int64"
            ]
          },
          "metadata": {},
          "execution_count": 8
        }
      ]
    },
    {
      "cell_type": "markdown",
      "metadata": {
        "id": "BGlLuRWq8Lqm"
      },
      "source": [
        "There are no missing values in both train and dev dataset."
      ]
    },
    {
      "cell_type": "markdown",
      "metadata": {
        "id": "pRpVxuuo8cGg"
      },
      "source": [
        "### **HS class distribution in train and dev dataset**"
      ]
    },
    {
      "cell_type": "code",
      "metadata": {
        "id": "SXZNNukLgwAe",
        "outputId": "edca3ef5-c67c-40c3-d4db-164ef0d98b5f",
        "colab": {
          "base_uri": "https://localhost:8080/"
        }
      },
      "source": [
        "train_data['Hate'].value_counts()"
      ],
      "execution_count": null,
      "outputs": [
        {
          "output_type": "execute_result",
          "data": {
            "text/plain": [
              "NOT_HS    6639\n",
              "HS         361\n",
              "Name: Hate, dtype: int64"
            ]
          },
          "metadata": {},
          "execution_count": 9
        }
      ]
    },
    {
      "cell_type": "code",
      "metadata": {
        "id": "tHJkIE6JhHVU",
        "outputId": "3c7fb8e6-efea-4803-ff7a-7a704d201058",
        "colab": {
          "base_uri": "https://localhost:8080/",
          "height": 264
        }
      },
      "source": [
        "# Data to plot\n",
        "labels = 'NOT_HS', 'HS'\n",
        "sizes = [train_data['Hate'].value_counts()[0], train_data['Hate'].value_counts()[1]]\n",
        "colors = ['lightskyblue', 'yellow']\n",
        "explode = (0,0.2)  # explode 1st slice\n",
        "\n",
        "# Plot\n",
        "plt.pie(sizes, explode=explode, labels=labels, colors=colors,\n",
        "autopct='%1.1f%%', shadow=True, startangle=140)\n",
        "\n",
        "plt.axis('equal')\n",
        "plt.title(\"Train Data\")\n",
        "plt.show()"
      ],
      "execution_count": null,
      "outputs": [
        {
          "output_type": "display_data",
          "data": {
            "text/plain": [
              "<Figure size 432x288 with 1 Axes>"
            ],
            "image/png": "[encoded data removed]"
          },
          "metadata": {}
        }
      ]
    },
    {
      "cell_type": "markdown",
      "metadata": {
        "id": "ZIG8M1tI9hB2"
      },
      "source": [
        "*   There are 7,000 training tweets, only 361 of them (5.2%) are labelled as hate speech. "
      ]
    },
    {
      "cell_type": "code",
      "metadata": {
        "id": "7HNQQinugvnQ",
        "outputId": "012ccb4f-c6d0-4928-8ed2-e510c2d7805d",
        "colab": {
          "base_uri": "https://localhost:8080/"
        }
      },
      "source": [
        "dev_data['Hate'].value_counts()"
      ],
      "execution_count": null,
      "outputs": [
        {
          "output_type": "execute_result",
          "data": {
            "text/plain": [
              "NOT_HS    956\n",
              "HS         44\n",
              "Name: Hate, dtype: int64"
            ]
          },
          "metadata": {},
          "execution_count": 11
        }
      ]
    },
    {
      "cell_type": "code",
      "metadata": {
        "id": "1-xUPCvGjk2-",
        "outputId": "531bde3b-c37a-4f6c-a62b-2c6ec2686f49",
        "colab": {
          "base_uri": "https://localhost:8080/",
          "height": 264
        }
      },
      "source": [
        "# Data to plot\n",
        "labels = 'NOT_HS', 'HS'\n",
        "sizes = [dev_data['Hate'].value_counts()[0], dev_data['Hate'].value_counts()[1]]\n",
        "colors = ['lightskyblue', 'yellow']\n",
        "explode = (0,0.2)  # explode 1st slice\n",
        "\n",
        "# Plot\n",
        "plt.pie(sizes, explode=explode, labels=labels, colors=colors,\n",
        "autopct='%1.1f%%', shadow=True, startangle=140)\n",
        "\n",
        "plt.axis('equal')\n",
        "plt.title(\"Dev Data\")\n",
        "plt.show()"
      ],
      "execution_count": null,
      "outputs": [
        {
          "output_type": "display_data",
          "data": {
            "text/plain": [
              "<Figure size 432x288 with 1 Axes>"
            ],
            "image/png": "[encoded data removed]"
          },
          "metadata": {}
        }
      ]
    },
    {
      "cell_type": "markdown",
      "metadata": {
        "id": "0NyIvVnD8vGZ"
      },
      "source": [
        "*   There are 1,000 dev tweets, only 44 of them (4.4%) are labelled as hate speech.\n",
        "\n",
        "**This shows how the two classes in the dataset are clearly imbalanced.** "
      ]
    },
    {
      "cell_type": "markdown",
      "metadata": {
        "id": "GOjj6XvckTSB"
      },
      "source": [
        "# 2. Data Cleaning\n",
        "To prepare our dataset for the feature extraction process, basic text preprocessing is done as follows:"
      ]
    },
    {
      "cell_type": "code",
      "metadata": {
        "id": "cTEWf1FbyXxu"
      },
      "source": [
        "def clean(df):\n",
        "    df = remove_diacritics(df)\n",
        "    df = normalize_arabic(df)\n",
        "    df = remove_punctuations(df)\n",
        "    df = remove_repeating_char(df)\n",
        "    df= remove_english_word_and_numbers(df)\n",
        "    df=clean_space(df)\n",
        "    return df"
      ],
      "execution_count": null,
      "outputs": []
    },
    {
      "cell_type": "code",
      "metadata": {
        "id": "3Y2ur_EkyeQy"
      },
      "source": [
        "arabic_punctuations = '''`÷« »×؛<>٩٨'٧٦٥٤٣٢١٠_()↗*•&^%][ـ،/:\"؟.,'{}⋮≈~¦+|٪!”…“–ـ/[]%=#*+\\\\•~@£·_{}©^®`→°€™›♥←×§″′Â█à…“★”–●â►−¢¬░¶↑±▾\t═¦║―¥▓—‹─▒：⊕▼▪†■’▀¨▄♫☆é¯♦¤▲è¸Ã⋅‘∞∙）↓、│（»，♪╩╚³・╦╣╔╗▬❤ïØ¹≤‡₹´'''\n",
        "english_punctuations = string.punctuation\n",
        "punctuations_list = arabic_punctuations + english_punctuations\n",
        "\n",
        "arabic_diacritics = re.compile(\"\"\"\n",
        "                             ّ    | # Tashdid\n",
        "                             َ    | # Fatha\n",
        "                             ً    | # Tanwin Fath\n",
        "                             ُ    | # Damma\n",
        "                             ٌ    | # Tanwin Damm\n",
        "                             ِ    | # Kasra\n",
        "                             ٍ    | # Tanwin Kasr\n",
        "                             ْ    | # Sukun\n",
        "                             ـ     # Tatwil/Kashida\n",
        "                         \"\"\", re.VERBOSE)\n"
      ],
      "execution_count": null,
      "outputs": []
    },
    {
      "cell_type": "code",
      "metadata": {
        "id": "ODlY489hyuNN"
      },
      "source": [
        "def remove_diacritics(df):\n",
        "    df['Tweet'] = df['Tweet'].apply(lambda x: _remove_diacritics(x))\n",
        "    return df\n",
        "def _remove_diacritics(x):\n",
        "    x = str(x)\n",
        "    x = re.sub(arabic_diacritics, '', x)\n",
        "    return x\n",
        "\n",
        "def normalize_arabic(df):\n",
        "    df['Tweet'] = df['Tweet'].apply(lambda x: _normalize_arabic(x))\n",
        "    return df\n",
        "def _normalize_arabic(x):\n",
        "    x = str(x)\n",
        "    # added space around puncts after replace\n",
        "    x = re.sub(\"[إأآا]\", \"ا\", x)\n",
        "    x = re.sub(\"ى\", \"ي\", x)\n",
        "    x = re.sub(\"ؤ\", \"ء\", x)\n",
        "    x = re.sub(\"ئ\", \"ء\", x)\n",
        "    x = re.sub(\"ة\", \"ه\", x)\n",
        "    x = re.sub(\"گ\", \"ك\", x)\n",
        "    return x\n",
        "\n",
        "def remove_punctuations(df):\n",
        "    df['Tweet'] = df['Tweet'].apply(lambda x: _remove_punctuations(x))\n",
        "    return df\n",
        "def _remove_punctuations(x):\n",
        "    x = str(x)\n",
        "    #translator = str.maketrans(' ', ' ', punctuations_list)\n",
        "    translator = str.maketrans(punctuations_list, ' '*len(punctuations_list))\n",
        "    return x.translate(translator)\n",
        "\n",
        "def remove_repeating_char(df):\n",
        "    df['Tweet'] = df['Tweet'].apply(lambda x: _remove_repeating_char(x))\n",
        "    return df\n",
        "def _remove_repeating_char(x):\n",
        "    x = str(x)\n",
        "    return re.sub(r'(.)\\1+', r'\\1', x)\n",
        "\n",
        "def remove_english_word_and_numbers(df):\n",
        "    df['Tweet'] = df['Tweet'].apply(lambda x: _remove_english_word_and_numbers(x))\n",
        "    return df\n",
        "def _remove_english_word_and_numbers(x):\n",
        "    x = str(x)\n",
        "    return re.sub(r'[a-zA-Z0-9]+', '', x)\n",
        "\n",
        "def clean_space(df):\n",
        "    compiled_re = re.compile(r\"\\s+\")\n",
        "    df['Tweet'] = df[\"Tweet\"].apply(lambda x: _clean_space(x, compiled_re))\n",
        "    return df\n",
        "def _clean_space(x, compiled_re):\n",
        "    return compiled_re.sub(\" \", x)\n"
      ],
      "execution_count": null,
      "outputs": []
    },
    {
      "cell_type": "code",
      "metadata": {
        "id": "CqmgO_XDzILE"
      },
      "source": [
        "num_cores = 2\n",
        "def df_parallelize_run(df, func, num_cores=2):\n",
        "    df_split = np.array_split(df, num_cores)\n",
        "    pool = Pool(num_cores)\n",
        "    df = pd.concat(pool.map(func, df_split))\n",
        "    pool.close()\n",
        "    pool.join()\n",
        "    return df"
      ],
      "execution_count": null,
      "outputs": []
    },
    {
      "cell_type": "code",
      "metadata": {
        "id": "m870svOszLGn"
      },
      "source": [
        "train_data_cleaned = df_parallelize_run(train_data, clean)"
      ],
      "execution_count": null,
      "outputs": []
    },
    {
      "cell_type": "code",
      "metadata": {
        "id": "iIKDeUdtzWxt"
      },
      "source": [
        "dev_data_cleaned = df_parallelize_run(dev_data, clean)"
      ],
      "execution_count": null,
      "outputs": []
    },
    {
      "cell_type": "markdown",
      "metadata": {
        "id": "eBYS-8uTznar"
      },
      "source": [
        "# 3. Classical Machine Learning Algorithms with tf- idf\n",
        "We experimented with various classical machine learning models:\n",
        "\n",
        "1.  SVM\n",
        "2.  Random Forest\n",
        "3.  XGBoost\n",
        "4.  Extra Trees\n",
        "5.  Decision Trees\n",
        "6.  Gradient Boosting\n",
        "7.  Logistic Regression\n",
        "\n",
        "\n",
        "\n",
        "\n",
        "\n",
        "\n",
        "\n"
      ]
    },
    {
      "cell_type": "code",
      "metadata": {
        "id": "SoS1I5G1I6bB"
      },
      "source": [
        "from sklearn.feature_extraction.text import CountVectorizer, TfidfTransformer"
      ],
      "execution_count": null,
      "outputs": []
    },
    {
      "cell_type": "code",
      "metadata": {
        "id": "wTn4UNFMKQUb"
      },
      "source": [
        "#dataset = pd.read_csv('/content/drive/My Drive/OSACT4/train_data_cleaned.csv')\n",
        "dataset = train_data_cleaned"
      ],
      "execution_count": null,
      "outputs": []
    },
    {
      "cell_type": "code",
      "metadata": {
        "id": "lcxWn8RAJpTI"
      },
      "source": [
        "x=dataset.iloc[:,0]\n",
        "y=dataset.iloc[:,2]\n",
        "X=x.to_dict()\n",
        "\n",
        "X=[]\n",
        "for d in range(len(x)):\n",
        "    b=x[d]\n",
        "    X.append(b) "
      ],
      "execution_count": null,
      "outputs": []
    },
    {
      "cell_type": "code",
      "metadata": {
        "id": "4zxndc1XKlsJ"
      },
      "source": [
        "count_vect=CountVectorizer()\n",
        "X_train_counts=count_vect.fit_transform(X)\n",
        "tfidf_transformer = TfidfTransformer()\n",
        "X_train_tfidf = tfidf_transformer.fit_transform(X_train_counts)\n",
        "X_train_tfidf= X_train_tfidf.toarray()"
      ],
      "execution_count": null,
      "outputs": []
    },
    {
      "cell_type": "code",
      "metadata": {
        "id": "BmDn9ggoP848",
        "outputId": "69a3086e-5f01-4467-b8f3-d904edcb5e07",
        "colab": {
          "base_uri": "https://localhost:8080/"
        }
      },
      "source": [
        "print(X_train_tfidf.shape)"
      ],
      "execution_count": null,
      "outputs": [
        {
          "output_type": "stream",
          "name": "stdout",
          "text": [
            "(7000, 28701)\n"
          ]
        }
      ]
    },
    {
      "cell_type": "markdown",
      "metadata": {
        "id": "bDZe9r5lmTLi"
      },
      "source": [
        "\n",
        "## SVM Classifier"
      ]
    },
    {
      "cell_type": "code",
      "metadata": {
        "id": "GHjD4YI0K7I3",
        "colab": {
          "base_uri": "https://localhost:8080/"
        },
        "outputId": "2fdc730c-07a3-4569-b98b-727882be2c12"
      },
      "source": [
        "from sklearn.svm import SVC\n",
        "clf= SVC(random_state = 0)\n",
        "clf.fit(X_train_tfidf, y)\n",
        "clf.score(X_train_tfidf, y)"
      ],
      "execution_count": null,
      "outputs": [
        {
          "output_type": "execute_result",
          "data": {
            "text/plain": [
              "0.975"
            ]
          },
          "metadata": {},
          "execution_count": 24
        }
      ]
    },
    {
      "cell_type": "code",
      "metadata": {
        "id": "MUevBk3jLSsh"
      },
      "source": [
        "dev_data = pd.read_csv('/content/drive/My Drive/OSACT4/dev_data_cleaned.csv')\n"
      ],
      "execution_count": null,
      "outputs": []
    },
    {
      "cell_type": "code",
      "metadata": {
        "id": "pY-Vle45PZnD"
      },
      "source": [
        "x_dev=dev_data.iloc[:,0]\n",
        "y_dev=dev_data.iloc[:,2]\n",
        "#X=x_dev.to_dict()\n",
        "\n",
        "X=[]\n",
        "for d in range(len(x)):\n",
        "    b=x[d].lower()\n",
        "    X.append(b)  "
      ],
      "execution_count": null,
      "outputs": []
    },
    {
      "cell_type": "code",
      "metadata": {
        "id": "uotO18mPPotP"
      },
      "source": [
        "X_dev_tfidf=count_vect.transform(x_dev)\n"
      ],
      "execution_count": null,
      "outputs": []
    },
    {
      "cell_type": "code",
      "metadata": {
        "id": "uVUXXgPQQTt0"
      },
      "source": [
        "y_pred=clf.predict(X_dev_tfidf)"
      ],
      "execution_count": null,
      "outputs": []
    },
    {
      "cell_type": "code",
      "metadata": {
        "id": "DohnKD7m3Fvs",
        "outputId": "131ab59e-3aec-486b-f120-739bbf196909",
        "colab": {
          "base_uri": "https://localhost:8080/",
          "height": 232
        }
      },
      "source": [
        "print(creport(y_dev, y_pred,target_names=['HS', 'NOT_HS'],digits=4))\n"
      ],
      "execution_count": null,
      "outputs": [
        {
          "output_type": "stream",
          "text": [
            "              precision    recall  f1-score   support\n",
            "\n",
            "          HS     0.0000    0.0000    0.0000        44\n",
            "      NOT_HS     0.9560    1.0000    0.9775       956\n",
            "\n",
            "    accuracy                         0.9560      1000\n",
            "   macro avg     0.4780    0.5000    0.4888      1000\n",
            "weighted avg     0.9139    0.9560    0.9345      1000\n",
            "\n"
          ],
          "name": "stdout"
        },
        {
          "output_type": "stream",
          "text": [
            "/usr/local/lib/python3.6/dist-packages/sklearn/metrics/_classification.py:1272: UndefinedMetricWarning: Precision and F-score are ill-defined and being set to 0.0 in labels with no predicted samples. Use `zero_division` parameter to control this behavior.\n",
            "  _warn_prf(average, modifier, msg_start, len(result))\n"
          ],
          "name": "stderr"
        }
      ]
    },
    {
      "cell_type": "markdown",
      "metadata": {
        "id": "bYJqH--qhCF1"
      },
      "source": [
        "## Random Forest Classifier\n"
      ]
    },
    {
      "cell_type": "code",
      "metadata": {
        "id": "-XFPHAeCjhJA"
      },
      "source": [
        "from sklearn import model_selection, naive_bayes, svm, ensemble, tree\n",
        "from xgboost import XGBClassifier\n"
      ],
      "execution_count": null,
      "outputs": []
    },
    {
      "cell_type": "code",
      "metadata": {
        "id": "Txx3mRTFuN6P",
        "outputId": "764719f3-2109-4509-bb05-86af69fab1d8",
        "colab": {
          "base_uri": "https://localhost:8080/",
          "height": 34
        }
      },
      "source": [
        "RF= ensemble.RandomForestClassifier()\n",
        "RF.fit(X_train_tfidf, y)\n",
        "RF.score(X_train_tfidf, y)"
      ],
      "execution_count": null,
      "outputs": [
        {
          "output_type": "execute_result",
          "data": {
            "text/plain": [
              "1.0"
            ]
          },
          "metadata": {
            "tags": []
          },
          "execution_count": 22
        }
      ]
    },
    {
      "cell_type": "code",
      "metadata": {
        "id": "uOaZqwLBjqJH"
      },
      "source": [
        "x_dev=dev_data.iloc[:,0]\n",
        "y_dev=dev_data.iloc[:,2]\n",
        "X=x_dev.to_dict()\n",
        "\n",
        "X=[]\n",
        "for d in range(len(x)):\n",
        "    b=x[d].lower()\n",
        "    X.append(b)\n",
        "\n",
        "X_dev_tfidff=count_vect.transform(x_dev)\n",
        "y_pred=RF.predict(X_dev_tfidf)"
      ],
      "execution_count": null,
      "outputs": []
    },
    {
      "cell_type": "code",
      "metadata": {
        "id": "ZGDgqxbP3LJl",
        "outputId": "1254d452-5b78-4eda-ec44-1a234cc32e13",
        "colab": {
          "base_uri": "https://localhost:8080/",
          "height": 176
        }
      },
      "source": [
        "print(creport(y_dev, y_pred,target_names=['HS', 'NOT_HS'] ,digits=4))\n"
      ],
      "execution_count": null,
      "outputs": [
        {
          "output_type": "stream",
          "text": [
            "              precision    recall  f1-score   support\n",
            "\n",
            "          HS     0.9000    0.2045    0.3333        44\n",
            "      NOT_HS     0.9646    0.9990    0.9815       956\n",
            "\n",
            "    accuracy                         0.9640      1000\n",
            "   macro avg     0.9323    0.6017    0.6574      1000\n",
            "weighted avg     0.9618    0.9640    0.9530      1000\n",
            "\n"
          ],
          "name": "stdout"
        }
      ]
    },
    {
      "cell_type": "markdown",
      "metadata": {
        "id": "g4VBK6MVj4GX"
      },
      "source": [
        "## XGB Classifier"
      ]
    },
    {
      "cell_type": "code",
      "metadata": {
        "id": "LJGcctCZjw9s",
        "outputId": "c7324ca2-8ac4-4175-89bc-7ef5ce511fe2",
        "colab": {
          "base_uri": "https://localhost:8080/",
          "height": 34
        }
      },
      "source": [
        "XGB= XGBClassifier()\n",
        "XGB.fit(X_train_tfidf, y)\n",
        "XGB.score(X_train_tfidf, y)"
      ],
      "execution_count": null,
      "outputs": [
        {
          "output_type": "execute_result",
          "data": {
            "text/plain": [
              "0.9554285714285714"
            ]
          },
          "metadata": {
            "tags": []
          },
          "execution_count": 27
        }
      ]
    },
    {
      "cell_type": "code",
      "metadata": {
        "id": "cfnPh1m-j8wP"
      },
      "source": [
        "x_dev=dev_data.iloc[:,0]\n",
        "y_dev=dev_data.iloc[:,2]\n",
        "X=x_dev.to_dict()\n",
        "\n",
        "X=[]\n",
        "for d in range(len(x)):\n",
        "    b=x[d].lower()\n",
        "    X.append(b)\n",
        "\n",
        "X_dev_tfidf=count_vect.transform(x_dev)\n",
        "y_pred=XGB.predict(X_dev_tfidf)"
      ],
      "execution_count": null,
      "outputs": []
    },
    {
      "cell_type": "code",
      "metadata": {
        "id": "FkWs38Wz3Msv",
        "outputId": "bfd5f059-05dc-4dc4-cd98-40f10a32a9f7",
        "colab": {
          "base_uri": "https://localhost:8080/",
          "height": 232
        }
      },
      "source": [
        "print(creport(y_dev, y_pred,target_names=['HS', 'NOT_HS'],digits=4))\n"
      ],
      "execution_count": null,
      "outputs": [
        {
          "output_type": "stream",
          "text": [
            "              precision    recall  f1-score   support\n",
            "\n",
            "          HS     0.0000    0.0000    0.0000        44\n",
            "      NOT_HS     0.9560    1.0000    0.9775       956\n",
            "\n",
            "    accuracy                         0.9560      1000\n",
            "   macro avg     0.4780    0.5000    0.4888      1000\n",
            "weighted avg     0.9139    0.9560    0.9345      1000\n",
            "\n"
          ],
          "name": "stdout"
        },
        {
          "output_type": "stream",
          "text": [
            "/usr/local/lib/python3.6/dist-packages/sklearn/metrics/_classification.py:1272: UndefinedMetricWarning: Precision and F-score are ill-defined and being set to 0.0 in labels with no predicted samples. Use `zero_division` parameter to control this behavior.\n",
            "  _warn_prf(average, modifier, msg_start, len(result))\n"
          ],
          "name": "stderr"
        }
      ]
    },
    {
      "cell_type": "markdown",
      "metadata": {
        "id": "aRTKKteNkVgq"
      },
      "source": [
        "##Extra Trees Classifier"
      ]
    },
    {
      "cell_type": "code",
      "metadata": {
        "id": "dnfip-aPkPLt",
        "outputId": "b981ab38-7e3e-439e-9c3f-19288dabc0f8",
        "colab": {
          "base_uri": "https://localhost:8080/",
          "height": 34
        }
      },
      "source": [
        "extrees= ensemble.ExtraTreesClassifier()\n",
        "extrees.fit(X_train_tfidf, y)\n",
        "extrees.score(X_train_tfidf, y)"
      ],
      "execution_count": null,
      "outputs": [
        {
          "output_type": "execute_result",
          "data": {
            "text/plain": [
              "1.0"
            ]
          },
          "metadata": {
            "tags": []
          },
          "execution_count": 33
        }
      ]
    },
    {
      "cell_type": "code",
      "metadata": {
        "id": "rqGUDRq0kYQj"
      },
      "source": [
        "x_dev=dev_data.iloc[:,0]\n",
        "y_dev=dev_data.iloc[:,2]\n",
        "X=x_dev.to_dict()\n",
        "\n",
        "X=[]\n",
        "for d in range(len(x)):\n",
        "    b=x[d].lower()\n",
        "    X.append(b)\n",
        "\n",
        "X_dev_tfidf=count_vect.transform(x_dev)\n",
        "y_pred=extrees.predict(X_dev_tfidf)"
      ],
      "execution_count": null,
      "outputs": []
    },
    {
      "cell_type": "code",
      "metadata": {
        "id": "rodaGaRo3Oel",
        "outputId": "363fb7d8-983e-4805-c60f-512675d90f2b",
        "colab": {
          "base_uri": "https://localhost:8080/",
          "height": 176
        }
      },
      "source": [
        "print(creport(y_dev, y_pred,target_names=['HS', 'NOT_HS'],digits=4))\n"
      ],
      "execution_count": null,
      "outputs": [
        {
          "output_type": "stream",
          "text": [
            "              precision    recall  f1-score   support\n",
            "\n",
            "          HS     0.6667    0.2727    0.3871        44\n",
            "      NOT_HS     0.9674    0.9937    0.9804       956\n",
            "\n",
            "    accuracy                         0.9620      1000\n",
            "   macro avg     0.8170    0.6332    0.6837      1000\n",
            "weighted avg     0.9542    0.9620    0.9543      1000\n",
            "\n"
          ],
          "name": "stdout"
        }
      ]
    },
    {
      "cell_type": "markdown",
      "metadata": {
        "id": "pjmL4pjmk2nN"
      },
      "source": [
        "## Decision Tree Classifier"
      ]
    },
    {
      "cell_type": "code",
      "metadata": {
        "id": "8p440U3zkt72",
        "outputId": "a4f8a27f-a603-4303-95d5-6b5b20862981",
        "colab": {
          "base_uri": "https://localhost:8080/",
          "height": 34
        }
      },
      "source": [
        "DTC= tree.DecisionTreeClassifier()\n",
        "DTC.fit(X_train_tfidf, y)\n",
        "DTC.score(X_train_tfidf, y)"
      ],
      "execution_count": null,
      "outputs": [
        {
          "output_type": "execute_result",
          "data": {
            "text/plain": [
              "1.0"
            ]
          },
          "metadata": {
            "tags": []
          },
          "execution_count": 36
        }
      ]
    },
    {
      "cell_type": "code",
      "metadata": {
        "id": "OBKWjj3KlUaE"
      },
      "source": [
        "x_dev=dev_data.iloc[:,0]\n",
        "y_dev=dev_data.iloc[:,2]\n",
        "X=x_dev.to_dict()\n",
        "\n",
        "X=[]\n",
        "for d in range(len(x)):\n",
        "    b=x[d].lower()\n",
        "    X.append(b)\n",
        "\n",
        "X_dev_tfidf=count_vect.transform(x_dev)\n",
        "y_pred=DTC.predict(X_dev_tfidf)"
      ],
      "execution_count": null,
      "outputs": []
    },
    {
      "cell_type": "code",
      "metadata": {
        "id": "XKVzPHvyleXf",
        "outputId": "66649b05-03b1-46ad-aa42-6bb8862b6957",
        "colab": {
          "base_uri": "https://localhost:8080/",
          "height": 176
        }
      },
      "source": [
        "print(creport(y_dev, y_pred,target_names=['HS', 'NOT_HS'],digits=4))\n"
      ],
      "execution_count": null,
      "outputs": [
        {
          "output_type": "stream",
          "text": [
            "              precision    recall  f1-score   support\n",
            "\n",
            "          HS     0.1565    0.4091    0.2264        44\n",
            "      NOT_HS     0.9706    0.8985    0.9332       956\n",
            "\n",
            "    accuracy                         0.8770      1000\n",
            "   macro avg     0.5636    0.6538    0.5798      1000\n",
            "weighted avg     0.9348    0.8770    0.9021      1000\n",
            "\n"
          ],
          "name": "stdout"
        }
      ]
    },
    {
      "cell_type": "markdown",
      "metadata": {
        "id": "7oeQU0BQmDlR"
      },
      "source": [
        "## Gradient Boosting Classifier"
      ]
    },
    {
      "cell_type": "code",
      "metadata": {
        "id": "zPRVertul-z4",
        "outputId": "4aeda6c3-eab9-4bb2-a5a0-7e6d7ca45064",
        "colab": {
          "base_uri": "https://localhost:8080/",
          "height": 34
        }
      },
      "source": [
        "GBC= ensemble.GradientBoostingClassifier()\n",
        "GBC.fit(X_train_tfidf, y)\n",
        "GBC.score(X_train_tfidf, y)"
      ],
      "execution_count": null,
      "outputs": [
        {
          "output_type": "execute_result",
          "data": {
            "text/plain": [
              "0.9628571428571429"
            ]
          },
          "metadata": {
            "tags": []
          },
          "execution_count": 40
        }
      ]
    },
    {
      "cell_type": "code",
      "metadata": {
        "id": "ZexBEzkkmAjk"
      },
      "source": [
        "x_dev=dev_data.iloc[:,0]\n",
        "y_dev=dev_data.iloc[:,2]\n",
        "X=x_dev.to_dict()\n",
        "\n",
        "X=[]\n",
        "for d in range(len(x)):\n",
        "    b=x[d].lower()\n",
        "    X.append(b)\n",
        "\n",
        "X_dev_tfidf=count_vect.transform(x_dev)\n",
        "y_pred=GBC.predict(X_dev_tfidf)"
      ],
      "execution_count": null,
      "outputs": []
    },
    {
      "cell_type": "code",
      "metadata": {
        "id": "pnKvNSXKmAwl",
        "outputId": "7bb6e40d-5b37-4fc6-f672-1c034d53a4c1",
        "colab": {
          "base_uri": "https://localhost:8080/",
          "height": 176
        }
      },
      "source": [
        "print(creport(y_dev, y_pred,target_names=['HS', 'NOT_HS'],digits=4))\n"
      ],
      "execution_count": null,
      "outputs": [
        {
          "output_type": "stream",
          "text": [
            "              precision    recall  f1-score   support\n",
            "\n",
            "          HS     0.8182    0.2045    0.3273        44\n",
            "      NOT_HS     0.9646    0.9979    0.9810       956\n",
            "\n",
            "    accuracy                         0.9630      1000\n",
            "   macro avg     0.8914    0.6012    0.6541      1000\n",
            "weighted avg     0.9582    0.9630    0.9522      1000\n",
            "\n"
          ],
          "name": "stdout"
        }
      ]
    },
    {
      "cell_type": "markdown",
      "metadata": {
        "id": "jfkZiMViTRk4"
      },
      "source": [
        "## Logistic Regression Classifier"
      ]
    },
    {
      "cell_type": "code",
      "metadata": {
        "id": "1dm__bipRfAQ"
      },
      "source": [
        "from sklearn import linear_model"
      ],
      "execution_count": null,
      "outputs": []
    },
    {
      "cell_type": "code",
      "metadata": {
        "id": "oS49ikeRsVcM",
        "outputId": "80b4ff92-7b59-4a0b-84f7-1281fa0dbccf",
        "colab": {
          "base_uri": "https://localhost:8080/",
          "height": 34
        }
      },
      "source": [
        "LR= linear_model.LogisticRegression()\n",
        "LR.fit(X_train_tfidf, y)\n",
        "LR.score(X_train_tfidf, y)"
      ],
      "execution_count": null,
      "outputs": [
        {
          "output_type": "execute_result",
          "data": {
            "text/plain": [
              "0.9484285714285714"
            ]
          },
          "metadata": {
            "tags": []
          },
          "execution_count": 46
        }
      ]
    },
    {
      "cell_type": "code",
      "metadata": {
        "id": "exECcudzsi03"
      },
      "source": [
        "x_dev=dev_data.iloc[:,0]\n",
        "y_dev=dev_data.iloc[:,2]\n",
        "X=x_dev.to_dict()\n",
        "\n",
        "X=[]\n",
        "for d in range(len(x)):\n",
        "    b=x[d].lower()\n",
        "    X.append(b)"
      ],
      "execution_count": null,
      "outputs": []
    },
    {
      "cell_type": "code",
      "metadata": {
        "id": "MOkqzXv5slhb"
      },
      "source": [
        "X_dev_tfidf=count_vect.transform(x_dev)\n"
      ],
      "execution_count": null,
      "outputs": []
    },
    {
      "cell_type": "code",
      "metadata": {
        "id": "vcXyRIf6snrv"
      },
      "source": [
        "y_pred=LR.predict(X_dev_tfidf)\n"
      ],
      "execution_count": null,
      "outputs": []
    },
    {
      "cell_type": "code",
      "metadata": {
        "outputId": "de02a805-386f-4947-e835-1cd30ab24100",
        "id": "V6ad1wJrZenL",
        "colab": {
          "base_uri": "https://localhost:8080/",
          "height": 176
        }
      },
      "source": [
        "print(creport(y_dev, y_pred,target_names=['HS', 'NOT_HS'],digits=4))\n"
      ],
      "execution_count": null,
      "outputs": [
        {
          "output_type": "stream",
          "text": [
            "              precision    recall  f1-score   support\n",
            "\n",
            "          HS     0.3750    0.0682    0.1154        44\n",
            "      NOT_HS     0.9587    0.9948    0.9764       956\n",
            "\n",
            "    accuracy                         0.9540      1000\n",
            "   macro avg     0.6668    0.5315    0.5459      1000\n",
            "weighted avg     0.9330    0.9540    0.9385      1000\n",
            "\n"
          ],
          "name": "stdout"
        }
      ]
    },
    {
      "cell_type": "markdown",
      "source": [
        "### Testing with our data"
      ],
      "metadata": {
        "id": "m2xIbrBOSljl"
      }
    },
    {
      "cell_type": "code",
      "source": [
        "## Load data and apply cleaning functions above then try the models for prediction"
      ],
      "metadata": {
        "id": "g7ITBViFSn9K"
      },
      "execution_count": null,
      "outputs": []
    }
  ]
}