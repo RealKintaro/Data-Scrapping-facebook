{
 "cells": [
  {
   "cell_type": "code",
   "execution_count": 1,
   "metadata": {},
   "outputs": [],
   "source": [
    "# import libraries\n",
    "import pandas as pd\n",
    "import numpy as np\n",
    "import matplotlib.pyplot as plt\n",
    "from sklearn.feature_extraction.text import CountVectorizer\n",
    "from sklearn.decomposition import LatentDirichletAllocation"
   ]
  },
  {
   "cell_type": "code",
   "execution_count": 8,
   "metadata": {},
   "outputs": [
    {
     "data": {
      "text/html": [
       "<div>\n",
       "<style scoped>\n",
       "    .dataframe tbody tr th:only-of-type {\n",
       "        vertical-align: middle;\n",
       "    }\n",
       "\n",
       "    .dataframe tbody tr th {\n",
       "        vertical-align: top;\n",
       "    }\n",
       "\n",
       "    .dataframe thead th {\n",
       "        text-align: right;\n",
       "    }\n",
       "</style>\n",
       "<table border=\"1\" class=\"dataframe\">\n",
       "  <thead>\n",
       "    <tr style=\"text-align: right;\">\n",
       "      <th></th>\n",
       "      <th>Comment</th>\n",
       "      <th>is_off</th>\n",
       "    </tr>\n",
       "  </thead>\n",
       "  <tbody>\n",
       "    <tr>\n",
       "      <th>0</th>\n",
       "      <td>شوف حد ين*** أنت و إيران.</td>\n",
       "      <td>1</td>\n",
       "    </tr>\n",
       "    <tr>\n",
       "      <th>1</th>\n",
       "      <td>شوف تيفي قوداتها مع الجن غي بلاتي يجي من مكة</td>\n",
       "      <td>0</td>\n",
       "    </tr>\n",
       "    <tr>\n",
       "      <th>2</th>\n",
       "      <td>عجب يتفاوظون على شعوب عربية وعليهم وهىلا تعلم</td>\n",
       "      <td>0</td>\n",
       "    </tr>\n",
       "    <tr>\n",
       "      <th>3</th>\n",
       "      <td>ههههههه هاد شوف تيفي اللي حطت عليه مشا فيها</td>\n",
       "      <td>0</td>\n",
       "    </tr>\n",
       "    <tr>\n",
       "      <th>4</th>\n",
       "      <td>الرزق يأتي من حيث لا تدري 🙌🏻❤️</td>\n",
       "      <td>0</td>\n",
       "    </tr>\n",
       "  </tbody>\n",
       "</table>\n",
       "</div>"
      ],
      "text/plain": [
       "                                         Comment  is_off\n",
       "0                      شوف حد ين*** أنت و إيران.       1\n",
       "1   شوف تيفي قوداتها مع الجن غي بلاتي يجي من مكة       0\n",
       "2  عجب يتفاوظون على شعوب عربية وعليهم وهىلا تعلم       0\n",
       "3    ههههههه هاد شوف تيفي اللي حطت عليه مشا فيها       0\n",
       "4                الرزق يأتي من حيث لا تدري 🙌🏻❤️        0"
      ]
     },
     "execution_count": 8,
     "metadata": {},
     "output_type": "execute_result"
    }
   ],
   "source": [
    "data = pd.read_csv('../DataSet/offensive_dataset.csv', encoding='utf-16')\n",
    "data.head()"
   ]
  },
  {
   "cell_type": "code",
   "execution_count": 9,
   "metadata": {},
   "outputs": [
    {
     "data": {
      "text/plain": [
       "1    7000\n",
       "0    7000\n",
       "Name: is_off, dtype: int64"
      ]
     },
     "execution_count": 9,
     "metadata": {},
     "output_type": "execute_result"
    }
   ],
   "source": [
    "# count of target classes\n",
    "data['is_off'].value_counts()\n"
   ]
  },
  {
   "cell_type": "code",
   "execution_count": 10,
   "metadata": {},
   "outputs": [
    {
     "data": {
      "text/html": [
       "<div>\n",
       "<style scoped>\n",
       "    .dataframe tbody tr th:only-of-type {\n",
       "        vertical-align: middle;\n",
       "    }\n",
       "\n",
       "    .dataframe tbody tr th {\n",
       "        vertical-align: top;\n",
       "    }\n",
       "\n",
       "    .dataframe thead th {\n",
       "        text-align: right;\n",
       "    }\n",
       "</style>\n",
       "<table border=\"1\" class=\"dataframe\">\n",
       "  <thead>\n",
       "    <tr style=\"text-align: right;\">\n",
       "      <th></th>\n",
       "      <th>Comment</th>\n",
       "      <th>is_off</th>\n",
       "    </tr>\n",
       "  </thead>\n",
       "  <tbody>\n",
       "    <tr>\n",
       "      <th>0</th>\n",
       "      <td>شوف حد ين*** أنت و إيران.</td>\n",
       "      <td>1</td>\n",
       "    </tr>\n",
       "    <tr>\n",
       "      <th>5</th>\n",
       "      <td>دخلو سوق كركم \\nشوفو شكون مكتب عليكم تعيشو عبي...</td>\n",
       "      <td>1</td>\n",
       "    </tr>\n",
       "    <tr>\n",
       "      <th>6</th>\n",
       "      <td>@User.IDX لسسه امبارح بحذركو من ولاد الجزمه في...</td>\n",
       "      <td>1</td>\n",
       "    </tr>\n",
       "    <tr>\n",
       "      <th>8</th>\n",
       "      <td>الله يعفو عليها مسكينة دغيا طارو بها سصحاب الح...</td>\n",
       "      <td>1</td>\n",
       "    </tr>\n",
       "    <tr>\n",
       "      <th>9</th>\n",
       "      <td>تفو شحااال حامضة هاد سعيييدة...معرفت علاه كيجي...</td>\n",
       "      <td>1</td>\n",
       "    </tr>\n",
       "  </tbody>\n",
       "</table>\n",
       "</div>"
      ],
      "text/plain": [
       "                                             Comment  is_off\n",
       "0                          شوف حد ين*** أنت و إيران.       1\n",
       "5  دخلو سوق كركم \\nشوفو شكون مكتب عليكم تعيشو عبي...       1\n",
       "6  @User.IDX لسسه امبارح بحذركو من ولاد الجزمه في...       1\n",
       "8  الله يعفو عليها مسكينة دغيا طارو بها سصحاب الح...       1\n",
       "9  تفو شحااال حامضة هاد سعيييدة...معرفت علاه كيجي...       1"
      ]
     },
     "execution_count": 10,
     "metadata": {},
     "output_type": "execute_result"
    }
   ],
   "source": [
    "# get the data with target = 1 (offensive)\n",
    "offensive_data = data[data['is_off'] == 1]\n",
    "offensive_data.head()\n"
   ]
  },
  {
   "cell_type": "code",
   "execution_count": 11,
   "metadata": {},
   "outputs": [],
   "source": [
    "import string\n",
    "import re\n",
    "import nltk"
   ]
  },
  {
   "cell_type": "code",
   "execution_count": 12,
   "metadata": {},
   "outputs": [],
   "source": [
    "arabic_stopwords = set(nltk.corpus.stopwords.words(\"arabic\"))\n",
    "\n",
    "arabic_diacritics = re.compile(\"\"\"\n",
    "                             ّ    | # Tashdid\n",
    "                             َ    | # Fatha\n",
    "                             ً    | # Tanwin Fath\n",
    "                             ُ    | # Damma\n",
    "                             ٌ    | # Tanwin Damm\n",
    "                             ِ    | # Kasra\n",
    "                             ٍ    | # Tanwin Kasr\n",
    "                             ْ    | # Sukun\n",
    "                             ـ     # Tatwil/Kashida\n",
    "                         \"\"\", re.VERBOSE)\n",
    "\n",
    "arabic_punctuations = '''`÷×؛<>_()*&^%][ـ،/:\"؟.,'{}~¦+|!”…“–ـ'''\n",
    "english_punctuations = string.punctuation\n",
    "punctuations = arabic_punctuations + english_punctuations\n",
    "\n",
    "\n",
    "def remove_urls (text):\n",
    "    text = re.sub(r'(https|http)?:\\/\\/(\\w|\\.|\\/|\\?|\\=|\\&|\\%)*\\b', '', text, flags=re.MULTILINE)\n",
    "    return text\n",
    "\n",
    "\n",
    "def remove_emails(text):\n",
    "    text = re.sub(r\"(^[a-zA-Z0-9_.+-]+@[a-zA-Z0-9-]+\\.[a-zA-Z0-9-.]+$)\", \"\",  text, flags=re.MULTILINE)\n",
    "    return text\n",
    "\n",
    "# def remove_emoji(text):\n",
    "#     return emoji.get_emoji_regexp().sub(u'', text)\n",
    "\n",
    "def remove_emoji(data):\n",
    "    emoj = re.compile(\"[\"\n",
    "        u\"\\U0001F600-\\U0001F64F\"  # emoticons\n",
    "        u\"\\U0001F300-\\U0001F5FF\"  # symbols & pictographs\n",
    "        u\"\\U0001F680-\\U0001F6FF\"  # transport & map symbols\n",
    "        u\"\\U0001F1E0-\\U0001F1FF\"  # flags (iOS)\n",
    "        u\"\\U00002500-\\U00002BEF\"  # chinese char\n",
    "        u\"\\U00002702-\\U000027B0\"\n",
    "        u\"\\U00002702-\\U000027B0\"\n",
    "        u\"\\U000024C2-\\U0001F251\"\n",
    "        u\"\\U0001f926-\\U0001f937\"\n",
    "        u\"\\U00010000-\\U0010ffff\"\n",
    "        u\"\\u2640-\\u2642\" \n",
    "        u\"\\u2600-\\u2B55\"\n",
    "        u\"\\u200d\"\n",
    "        u\"\\u23cf\"\n",
    "        u\"\\u23e9\"\n",
    "        u\"\\u231a\"\n",
    "        u\"\\ufe0f\"  # dingbats\n",
    "        u\"\\u3030\"\n",
    "                      \"]+\", re.UNICODE)\n",
    "    return re.sub(emoj, '', data)\n",
    "\n",
    "def normalization(text):\n",
    "    text = re.sub(\"[إأآا]\", \"ا\", text)\n",
    "    text = re.sub(\"ى\", \"ي\", text)\n",
    "    text = re.sub(\"ؤ\", \"ء\", text)\n",
    "    text = re.sub(\"ئ\", \"ء\", text)\n",
    "    text = re.sub(\"ة\", \"ه\", text)\n",
    "    text = re.sub(\"گ\", \"ك\", text)\n",
    "    return text\n",
    "\n",
    "def remove_diacritics(text):\n",
    "    text = re.sub(arabic_diacritics, '', text)\n",
    "    return text\n",
    "\n",
    "def remove_stopwords(text):\n",
    "    filtered_sentence = [w for w in text.split() if not w in arabic_stopwords]\n",
    "    return ' '.join(filtered_sentence)\n",
    "\n",
    "def cleaning_content(line):\n",
    "    if (isinstance(line, float)):\n",
    "        return None\n",
    "    line.replace('\\n', ' ')\n",
    "    line = remove_emails(line)\n",
    "    line = remove_urls(line)\n",
    "    line = remove_emoji(line)\n",
    "    nline = [w if '@' not in w else 'USERID' for w in line.split()]\n",
    "    line = ' '.join(nline)\n",
    "    line = line.replace('RT', '').replace('<LF>', '').replace('<br />','').replace('&quot;', '').replace('<url>', '').replace('USERID', '')\n",
    "\n",
    "\n",
    "    # add spaces between punc,\n",
    "    line = line.translate(str.maketrans({key: \" {0} \".format(key) for key in punctuations}))\n",
    "\n",
    "    # then remove punc,\n",
    "    translator = str.maketrans('', '', punctuations)\n",
    "    line = line.translate(translator)\n",
    "\n",
    "    line = remove_stopwords(line)\n",
    "    line=remove_diacritics(normalization(line))\n",
    "    return line\n",
    "\n",
    "def hasDigits(s):\n",
    "    return any( 48 <= ord(char) <= 57  or 1632 <= ord(char) <= 1641 for char in s)\n"
   ]
  },
  {
   "cell_type": "code",
   "execution_count": 13,
   "metadata": {},
   "outputs": [
    {
     "name": "stderr",
     "output_type": "stream",
     "text": [
      "C:\\Users\\makch\\AppData\\Local\\Temp\\ipykernel_12600\\845588348.py:1: SettingWithCopyWarning: \n",
      "A value is trying to be set on a copy of a slice from a DataFrame.\n",
      "Try using .loc[row_indexer,col_indexer] = value instead\n",
      "\n",
      "See the caveats in the documentation: https://pandas.pydata.org/pandas-docs/stable/user_guide/indexing.html#returning-a-view-versus-a-copy\n",
      "  offensive_data.Comment = offensive_data.Comment.apply(cleaning_content)\n"
     ]
    }
   ],
   "source": [
    "offensive_data.Comment = offensive_data.Comment.apply(cleaning_content)"
   ]
  },
  {
   "cell_type": "code",
   "execution_count": 26,
   "metadata": {},
   "outputs": [
    {
     "name": "stderr",
     "output_type": "stream",
     "text": [
      "c:\\Users\\makch\\AppData\\Local\\Programs\\Python\\Python38\\lib\\site-packages\\sklearn\\feature_extraction\\text.py:396: UserWarning: Your stop_words may be inconsistent with your preprocessing. Tokenizing the stop words generated tokens ['آمين', 'أب', 'أخ', 'أفعل', 'أفعله', 'ؤلاء', 'إل', 'إم', 'ات', 'اتان', 'ارتد', 'ان', 'انفك', 'برح', 'تان', 'تبد', 'تحو', 'تعل', 'حد', 'حم', 'حي', 'خب', 'ذار', 'سيما', 'صه', 'ظل', 'ظن', 'عد', 'قط', 'مر', 'مكان', 'مكانكن', 'نب', 'هات', 'هب', 'واها', 'وراء'] not in stop_words.\n",
      "  warnings.warn(\n"
     ]
    },
    {
     "name": "stdout",
     "output_type": "stream",
     "text": [
      "11669\n"
     ]
    },
    {
     "name": "stderr",
     "output_type": "stream",
     "text": [
      "c:\\Users\\makch\\AppData\\Local\\Programs\\Python\\Python38\\lib\\site-packages\\sklearn\\utils\\deprecation.py:87: FutureWarning: Function get_feature_names is deprecated; get_feature_names is deprecated in 1.0 and will be removed in 1.2. Please use get_feature_names_out instead.\n",
      "  warnings.warn(msg, category=FutureWarning)\n"
     ]
    }
   ],
   "source": [
    "cv = CountVectorizer(max_df=0.95, min_df=2, stop_words=arabic_stopwords)\n",
    "dtm = cv.fit_transform(offensive_data['Comment'])\n",
    "\n",
    "feature_names = cv.get_feature_names()\n",
    "print(len(feature_names))"
   ]
  },
  {
   "cell_type": "code",
   "execution_count": 28,
   "metadata": {},
   "outputs": [
    {
     "data": {
      "text/plain": [
       "LatentDirichletAllocation(max_iter=100, n_components=5, n_jobs=-1,\n",
       "                          random_state=42)"
      ]
     },
     "execution_count": 28,
     "metadata": {},
     "output_type": "execute_result"
    }
   ],
   "source": [
    "LDA_model = LatentDirichletAllocation(n_components= 5, random_state=42 , max_iter=100, n_jobs=-1)\n",
    "\n",
    "LDA_model.fit(dtm)"
   ]
  },
  {
   "cell_type": "code",
   "execution_count": 36,
   "metadata": {},
   "outputs": [
    {
     "name": "stdout",
     "output_type": "stream",
     "text": [
      "THE TOP 20 WORDS FOR TOPIC #0\n"
     ]
    },
    {
     "name": "stderr",
     "output_type": "stream",
     "text": [
      "c:\\Users\\makch\\AppData\\Local\\Programs\\Python\\Python38\\lib\\site-packages\\sklearn\\utils\\deprecation.py:87: FutureWarning: Function get_feature_names is deprecated; get_feature_names is deprecated in 1.0 and will be removed in 1.2. Please use get_feature_names_out instead.\n",
      "  warnings.warn(msg, category=FutureWarning)\n"
     ]
    },
    {
     "name": "stdout",
     "output_type": "stream",
     "text": [
      "['قبح', 'الحق', 'البرتوش', 'تعالي', 'ديال', 'او', 'قال', 'يوم', 'يقول', 'حول', 'قناه', 'قوه', 'والله', 'بالله', 'الناس', 'الجزيره', 'الي', 'ان', 'الا', 'الله']\n",
      "\n",
      "\n",
      "THE TOP 20 WORDS FOR TOPIC #1\n",
      "['علي', 'والله', 'داعش', 'اليمن', 'سوريا', 'او', 'انه', 'قتل', 'يعني', 'انت', 'الي', 'قناه', 'السعوديه', 'مصر', 'قطر', 'الشعب', 'الجزيره', 'ايران', 'الله', 'ان']\n",
      "\n",
      "\n",
      "THE TOP 20 WORDS FOR TOPIC #2\n",
      "['ان', 'اش', 'هاذ', 'الخدمه', 'دوله', 'محمد', 'السعوديه', 'اختي', 'جهنم', 'الدوله', 'اللهم', 'الاسلاميه', 'الا', 'العرب', 'لله', 'اكبر', 'الاسلام', 'الي', 'او', 'الله']\n",
      "\n",
      "\n",
      "THE TOP 20 WORDS FOR TOPIC #3\n",
      "['ليك', 'اللي', 'شوف', 'باش', 'اش', 'والله', 'انا', 'او', 'ماشي', 'ديال', 'سير', 'واش', 'ديالك', 'يعطيك', 'راه', 'شي', 'تفو', 'بنت', 'هاد', 'الله']\n",
      "\n",
      "\n",
      "THE TOP 20 WORDS FOR TOPIC #4\n",
      "['منهم', 'فابور', 'امريكا', 'انا', 'لماذا', 'اهل', 'انك', 'العربيه', 'اللي', 'اللهم', 'السيسي', 'المغرب', 'الا', 'مصر', 'العرب', 'او', 'اي', 'انت', 'الي', 'ان']\n",
      "\n",
      "\n"
     ]
    }
   ],
   "source": [
    "for i, topic in enumerate(LDA_model.components_):\n",
    "    print(\"THE TOP {} WORDS FOR TOPIC #{}\".format(20, i))\n",
    "    print([cv.get_feature_names()[index] for index in topic.argsort()[-20:]])\n",
    "    print(\"\\n\")"
   ]
  },
  {
   "cell_type": "code",
   "execution_count": 30,
   "metadata": {},
   "outputs": [
    {
     "name": "stderr",
     "output_type": "stream",
     "text": [
      "C:\\Users\\makch\\AppData\\Local\\Temp\\ipykernel_12600\\3345567195.py:3: SettingWithCopyWarning: \n",
      "A value is trying to be set on a copy of a slice from a DataFrame.\n",
      "Try using .loc[row_indexer,col_indexer] = value instead\n",
      "\n",
      "See the caveats in the documentation: https://pandas.pydata.org/pandas-docs/stable/user_guide/indexing.html#returning-a-view-versus-a-copy\n",
      "  offensive_data['Topic'] = final_topic.argmax(axis=1)\n"
     ]
    },
    {
     "data": {
      "text/html": [
       "<div>\n",
       "<style scoped>\n",
       "    .dataframe tbody tr th:only-of-type {\n",
       "        vertical-align: middle;\n",
       "    }\n",
       "\n",
       "    .dataframe tbody tr th {\n",
       "        vertical-align: top;\n",
       "    }\n",
       "\n",
       "    .dataframe thead th {\n",
       "        text-align: right;\n",
       "    }\n",
       "</style>\n",
       "<table border=\"1\" class=\"dataframe\">\n",
       "  <thead>\n",
       "    <tr style=\"text-align: right;\">\n",
       "      <th></th>\n",
       "      <th>Comment</th>\n",
       "      <th>is_off</th>\n",
       "      <th>Topic</th>\n",
       "    </tr>\n",
       "  </thead>\n",
       "  <tbody>\n",
       "    <tr>\n",
       "      <th>0</th>\n",
       "      <td>شوف حد ايران</td>\n",
       "      <td>1</td>\n",
       "      <td>3</td>\n",
       "    </tr>\n",
       "    <tr>\n",
       "      <th>5</th>\n",
       "      <td>دخلو سوق كركم شوفو شكون مكتب عليكم تعيشو عبيد ...</td>\n",
       "      <td>1</td>\n",
       "      <td>2</td>\n",
       "    </tr>\n",
       "    <tr>\n",
       "      <th>6</th>\n",
       "      <td>لسسه امبارح بحذركو ولاد الجزمه فيفي ولاد شرموط...</td>\n",
       "      <td>1</td>\n",
       "      <td>1</td>\n",
       "    </tr>\n",
       "    <tr>\n",
       "      <th>8</th>\n",
       "      <td>الله يعفو عليها مسكينه دغيا طارو سصحاب الحسنات...</td>\n",
       "      <td>1</td>\n",
       "      <td>3</td>\n",
       "    </tr>\n",
       "    <tr>\n",
       "      <th>9</th>\n",
       "      <td>تفو شحااال حامضه هاد سعيييده معرفت علاه كيجيبو...</td>\n",
       "      <td>1</td>\n",
       "      <td>3</td>\n",
       "    </tr>\n",
       "  </tbody>\n",
       "</table>\n",
       "</div>"
      ],
      "text/plain": [
       "                                             Comment  is_off  Topic\n",
       "0                                       شوف حد ايران       1      3\n",
       "5  دخلو سوق كركم شوفو شكون مكتب عليكم تعيشو عبيد ...       1      2\n",
       "6  لسسه امبارح بحذركو ولاد الجزمه فيفي ولاد شرموط...       1      1\n",
       "8  الله يعفو عليها مسكينه دغيا طارو سصحاب الحسنات...       1      3\n",
       "9  تفو شحااال حامضه هاد سعيييده معرفت علاه كيجيبو...       1      3"
      ]
     },
     "execution_count": 30,
     "metadata": {},
     "output_type": "execute_result"
    }
   ],
   "source": [
    "final_topic = LDA_model.transform(dtm)\n",
    "\n",
    "offensive_data['Topic'] = final_topic.argmax(axis=1)\n",
    "\n",
    "offensive_data.head()"
   ]
  },
  {
   "cell_type": "code",
   "execution_count": 33,
   "metadata": {},
   "outputs": [
    {
     "data": {
      "text/html": [
       "<div>\n",
       "<style scoped>\n",
       "    .dataframe tbody tr th:only-of-type {\n",
       "        vertical-align: middle;\n",
       "    }\n",
       "\n",
       "    .dataframe tbody tr th {\n",
       "        vertical-align: top;\n",
       "    }\n",
       "\n",
       "    .dataframe thead th {\n",
       "        text-align: right;\n",
       "    }\n",
       "</style>\n",
       "<table border=\"1\" class=\"dataframe\">\n",
       "  <thead>\n",
       "    <tr style=\"text-align: right;\">\n",
       "      <th></th>\n",
       "      <th>Comment</th>\n",
       "      <th>is_off</th>\n",
       "      <th>Topic</th>\n",
       "    </tr>\n",
       "  </thead>\n",
       "  <tbody>\n",
       "    <tr>\n",
       "      <th>24</th>\n",
       "      <td></td>\n",
       "      <td>1</td>\n",
       "      <td>0</td>\n",
       "    </tr>\n",
       "    <tr>\n",
       "      <th>29</th>\n",
       "      <td>التقيه دين الرافضه لذلك العب غيرها ههههه</td>\n",
       "      <td>1</td>\n",
       "      <td>0</td>\n",
       "    </tr>\n",
       "    <tr>\n",
       "      <th>51</th>\n",
       "      <td>فساد صارخ زاءد ظلم فادح يفرخ ارهاب عفوي يمكن ت...</td>\n",
       "      <td>1</td>\n",
       "      <td>0</td>\n",
       "    </tr>\n",
       "    <tr>\n",
       "      <th>65</th>\n",
       "      <td>الله كدب حلوف حلوفه الغيس</td>\n",
       "      <td>1</td>\n",
       "      <td>0</td>\n",
       "    </tr>\n",
       "    <tr>\n",
       "      <th>106</th>\n",
       "      <td>بشعب يتعاطف زانيه قول كلنا ليلي يقبح زوجه محام...</td>\n",
       "      <td>1</td>\n",
       "      <td>0</td>\n",
       "    </tr>\n",
       "  </tbody>\n",
       "</table>\n",
       "</div>"
      ],
      "text/plain": [
       "                                               Comment  is_off  Topic\n",
       "24                                                           1      0\n",
       "29            التقيه دين الرافضه لذلك العب غيرها ههههه       1      0\n",
       "51   فساد صارخ زاءد ظلم فادح يفرخ ارهاب عفوي يمكن ت...       1      0\n",
       "65                           الله كدب حلوف حلوفه الغيس       1      0\n",
       "106  بشعب يتعاطف زانيه قول كلنا ليلي يقبح زوجه محام...       1      0"
      ]
     },
     "execution_count": 33,
     "metadata": {},
     "output_type": "execute_result"
    }
   ],
   "source": [
    "# select the comments with topic 0\n",
    "topic_0 = offensive_data[offensive_data['Topic'] == 0]\n",
    "topic_0.head()\n"
   ]
  },
  {
   "cell_type": "code",
   "execution_count": 35,
   "metadata": {},
   "outputs": [
    {
     "data": {
      "text/plain": [
       "(716, 3)"
      ]
     },
     "execution_count": 35,
     "metadata": {},
     "output_type": "execute_result"
    }
   ],
   "source": [
    "\n",
    "topic_0.shape\n"
   ]
  },
  {
   "cell_type": "code",
   "execution_count": 31,
   "metadata": {},
   "outputs": [
    {
     "name": "stderr",
     "output_type": "stream",
     "text": [
      "c:\\Users\\makch\\AppData\\Local\\Programs\\Python\\Python38\\lib\\site-packages\\sklearn\\utils\\deprecation.py:87: FutureWarning: Function get_feature_names is deprecated; get_feature_names is deprecated in 1.0 and will be removed in 1.2. Please use get_feature_names_out instead.\n",
      "  warnings.warn(msg, category=FutureWarning)\n",
      "C:\\Users\\makch\\AppData\\Roaming\\Python\\Python38\\site-packages\\pyLDAvis\\_prepare.py:246: FutureWarning: In a future version of pandas all arguments of DataFrame.drop except for the argument 'labels' will be keyword-only.\n",
      "  default_term_info = default_term_info.sort_values(\n",
      "c:\\Users\\makch\\AppData\\Local\\Programs\\Python\\Python38\\lib\\site-packages\\sklearn\\manifold\\_t_sne.py:780: FutureWarning: The default initialization in TSNE will change from 'random' to 'pca' in 1.2.\n",
      "  warnings.warn(\n",
      "c:\\Users\\makch\\AppData\\Local\\Programs\\Python\\Python38\\lib\\site-packages\\sklearn\\manifold\\_t_sne.py:790: FutureWarning: The default learning rate in TSNE will change from 200.0 to 'auto' in 1.2.\n",
      "  warnings.warn(\n",
      "c:\\Users\\makch\\AppData\\Local\\Programs\\Python\\Python38\\lib\\site-packages\\sklearn\\manifold\\_t_sne.py:819: FutureWarning: 'square_distances' has been introduced in 0.24 to help phase out legacy squaring behavior. The 'legacy' setting will be removed in 1.1 (renaming of 0.26), and the default setting will be changed to True. In 1.3, 'square_distances' will be removed altogether, and distances will be squared by default. Set 'square_distances'=True to silence this warning.\n",
      "  warnings.warn(\n"
     ]
    },
    {
     "data": {
      "text/html": [
       "\n",
       "<link rel=\"stylesheet\" type=\"text/css\" href=\"https://cdn.jsdelivr.net/gh/bmabey/pyLDAvis@3.3.1/pyLDAvis/js/ldavis.v1.0.0.css\">\n",
       "\n",
       "\n",
       "<div id=\"ldavis_el126002086782140304558708317\"></div>\n",
       "<script type=\"text/javascript\">\n",
       "\n",
       "var ldavis_el126002086782140304558708317_data = {\"mdsDat\": {\"x\": [150.22215270996094, 51.16336441040039, -73.1445541381836, -66.4101333618164, 54.41732406616211], \"y\": [-72.2695541381836, -159.968017578125, 21.523815155029297, -110.60643768310547, 12.44344425201416], \"topics\": [1, 2, 3, 4, 5], \"cluster\": [1, 1, 1, 1, 1], \"Freq\": [41.49183333998803, 17.234560724023794, 15.702615501465534, 13.302414304268433, 12.268576130254202]}, \"tinfo\": {\"Term\": [\"\\u0627\\u0644\\u0644\\u0647\", \"\\u0647\\u0627\\u062f\", \"\\u062a\\u0641\\u0648\", \"\\u0634\\u064a\", \"\\u0627\\u0646\", \"\\u0631\\u0627\\u0647\", \"\\u0628\\u0646\\u062a\", \"\\u064a\\u0639\\u0637\\u064a\\u0643\", \"\\u062f\\u064a\\u0627\\u0644\\u0643\", \"\\u0648\\u0627\\u0634\", \"\\u0633\\u064a\\u0631\", \"\\u0627\\u064a\\u0631\\u0627\\u0646\", \"\\u0627\\u0644\\u062c\\u0632\\u064a\\u0631\\u0647\", \"\\u0628\\u0627\\u0634\", \"\\u0634\\u0648\\u0641\", \"\\u0627\\u0644\\u0627\\u0633\\u0644\\u0627\\u0645\", \"\\u0645\\u0627\\u0634\\u064a\", \"\\u0644\\u0644\\u0647\", \"\\u0627\\u0646\\u062a\", \"\\u0642\\u0637\\u0631\", \"\\u0627\\u0643\\u0628\\u0631\", \"\\u0627\\u0644\\u0639\\u0631\\u0628\", \"\\u0645\\u0635\\u0631\", \"\\u062f\\u064a\\u0627\\u0644\", \"\\u0628\\u062d\\u0627\\u0644\", \"\\u0627\\u0644\\u0634\\u0639\\u0628\", \"\\u0627\\u0644\\u0633\\u0639\\u0648\\u062f\\u064a\\u0647\", \"\\u0631\\u0628\\u064a\", \"\\u0627\\u0644\\u0645\\u063a\\u0631\\u0628\", \"\\u0631\\u0627\\u062c\\u0644\", \"\\u062a\\u0641\\u0648\", \"\\u0634\\u064a\", \"\\u0631\\u0627\\u0647\", \"\\u064a\\u0639\\u0637\\u064a\\u0643\", \"\\u062f\\u064a\\u0627\\u0644\\u0643\", \"\\u0648\\u0627\\u0634\", \"\\u0633\\u064a\\u0631\", \"\\u0628\\u0627\\u0634\", \"\\u0634\\u0648\\u0641\", \"\\u063a\\u0627\\u062f\\u064a\", \"\\u0647\\u062f\", \"\\u0631\\u0627\\u0643\", \"\\u0645\\u0639\\u0627\\u0647\", \"\\u0647\\u0627\\u062f\\u0634\\u064a\", \"\\u0644\\u064a\\u0627\", \"\\u0644\\u064a\\u0647\\u0627\", \"\\u062f\\u0627\\u0643\", \"\\u0645\\u0633\\u0643\\u064a\\u0646\\u0647\", \"\\u0627\\u0644\\u0642\\u0646\\u0627\\u0647\", \"\\u0627\\u0644\\u0632\\u0628\\u0644\", \"\\u0627\\u0644\\u062d\\u0628\\u0633\", \"\\u0645\\u0639\\u0627\\u0643\", \"\\u064a\\u0627\\u0631\\u0628\\u064a\", \"\\u0643\\u0644\\u0634\\u064a\", \"\\u0628\\u062d\\u0627\\u0644\", \"\\u0645\\u0644\\u064a\", \"\\u062f\\u064a\\u0643\", \"\\u0628\\u0627\\u064a\\u0646\\u0647\", \"\\u0634\\u0646\\u0648\", \"\\u0639\\u0646\\u062f\\u0648\", \"\\u0647\\u0627\\u062f\", \"\\u0628\\u0646\\u062a\", \"\\u0648\\u0644\\u062f\", \"\\u0633\\u064a\\u0631\\u064a\", \"\\u0631\\u0628\\u064a\", \"\\u0631\\u0627\\u062c\\u0644\", \"\\u062a\\u064a\\u0641\\u064a\", \"\\u0645\\u0627\\u0634\\u064a\", \"\\u0631\\u0627\\u0633\\u0643\", \"\\u0627\\u0644\\u0644\\u0647\", \"\\u0639\\u0644\\u0627\\u0634\", \"\\u062f\\u064a\\u0627\\u0644\", \"\\u0644\\u064a\\u0643\", \"\\u0627\\u0634\", \"\\u0643\\u0648\\u0646\", \"\\u0627\\u0646\\u0627\", \"\\u0648\\u0627\\u0644\\u0644\\u0647\", \"\\u0646\\u062a\\u064a\", \"\\u0627\\u0644\\u0644\\u064a\", \"\\u0627\\u0648\", \"\\u0627\\u0644\\u0646\\u0627\\u0633\", \"\\u0648\\u062c\\u0647\", \"\\u0627\\u0644\\u064a\", \"\\u0627\\u0646\\u062a\", \"\\u0633\\u0648\\u0631\\u064a\\u0627\", \"\\u0627\\u0644\\u062c\\u064a\\u0634\", \"\\u062d\\u0631\\u0628\", \"\\u0641\\u06cc\", \"\\u0645\\u0639\\u0647\\u0645\", \"\\u062d\\u0641\\u062a\\u0631\", \"\\u062d\\u0645\\u0627\\u0633\", \"\\u0633\\u0648\\u0631\\u064a\\u0647\", \"\\u0627\\u0644\\u062d\\u0648\\u062b\\u064a\", \"\\u0644\\u064a\\u0628\\u064a\\u0627\", \"\\u0627\\u0644\\u0645\\u0642\\u0627\\u0648\\u0645\\u0647\", \"\\u0627\\u0644\\u064a\\u0645\\u0646\\u064a\\u064a\\u0646\", \"\\u0627\\u0644\\u062d\\u0645\\u064a\\u0631\", \"\\u062a\\u0631\\u0643\\u064a\\u0627\", \"\\u0627\\u0644\\u0633\\u0639\\u0648\\u062f\\u06cc\\u0647\", \"\\u0639\\u0630\\u0627\\u0628\", \"\\u0627\\u0644\\u0646\\u0635\\u0631\\u0647\", \"\\u064a\\u0627\\u062c\\u0632\\u064a\\u0631\\u0647\", \"\\u0627\\u0644\\u064a\\u0645\\u0646\\u064a\", \"\\u0648\\u0627\\u0644\\u0639\\u0631\\u0627\\u0642\", \"\\u0648\\u0633\\u0648\\u0631\\u064a\\u0627\", \"\\u0645\\u0646\\u0628\\u0631\", \"\\u0648\\u0627\\u0644\\u0633\\u0639\\u0648\\u062f\\u064a\\u0647\", \"\\u0634\\u064a\\u0621\\u0627\", \"\\u0645\\u0628\\u0631\\u0648\\u0643\", \"\\u0627\\u0644\\u0627\\u0633\\u0631\\u0627\\u0621\\u064a\\u0644\\u064a\", \"\\u0627\\u0644\\u0642\\u0637\\u0631\\u064a\", \"\\u062a\\u0646\\u0638\\u064a\\u0645\", \"\\u0627\\u0644\\u0644\\u064a\\u0628\\u064a\", \"\\u0639\\u0628\\u0627\\u0633\", \"\\u0642\\u062a\\u0644\", \"\\u0627\\u064a\\u0631\\u0627\\u0646\", \"\\u0642\\u0637\\u0631\", \"\\u0627\\u0644\\u062e\\u0646\\u0632\\u064a\\u0631\\u0647\", \"\\u0627\\u0646\\u062a\\u0648\", \"\\u0627\\u0639\\u062f\\u0627\\u0645\", \"\\u0627\\u0644\\u0631\\u0627\\u064a\", \"\\u0627\\u0644\\u0645\\u0635\\u0631\\u064a\", \"\\u0627\\u0644\\u062c\\u0632\\u064a\\u0631\\u0647\", \"\\u0627\\u0644\\u064a\\u0645\\u0646\", \"\\u0645\\u062c\\u0631\\u0645\", \"\\u0627\\u0646\", \"\\u0627\\u0644\\u0634\\u0639\\u0628\", \"\\u0645\\u0631\\u062a\\u0632\\u0642\\u0647\", \"\\u0645\\u0631\\u0633\\u064a\", \"\\u062f\\u0627\\u0639\\u0634\", \"\\u0645\\u0635\\u0631\", \"\\u0627\\u0644\\u0627\\u062e\\u0648\\u0627\\u0646\", \"\\u0627\\u064a\\u0646\", \"\\u0627\\u0644\\u0633\\u0639\\u0648\\u062f\\u064a\\u0647\", \"\\u0627\\u0644\\u0645\\u062c\\u0631\\u0645\", \"\\u0643\\u0644\\u0627\\u0628\", \"\\u0627\\u0646\\u0647\", \"\\u062f\\u0648\\u0644\\u0647\", \"\\u064a\\u0639\\u0646\\u064a\", \"\\u0642\\u0646\\u0627\\u0647\", \"\\u0627\\u0646\\u062a\\u0645\", \"\\u0627\\u0644\\u062e\\u0648\\u0646\\u0647\", \"\\u064a\\u062c\\u0628\", \"\\u062f\\u0648\\u0644\", \"\\u0627\\u0644\\u0644\\u0647\", \"\\u0639\\u0644\\u064a\", \"\\u0627\\u0646\\u062a\", \"\\u0627\\u0644\\u064a\", \"\\u0636\\u062f\", \"\\u0627\\u0644\\u0645\\u0633\\u0644\\u0645\\u064a\\u0646\", \"\\u0627\\u0648\", \"\\u0648\\u0627\\u0644\\u0644\\u0647\", \"\\u0627\\u0644\\u0633\\u064a\\u0633\\u064a\", \"\\u0644\\u0627\\u0646\", \"\\u0634\\u0631\\u0643\\u0647\", \"\\u0643\\u062b\\u064a\\u0631\", \"\\u0648\\u0631\\u0627\\u0621\", \"\\u0627\\u0644\\u0627\\u0644\\u0647\", \"\\u0627\\u0628\\u0644\\u064a\\u0633\", \"\\u0641\\u0643\\u0648\\u0632\\u064a\\u0646\\u062a\\u0643\", \"\\u0645\\u0636\\u0645\\u0648\\u0646\", \"\\u0646\\u0642\\u0627\\u0637\", \"\\u0648\\u0628\\u0644\\u0627\", \"\\u0627\\u0644\\u0631\\u0628\\u062d\", \"\\u0627\\u0644\\u0633\\u062c\\u0646\", \"60\\u062f\\u0631\\u0647\\u0645\", \"\\u0627\\u0644\\u0643\\u0627\\u062f\\u0648\\u0627\\u062a\", \"\\u0628\\u0627\\u0644\\u0627\\u0639\\u0634\\u0627\\u0628\", \"\\u0628\\u0627\\u0644\\u0648\\u0639\\u0648\\u062f\", \"\\u0628\\u0646\\u062a\\u0643\\u0648\\u0646\\u0632\\u064a\\u062f\\u0643\", \"\\u062a\\u062e\\u064a\\u0631\\u064a\", \"\\u062e\\u062a\\u064a\\u0627\\u0631\\u0643\", \"\\u062f\\u0627\\u0631\\u062a\\u0647\\u0627\", \"\\u062f\\u062e\\u0644\\u062a\\u064a\\u0647\\u0627\", \"\\u0630\\u0648\\u0642\\u0643\", \"\\u0641\\u0627\\u064a\\u062f\\u0647\\u0627\\u062c\\u064a\", \"\\u0643\\u0627\\u062f\\u0648\\u0627\\u062a\", \"\\u0643\\u0645\\u0648\\u0646\\u062f\", \"\\u0643\\u0648\\u0645\\u0648\\u0646\\u062f\", \"\\u0645\\u063a\\u0631\\u0628\\u064a\\u0647100\", \"\\u0646\\u0633\\u0648\\u0644\\u0643\\u0645\", \"\\u0648\\u0627\\u0644\\u062a\\u0633\\u062c\\u064a\\u0644\", \"\\u0648\\u0627\\u0644\\u0631\\u0628\\u062d\", \"\\u0648\\u0627\\u0644\\u0643\\u0627\\u062a\\u0627\\u0644\\u0648\\u0643\", \"\\u0641\\u0627\\u0628\\u0648\\u0631\", \"\\u0627\\u0644\\u0635\\u0647\\u064a\\u0648\\u0646\\u064a\", \"\\u0627\\u0645\\u064a\\u0646\", \"\\u0648\\u063a\\u064a\\u0631\", \"\\u0627\\u0647\\u0644\", \"\\u0627\\u0644\\u0648\\u0637\\u0646\", \"\\u0627\\u064a\", \"\\u0627\\u0646\", \"\\u0628\\u0627\\u064a\", \"\\u0627\\u0644\\u0627\\u0643\\u0631\\u0627\\u062f\", \"\\u0627\\u0646\\u0643\", \"\\u0646\\u0641\\u0633\\u0647\", \"\\u0627\\u0644\\u0627\\u0631\\u0647\\u0627\\u0628\", \"\\u0644\\u0645\\u0627\\u0630\\u0627\", \"\\u0639\\u0646\\u062f\\u0645\\u0627\", \"\\u0627\\u0644\\u0645\\u063a\\u0631\\u0628\", \"\\u0645\\u0646\\u0647\\u0645\", \"\\u0627\\u0644\\u0633\\u064a\\u0633\\u064a\", \"\\u0627\\u0644\\u0639\\u0631\\u0628\", \"\\u0627\\u0646\\u062a\", \"\\u0627\\u0644\\u0639\\u0631\\u0627\\u0642\", \"\\u0645\\u0635\\u0631\", \"\\u0648\\u0644\\u064a\\u0633\", \"\\u0627\\u0643\\u062b\\u0631\", \"\\u0634\\u064a\\u0621\", \"\\u0627\\u0644\\u0644\\u0647\\u0645\", \"\\u0641\\u0642\\u0637\", \"\\u0627\\u0644\\u0639\\u0631\\u0628\\u064a\\u0647\", \"\\u0627\\u0645\\u0631\\u064a\\u0643\\u0627\", \"\\u0627\\u0644\\u064a\", \"\\u0627\\u0644\\u0633\\u0646\\u0647\", \"\\u0636\\u062f\", \"\\u0627\\u0644\\u0627\", \"\\u0627\\u0648\", \"\\u0627\\u0633\\u0631\\u0627\\u0621\\u064a\\u0644\", \"\\u0627\\u0644\\u0645\\u0633\\u0644\\u0645\\u064a\\u0646\", \"\\u0627\\u0644\\u0644\\u064a\", \"\\u062f\\u0627\\u0639\\u0634\", \"\\u0627\\u0646\\u0627\", \"\\u0627\\u0644\\u0646\\u0627\\u0633\", \"\\u0627\\u0644\\u0634\\u0639\\u0628\", \"\\u0648\\u0627\\u0644\\u0644\\u0647\", \"\\u0627\\u0644\\u0644\\u0647\", \"\\u0627\\u0644\\u0633\\u0639\\u0648\\u062f\\u064a\\u0647\", \"\\u0648\\u0644\\u064a\\u062f\\u0627\\u062a\\u0643\", \"\\u0645\\u062f\\u062e\\u0648\\u0644\", \"\\u0631\\u0628\\u0647\", \"\\u0633\\u0648\\u0627\", \"\\u0627\\u0644\\u0627\\u0632\\u0645\\u0647\", \"\\u062a\\u0642\\u062f\\u0631\\u064a\", \"\\u062a\\u0632\\u064a\\u062f\\u064a\", \"\\u062a\\u0639\\u0627\\u0648\\u0646\", \"\\u0627\\u0644\\u0645\\u062f\\u062e\\u0648\\u0644\", \"\\u0645\\u0644\\u0642\\u064a\\u062a\\u064a\\u0634\", \"\\u064a\\u0627\\u0644\\u0627\\u0647\", \"\\u0648\\u062f\\u062e\\u0644\\u064a\", \"\\u0627\\u0644\\u0632\\u0645\\u0627\\u0646\\u0641\\u064a\", \"\\u0627\\u0644\\u0642\\u0627\\u062f\\u0627\\u062a\", \"\\u062d\\u0628\\u0633\\u062a\\u064a\", \"\\u0637\\u0627\\u0644\\u0628\\u0647\", \"\\u0645\\u062a\\u0642\\u062f\\u0631\\u064a\\u0634\", \"\\u0648\\u0628\\u063a\\u064a\\u062a\\u064a\", \"\\u0648\\u0645\\u0648\\u0644\\u0627\\u062a\\u064a\", \"\\u0636\\u0644\", \"\\u0648\\u0644\\u0643\\u064a\\u0646\", \"\\u0644\\u0644\\u0627\\u0646\\u0636\\u0645\\u0627\\u0645\", \"\\u0627\\u0644\\u0631\\u0627\\u0628\\u0637\", \"\\u062a\\u0641\\u0647\\u0645\\u064a\", \"\\u062c\\u0627\\u0628\\u062a\", \"\\u0627\\u0644\\u062e\\u0646\\u0632\", \"\\u0645\\u0627\\u064a\\u062d\\u0634\\u0645\", \"\\u0634\\u0631\\u064a\\u0643\\u0647\", \"\\u0627\\u0633\\u062a\\u0639\\u0645\\u0644\", \"\\u0641\\u064a\\u064a\\u064a\\u064a\\u064a\\u064a\\u064a\\u0646\\u0643\\u0645\", \"\\u062c\\u0647\\u0646\\u0645\", \"\\u0627\\u0644\\u0627\\u0633\\u0644\\u0627\\u0645\", \"\\u0627\\u0644\\u062e\\u062f\\u0645\\u0647\", \"\\u0627\\u0644\\u0627\\u0633\\u0644\\u0627\\u0645\\u064a\\u0647\", \"\\u0627\\u0639\\u062f\\u0627\\u0621\", \"\\u062a\\u0642\\u062f\\u0631\", \"\\u0648\\u0633\\u0637\", \"\\u0627\\u0643\\u0628\\u0631\", \"\\u0644\\u0644\\u0647\", \"\\u0627\\u0644\\u0639\\u0631\\u0628\", \"\\u0627\\u0644\\u062f\\u0648\\u0644\\u0647\", \"\\u0627\\u0648\", \"\\u062f\\u0627\\u0631\\u0643\", \"\\u0627\\u0644\\u0644\\u0647\", \"\\u0627\\u0644\\u064a\", \"\\u0627\\u0644\\u0644\\u0647\\u0645\", \"\\u062f\\u0648\\u0644\\u0647\", \"\\u0646\\u0642\\u0648\\u0644\", \"\\u0627\\u0644\\u0627\", \"\\u0645\\u062d\\u0645\\u062f\", \"\\u0627\\u0644\\u0633\\u0639\\u0648\\u062f\\u064a\\u0647\", \"\\u0627\\u062e\\u062a\\u064a\", \"\\u0647\\u0627\\u0630\", \"\\u0627\\u0634\", \"\\u0627\\u0644\\u0633\\u064a\\u0633\\u064a\", \"\\u0643\\u0648\\u0631\\u0648\\u0646\\u0627\", \"\\u0627\\u0645\", \"\\u062f\\u064a\\u0627\\u0644\", \"\\u0627\\u0644\\u0645\\u0633\\u0644\\u0645\\u064a\\u0646\", \"\\u0627\\u0646\", \"\\u0627\\u0646\\u0627\", \"\\u0627\\u0644\\u0628\\u0631\\u062a\\u0648\\u0634\", \"\\u0627\\u0644\\u062d\\u0644\\u0627\\u0644\", \"\\u0644\\u0642\\u0644\\u0627\\u0648\\u064a\", \"\\u0627\\u0644\\u0635\\u0648\\u062a\", \"\\u0643\\u062a\\u0642\\u062f\\u0627\\u064a\", \"\\u0627\\u0644\\u062e\\u0631\\u0627\\u0621\", \"\\u0648\\u0627\\u0644\\u062f\\u064a\\u0643\", \"\\u0634\\u0647\\u0631\\u064a\\u0647\", \"\\u0632\\u0627\\u0621\\u062f\", \"\\u062a\\u0646\\u062f\\u0645\\u064a\", \"\\u0643\\u0631\\u064a\\u0645\", \"\\u0648\\u0639\\u0627\\u062f\", \"\\u0627\\u0644\\u0631\\u062d\\u0645\\u0646\", \"\\u0627\\u062e\\u064a\\u0643\", \"\\u0645\\u0648\\u0647\\u0628\\u0647\", \"\\u064a\\u062d\\u0641\\u0638\\u0643\", \"\\u064a\\u0638\\u0647\\u0631\", \"\\u064a\\u0633\\u062a\\u0631\\u0643\", \"\\u0627\\u062d\\u0644\\u0627\\u0645\\u0643\", \"\\u062f\\u0628\\u0644\\u0648\\u0645\", \"\\u0633\\u0639\\u062f\", \"\\u0627\\u0644\\u0643\\u0631\\u064a\\u0645\\u0647\", \"\\u0627\\u0648\\u0644\\u0627\\u062f\\u0643\", \"\\u062e\\u0644\\u0635\\u0647\", \"\\u0644\\u062f\\u0627\\u0631\\u0643\", \"\\u0627\\u0644\\u062f\\u0641\\u0646\", \"\\u062d\\u0642\\u0642\\u064a\", \"20\", \"\\u062d\\u0648\\u0644\\u0627\", \"\\u0627\\u0644\\u0639\\u062f\\u064a\\u062f\", \"\\u0627\\u0644\\u0639\\u0630\\u0627\\u0628\", \"\\u0639\\u0645\\u0644\", \"\\u0627\\u0644\\u0642\\u0644\\u0627\\u0648\\u064a\", \"\\u0648\\u0633\\u0644\\u0645\", \"\\u0639\\u0648\\u064a\\u0637\\u0647\", \"\\u0627\\u0644\\u0627\\u0631\\u0647\\u0627\\u0628\\u064a\\u064a\\u0646\", \"\\u0635\\u0644\\u064a\", \"\\u062a\\u0639\\u0627\\u0644\\u064a\", \"\\u0634\\u0643\\u0631\\u0627\", \"\\u064a\\u0642\\u0648\\u0644\", \"\\u062f\\u0627\\u0631\\u0648\", \"\\u0642\\u0648\\u0647\", \"\\u062d\\u0648\\u0644\", \"\\u0627\\u0644\\u0644\\u0647\", \"\\u0642\\u0628\\u062d\", \"\\u0627\\u0631\\u062f\\u0648\\u063a\\u0627\\u0646\", \"\\u0627\\u0628\\u0646\", \"\\u064a\\u0648\\u0645\", \"\\u0627\\u0644\\u0645\\u0646\\u0643\\u0631\", \"\\u0627\\u0644\\u062c\\u0632\\u064a\\u0631\\u0647\", \"\\u0628\\u0627\\u0644\\u0644\\u0647\", \"\\u0642\\u0627\\u0644\", \"\\u0627\\u0644\\u0627\", \"\\u0642\\u0646\\u0627\\u0647\", \"\\u0627\\u0644\\u0646\\u0627\\u0633\", \"\\u0627\\u0644\\u0627\\u0645\", \"\\u0627\\u0644\\u062f\\u0648\\u0644\", \"\\u0627\\u0644\\u064a\", \"\\u0648\\u0627\\u0644\\u0644\\u0647\", \"\\u0627\\u0646\", \"\\u0627\\u0644\\u0627\\u0631\\u0636\", \"\\u0627\\u0644\\u062d\\u0642\", \"\\u0639\\u0644\\u064a\\u0647\\u0645\", \"\\u0627\\u0644\\u0639\\u0638\\u064a\\u0645\", \"\\u062f\\u064a\\u0627\\u0644\", \"\\u0627\\u0648\", \"\\u0627\\u0644\\u062f\\u0648\\u0644\\u0647\", \"\\u0639\\u0644\\u064a\\u0643\\u0645\", \"\\u064a\\u0639\\u0646\\u064a\"], \"Freq\": [2429.0, 592.0, 392.0, 371.0, 433.0, 335.0, 464.0, 288.0, 252.0, 246.0, 241.0, 139.0, 156.0, 178.0, 165.0, 92.0, 224.0, 116.0, 238.0, 95.0, 157.0, 130.0, 139.0, 285.0, 146.0, 160.0, 126.0, 164.0, 99.0, 146.0, 392.03660945369114, 371.07281600330464, 334.6258251714741, 288.1486775671705, 251.69645999757412, 246.22931660502596, 240.75934483001973, 177.88177189690438, 165.12319836425297, 105.88822329838506, 91.30832579529448, 88.57556390226247, 88.57119948521591, 87.6625046049102, 79.46135968722298, 74.90528335540581, 67.61452709452331, 60.32537271374502, 58.490491567656086, 55.76937144756597, 55.76909737544754, 54.85753938929919, 54.8509538223049, 52.12073931829902, 144.66245189355803, 51.21330434981392, 49.38759890342704, 49.38491544776091, 47.566293121840495, 43.91921384932662, 571.6612986668738, 444.3873073651457, 116.74621366056658, 73.07311239483779, 156.62404148986468, 139.8241217412344, 98.8089523926243, 207.1646793142943, 123.44300450589246, 1682.9895114883404, 106.00949267721985, 235.8978384414078, 159.26947248334693, 186.33163398884608, 101.13853227551425, 197.61459864877546, 196.0084043853903, 114.62861108496017, 163.18226474448517, 198.32218497234211, 119.15600430968563, 106.93522023395131, 119.4245273932394, 109.93157661486292, 47.021094781845996, 32.27171675020552, 30.53363417327027, 21.861729987475936, 18.38887534596065, 15.78855089715776, 15.787726566596769, 15.78741876078455, 15.787283231526446, 15.786761423351013, 14.05381476696134, 14.052926566516378, 14.05131812714092, 31.240394384113777, 12.319531209817955, 12.3132409274409, 11.451141760566802, 11.451001509394994, 11.449924819963758, 10.583618305913655, 10.583434627683337, 8.849468347930499, 8.847003586036728, 8.846838053227327, 8.846514948725986, 8.846215274717597, 8.845523611556674, 20.110140720729763, 7.980207504759266, 7.979862529187249, 49.837281925848615, 121.25481840485156, 81.40429722297996, 36.159125380157334, 13.79618949520062, 13.087414328621092, 16.43067729966819, 27.747825517421706, 101.23102593318882, 44.9488109788716, 23.740444655315265, 217.19999542045505, 88.32454621501067, 18.600916880562416, 19.71856650489905, 43.729929089015904, 70.26982675633742, 35.459202532715985, 29.63176783892234, 61.95463718738087, 29.297702555210513, 20.466207791347223, 49.09231683922196, 39.11171971773527, 50.654660048006825, 60.65183971331219, 38.00139511120172, 22.829105433283225, 34.45292633320344, 28.236257326620475, 207.7286903932116, 41.46628380879789, 56.29270478609832, 60.40742877658647, 30.036969324061793, 34.48553579669528, 47.53833431010585, 42.51379552712392, 34.992123862445396, 32.43297568037262, 23.707607275367295, 15.859871079887272, 15.857205871664966, 13.232113928275764, 12.369226755149699, 11.505724816169963, 11.505189025043297, 11.504900193684964, 11.504331627226296, 11.504063259453677, 11.502684121262044, 10.63407892104803, 10.63407892104803, 10.63407892104803, 10.63407892104803, 10.63407892104803, 10.63407892104803, 10.63407892104803, 10.63407892104803, 10.63407892104803, 10.63407892104803, 10.63407892104803, 10.63407892104803, 10.63407892104803, 10.63407892104803, 10.63407892104803, 10.63407892104803, 10.63407892104803, 10.63407892104803, 10.63407892104803, 31.577106209805557, 21.596433658824594, 28.24656130342301, 13.236970672370282, 32.8723252799319, 13.196553311527714, 62.97772562736795, 150.7002813637972, 16.49724611403733, 16.955933985836083, 33.032117426564795, 18.180583489346958, 25.75815779501319, 32.8246919645278, 25.8848432257512, 46.73751122526681, 31.04920421921039, 46.48554156722767, 50.98532334479196, 71.5459767863536, 27.29737227678493, 50.47799696501619, 25.141162526917174, 21.501674688300348, 28.45584348304066, 45.26871017241919, 29.873001691560184, 35.136176967559976, 31.910633090475397, 72.05919983322383, 25.55218273677657, 26.82327764933714, 50.128709513657206, 58.19422742916044, 26.819560797790377, 30.117102271508625, 38.69453185497269, 27.01735525796197, 32.172899317610536, 30.242259969734704, 29.124835691931196, 30.035044136499568, 28.959979117574708, 27.10482028558307, 20.84808186218078, 19.98771019501733, 19.11216853707628, 18.264158828224765, 18.26325908935792, 18.261522012683564, 18.260614250126885, 17.40176074509236, 15.68038721985643, 15.679815734472301, 15.678824367228986, 15.678501745333248, 14.818827655523265, 14.818827655523265, 14.818827655523265, 14.818827655523265, 14.818827655523265, 14.818827655523265, 14.818827655523265, 14.818090058001982, 14.817821658916914, 14.817521987532334, 13.957267855807856, 13.957267855807856, 13.953982446197783, 13.95217463312688, 13.948821587184618, 13.095708150861174, 12.23414823692727, 12.23414822459885, 40.72418127794223, 75.75476944381836, 30.017762029160387, 48.91810435909337, 21.967085853573654, 20.619964691046796, 23.894417739195323, 71.7623531406029, 54.39696279058816, 52.21329374646444, 41.431662270198814, 98.8845308782191, 19.8359851501244, 237.48437541993425, 81.3168479351352, 47.01569404408615, 30.746838820389886, 23.442259095113133, 52.07014267576261, 30.881356138886613, 37.129598285277176, 38.083387854231354, 27.83673514958513, 26.390048161596102, 23.710885389320108, 20.84107138277057, 21.350754860151532, 25.11762906096766, 22.254039363028344, 25.325997919461308, 20.637005561772135, 22.444182181755263, 13.01761559519728, 11.306571776175808, 11.304337252941435, 10.453319926921344, 10.450485090639802, 9.592981811841181, 7.88080516635257, 7.879750908733197, 7.879372748891798, 7.879322249719185, 7.879072397966363, 7.877430970545824, 7.025999922902554, 7.0240498028145115, 7.023525251248483, 7.0229485321560565, 7.022957924916909, 6.168846460935563, 6.168705308603859, 6.168266854605453, 6.167805456725745, 6.16781014129894, 6.1676702684481235, 6.16745693323202, 6.167193464368486, 6.167029510461747, 6.164728228046985, 6.1643364125907, 6.150678966847497, 10.455951975165831, 19.77812692041505, 10.852928478545733, 17.381020350280927, 10.196856569235283, 10.159093708769866, 17.909542002041086, 22.572892392080384, 15.78164201014479, 27.277604175967394, 10.270729560776372, 36.060051608705585, 29.797614764705727, 272.39606542256075, 21.226291015136884, 13.384165076074504, 19.387905310163944, 27.16191344338097, 13.702066570897138, 39.414250801900195, 37.9792850851143, 26.74007593864043, 45.857385659600524, 34.041032333501335, 38.78219178214932, 17.669068540267393, 19.340249470948454, 39.649633087921536, 36.950129744345645, 40.41958097365622, 19.539153642563672, 21.74747165397872, 19.71308613188058, 17.891280044501393, 23.637354122373416, 24.03093550821677, 18.213247423790296, 18.64541141777453, 17.841543979613387], \"Total\": [2429.0, 592.0, 392.0, 371.0, 433.0, 335.0, 464.0, 288.0, 252.0, 246.0, 241.0, 139.0, 156.0, 178.0, 165.0, 92.0, 224.0, 116.0, 238.0, 95.0, 157.0, 130.0, 139.0, 285.0, 146.0, 160.0, 126.0, 164.0, 99.0, 146.0, 392.7328050783048, 371.7727111645758, 335.32092108348434, 288.84453940156413, 252.39250487512788, 246.924747220099, 241.4568166568272, 178.57719730022356, 165.81898232934208, 106.58438939130995, 92.0036544763819, 89.26980294979035, 89.26958806868444, 88.35838762804016, 80.1567317441931, 75.60024851810076, 68.30982911420588, 61.019484693149565, 59.196313033293556, 56.46300809424701, 56.46301622516102, 55.55168105716726, 55.551363940232434, 52.81762297494895, 146.6025592908665, 51.90653804299393, 50.083761522862616, 50.08358791214994, 48.26122876077138, 44.615915412599094, 592.8500492067201, 464.7158571524445, 120.13152390689446, 74.64483605744041, 164.45414533282295, 146.34535553473063, 102.73392553785436, 224.02582607864994, 135.0736635162676, 2429.5586218416215, 115.17449748979998, 285.0014757296403, 190.62569886008208, 236.16661071749212, 111.44146527072684, 267.97832761194263, 324.74752743329094, 136.48423136128025, 250.68421472243315, 426.97021309804427, 210.93822590490285, 141.20524705853637, 372.85763702610643, 238.11934520417222, 47.72601383919925, 32.97623110717194, 31.24095318761059, 22.5646212146745, 19.09415612608715, 16.491192592465787, 16.491205628004234, 16.49119908141669, 16.49118279933161, 16.491212942540077, 14.75593745245258, 14.755980160498618, 14.755953098156048, 32.968991622872046, 13.020667780502352, 13.020790087988866, 12.153023231712352, 12.153012957227727, 12.153018753157495, 11.285393191450938, 11.285387537740755, 9.550132264268125, 9.55011133511027, 9.550150744861869, 9.550119954648393, 9.550103764216093, 9.550112775577054, 21.74141197109627, 8.682483442821153, 8.682501628448735, 54.6157716524157, 139.70721228296156, 95.39095892198996, 43.313693617250735, 15.628796461016664, 14.749663112429726, 19.10318003650339, 34.74045007311369, 156.62415352402684, 61.63875258985702, 29.52916947151469, 433.83122777997625, 160.31182986512582, 22.541786842171835, 24.296782248377642, 71.27566502355563, 139.79616156017934, 55.421905269027484, 43.4482411514877, 126.54409305875987, 42.90341240343585, 26.05772986010117, 102.8511871804619, 73.55405140717663, 113.40010514213705, 153.4827038444841, 71.97841207631642, 31.241543339241485, 65.14670306687249, 46.80460743153688, 2429.5586218416215, 99.98558276115902, 238.11934520417222, 372.85763702610643, 57.392760825428006, 97.4740258753065, 426.97021309804427, 324.74752743329094, 112.75483834814715, 83.98890286348067, 24.40824021848612, 16.563469613096057, 16.5634535551962, 13.948701562425704, 13.076859322963925, 12.205190665239686, 12.205181594036397, 12.205209376776464, 12.205253944878837, 12.205266107482899, 12.205275262113634, 11.333544763224442, 11.333544763224442, 11.333544763224442, 11.333544763224442, 11.333544763224442, 11.333544763224442, 11.333544763224442, 11.333544763224442, 11.333544763224442, 11.333544763224442, 11.333544763224442, 11.333544763224442, 11.333544763224442, 11.333544763224442, 11.333544763224442, 11.333544763224442, 11.333544763224442, 11.333544763224442, 11.333544763224442, 34.98579588404293, 26.092587372703267, 36.52282700966631, 14.809921755770645, 46.11854214381166, 14.809477154722476, 121.45321944545003, 433.83122777997625, 20.891481238839617, 21.762024148951394, 56.77385897651986, 24.324234324287133, 40.03505972487241, 58.287875625273614, 41.637540064208935, 99.90961939697004, 59.41024361081028, 112.75483834814715, 130.88587046905434, 238.11934520417222, 49.578173182847536, 139.79616156017934, 45.16843959140691, 35.280942519205055, 58.47598888696701, 135.23522114252478, 64.32444411658176, 88.42409691527271, 75.54291317065224, 372.85763702610643, 50.42492412612987, 57.392760825428006, 256.5763949638604, 426.97021309804427, 67.71024003596068, 97.4740258753065, 250.68421472243315, 71.27566502355563, 267.97832761194263, 210.93822590490285, 160.31182986512582, 324.74752743329094, 2429.5586218416215, 126.54409305875987, 21.551288734684427, 20.68968714752079, 19.828041811604592, 18.966601963831998, 18.96658536143329, 18.966687030824932, 18.966741261025764, 18.105090844520788, 16.381870595519523, 16.381903435958716, 16.381915462679093, 16.381906041737185, 15.520310780091888, 15.520310780091888, 15.520310780091888, 15.520310780091888, 15.520310780091888, 15.520310780091888, 15.520310780091888, 15.52031782727209, 15.520361895290957, 15.520316200399384, 14.658750966753184, 14.658750966753184, 14.65894026376975, 14.659034201973178, 14.659221601467763, 13.797191152550242, 12.935631340136805, 12.935631340258826, 45.91981511949507, 92.33322514801492, 35.602712277822796, 69.83643509181411, 26.76801055316971, 25.209464004621484, 31.257769415113994, 157.1548908513719, 116.21190477991725, 130.88587046905434, 88.87323835689558, 426.97021309804427, 25.829827962073065, 2429.5586218416215, 372.85763702610643, 135.23522114252478, 73.55405140717663, 41.26317148501606, 256.5763949638604, 81.10399530375508, 126.54409305875987, 161.4351737320573, 84.93868471767838, 236.16661071749212, 112.75483834814715, 52.53588112631412, 66.03394924793284, 285.0014757296403, 97.4740258753065, 433.83122777997625, 267.97832761194263, 23.15155021009493, 13.726519897428487, 12.012762997909041, 12.012914137234091, 11.155748513149538, 11.155839596407128, 10.299108540414423, 8.585377037455874, 8.585397964726718, 8.58547949777676, 8.585436136819768, 8.585405236691487, 8.585337214661694, 7.728430358958173, 7.728488375687992, 7.728565849466558, 7.728496421557606, 7.728623158433523, 6.871621462389604, 6.871630390022767, 6.8716578557498815, 6.871644399452334, 6.871686923241391, 6.87164011647496, 6.871709631580371, 6.871662105451609, 6.87169041592787, 6.87175440931792, 6.871791944361572, 6.871879997877928, 12.023513552976961, 24.0692460393739, 12.952819872824954, 23.186212323413283, 12.880989669035708, 12.904061564787172, 26.644047882023663, 36.15606593243818, 24.25348595872694, 50.8739379164829, 13.741858333816635, 84.89485441715021, 64.90341281050712, 2429.5586218416215, 44.188879392672916, 21.55322980329074, 39.73629009672803, 70.4647311027126, 22.795928729556636, 156.62415352402684, 164.79119225074749, 88.91531016978769, 256.5763949638604, 153.4827038444841, 210.93822590490285, 46.18281180581777, 57.078810192165406, 372.85763702610643, 324.74752743329094, 433.83122777997625, 73.69303889992932, 118.17561602235769, 93.89217080981479, 73.70316074955116, 285.0014757296403, 426.97021309804427, 88.87323835689558, 176.26529017873312, 113.40010514213705], \"Category\": [\"Default\", \"Default\", \"Default\", \"Default\", \"Default\", \"Default\", \"Default\", \"Default\", \"Default\", \"Default\", \"Default\", \"Default\", \"Default\", \"Default\", \"Default\", \"Default\", \"Default\", \"Default\", \"Default\", \"Default\", \"Default\", \"Default\", \"Default\", \"Default\", \"Default\", \"Default\", \"Default\", \"Default\", \"Default\", \"Default\", \"Topic1\", \"Topic1\", \"Topic1\", \"Topic1\", \"Topic1\", \"Topic1\", \"Topic1\", \"Topic1\", \"Topic1\", \"Topic1\", \"Topic1\", \"Topic1\", \"Topic1\", \"Topic1\", \"Topic1\", \"Topic1\", \"Topic1\", \"Topic1\", \"Topic1\", \"Topic1\", \"Topic1\", \"Topic1\", \"Topic1\", \"Topic1\", \"Topic1\", \"Topic1\", \"Topic1\", \"Topic1\", \"Topic1\", \"Topic1\", \"Topic1\", \"Topic1\", \"Topic1\", \"Topic1\", \"Topic1\", \"Topic1\", \"Topic1\", \"Topic1\", \"Topic1\", \"Topic1\", \"Topic1\", \"Topic1\", \"Topic1\", \"Topic1\", \"Topic1\", \"Topic1\", \"Topic1\", \"Topic1\", \"Topic1\", \"Topic1\", \"Topic1\", \"Topic1\", \"Topic1\", \"Topic1\", \"Topic2\", \"Topic2\", \"Topic2\", \"Topic2\", \"Topic2\", \"Topic2\", \"Topic2\", \"Topic2\", \"Topic2\", \"Topic2\", \"Topic2\", \"Topic2\", \"Topic2\", \"Topic2\", \"Topic2\", \"Topic2\", \"Topic2\", \"Topic2\", \"Topic2\", \"Topic2\", \"Topic2\", \"Topic2\", \"Topic2\", \"Topic2\", \"Topic2\", \"Topic2\", \"Topic2\", \"Topic2\", \"Topic2\", \"Topic2\", \"Topic2\", \"Topic2\", \"Topic2\", \"Topic2\", \"Topic2\", \"Topic2\", \"Topic2\", \"Topic2\", \"Topic2\", \"Topic2\", \"Topic2\", \"Topic2\", \"Topic2\", \"Topic2\", \"Topic2\", \"Topic2\", \"Topic2\", \"Topic2\", \"Topic2\", \"Topic2\", \"Topic2\", \"Topic2\", \"Topic2\", \"Topic2\", \"Topic2\", \"Topic2\", \"Topic2\", \"Topic2\", \"Topic2\", \"Topic2\", \"Topic2\", \"Topic2\", \"Topic2\", \"Topic2\", \"Topic2\", \"Topic2\", \"Topic2\", \"Topic2\", \"Topic2\", \"Topic2\", \"Topic3\", \"Topic3\", \"Topic3\", \"Topic3\", \"Topic3\", \"Topic3\", \"Topic3\", \"Topic3\", \"Topic3\", \"Topic3\", \"Topic3\", \"Topic3\", \"Topic3\", \"Topic3\", \"Topic3\", \"Topic3\", \"Topic3\", \"Topic3\", \"Topic3\", \"Topic3\", \"Topic3\", \"Topic3\", \"Topic3\", \"Topic3\", \"Topic3\", \"Topic3\", \"Topic3\", \"Topic3\", \"Topic3\", \"Topic3\", \"Topic3\", \"Topic3\", \"Topic3\", \"Topic3\", \"Topic3\", \"Topic3\", \"Topic3\", \"Topic3\", \"Topic3\", \"Topic3\", \"Topic3\", \"Topic3\", \"Topic3\", \"Topic3\", \"Topic3\", \"Topic3\", \"Topic3\", \"Topic3\", \"Topic3\", \"Topic3\", \"Topic3\", \"Topic3\", \"Topic3\", \"Topic3\", \"Topic3\", \"Topic3\", \"Topic3\", \"Topic3\", \"Topic3\", \"Topic3\", \"Topic3\", \"Topic3\", \"Topic3\", \"Topic3\", \"Topic3\", \"Topic3\", \"Topic3\", \"Topic3\", \"Topic3\", \"Topic3\", \"Topic3\", \"Topic3\", \"Topic3\", \"Topic3\", \"Topic4\", \"Topic4\", \"Topic4\", \"Topic4\", \"Topic4\", \"Topic4\", \"Topic4\", \"Topic4\", \"Topic4\", \"Topic4\", \"Topic4\", \"Topic4\", \"Topic4\", \"Topic4\", \"Topic4\", \"Topic4\", \"Topic4\", \"Topic4\", \"Topic4\", \"Topic4\", \"Topic4\", \"Topic4\", \"Topic4\", \"Topic4\", \"Topic4\", \"Topic4\", \"Topic4\", \"Topic4\", \"Topic4\", \"Topic4\", \"Topic4\", \"Topic4\", \"Topic4\", \"Topic4\", \"Topic4\", \"Topic4\", \"Topic4\", \"Topic4\", \"Topic4\", \"Topic4\", \"Topic4\", \"Topic4\", \"Topic4\", \"Topic4\", \"Topic4\", \"Topic4\", \"Topic4\", \"Topic4\", \"Topic4\", \"Topic4\", \"Topic4\", \"Topic4\", \"Topic4\", \"Topic4\", \"Topic4\", \"Topic4\", \"Topic4\", \"Topic4\", \"Topic4\", \"Topic4\", \"Topic4\", \"Topic5\", \"Topic5\", \"Topic5\", \"Topic5\", \"Topic5\", \"Topic5\", \"Topic5\", \"Topic5\", \"Topic5\", \"Topic5\", \"Topic5\", \"Topic5\", \"Topic5\", \"Topic5\", \"Topic5\", \"Topic5\", \"Topic5\", \"Topic5\", \"Topic5\", \"Topic5\", \"Topic5\", \"Topic5\", \"Topic5\", \"Topic5\", \"Topic5\", \"Topic5\", \"Topic5\", \"Topic5\", \"Topic5\", \"Topic5\", \"Topic5\", \"Topic5\", \"Topic5\", \"Topic5\", \"Topic5\", \"Topic5\", \"Topic5\", \"Topic5\", \"Topic5\", \"Topic5\", \"Topic5\", \"Topic5\", \"Topic5\", \"Topic5\", \"Topic5\", \"Topic5\", \"Topic5\", \"Topic5\", \"Topic5\", \"Topic5\", \"Topic5\", \"Topic5\", \"Topic5\", \"Topic5\", \"Topic5\", \"Topic5\", \"Topic5\", \"Topic5\", \"Topic5\", \"Topic5\", \"Topic5\", \"Topic5\", \"Topic5\", \"Topic5\", \"Topic5\", \"Topic5\", \"Topic5\", \"Topic5\", \"Topic5\"], \"logprob\": [30.0, 29.0, 28.0, 27.0, 26.0, 25.0, 24.0, 23.0, 22.0, 21.0, 20.0, 19.0, 18.0, 17.0, 16.0, 15.0, 14.0, 13.0, 12.0, 11.0, 10.0, 9.0, 8.0, 7.0, 6.0, 5.0, 4.0, 3.0, 2.0, 1.0, -4.5411, -4.596, -4.6994, -4.849, -4.9842, -5.0062, -5.0286, -5.3313, -5.4057, -5.85, -5.9982, -6.0286, -6.0286, -6.0389, -6.1372, -6.1962, -6.2986, -6.4127, -6.4436, -6.4912, -6.4912, -6.5077, -6.5078, -6.5589, -5.538, -6.5764, -6.6127, -6.6128, -6.6503, -6.7301, -4.1639, -4.4157, -5.7524, -6.221, -5.4586, -5.572, -5.9192, -5.1789, -5.6966, -3.0841, -5.8489, -5.049, -5.4418, -5.2849, -5.8959, -5.2261, -5.2343, -5.7707, -5.4176, -5.2225, -5.732, -5.8402, -5.7297, -5.8126, -5.7833, -6.1597, -6.215, -6.5491, -6.7221, -6.8746, -6.8746, -6.8746, -6.8746, -6.8747, -6.991, -6.991, -6.9911, -6.1921, -7.1227, -7.1232, -7.1958, -7.1958, -7.1959, -7.2745, -7.2746, -7.4535, -7.4538, -7.4538, -7.4538, -7.4539, -7.4539, -6.6326, -7.5569, -7.5569, -5.7251, -4.836, -5.2344, -6.0459, -7.0095, -7.0622, -6.8347, -6.3107, -5.0164, -5.8283, -6.4667, -4.253, -5.1528, -6.7106, -6.6523, -5.8558, -5.3815, -6.0655, -6.245, -5.5074, -6.2563, -6.6151, -5.7401, -5.9674, -5.7088, -5.5287, -5.9962, -6.5058, -6.0943, -6.2932, -4.2976, -5.909, -5.6033, -5.5327, -6.2314, -6.0933, -5.7723, -5.884, -6.0787, -6.1547, -6.375, -6.777, -6.7771, -6.9581, -7.0255, -7.0979, -7.098, -7.098, -7.098, -7.0981, -7.0982, -7.1767, -7.1767, -7.1767, -7.1767, -7.1767, -7.1767, -7.1767, -7.1767, -7.1767, -7.1767, -7.1767, -7.1767, -7.1767, -7.1767, -7.1767, -7.1767, -7.1767, -7.1767, -7.1767, -6.0883, -6.4682, -6.1998, -6.9577, -6.0481, -6.9608, -5.398, -4.5255, -6.7376, -6.7101, -6.0433, -6.6404, -6.292, -6.0496, -6.2871, -5.6962, -6.1052, -5.7016, -5.6092, -5.2704, -6.234, -5.6192, -6.3163, -6.4726, -6.1924, -5.7281, -6.1438, -5.9815, -6.0778, -5.2633, -6.3, -6.2515, -5.6262, -5.477, -6.2516, -6.1357, -5.8851, -6.2443, -6.0696, -6.1315, -6.1692, -6.1384, -6.1748, -6.241, -6.3376, -6.3798, -6.4246, -6.4699, -6.47, -6.4701, -6.4701, -6.5183, -6.6225, -6.6225, -6.6226, -6.6226, -6.679, -6.679, -6.679, -6.679, -6.679, -6.679, -6.679, -6.679, -6.679, -6.6791, -6.7389, -6.7389, -6.7391, -6.7392, -6.7395, -6.8026, -6.8706, -6.8706, -5.6681, -5.0474, -5.9731, -5.4847, -6.2853, -6.3486, -6.2012, -5.1015, -5.3786, -5.4195, -5.6508, -4.7809, -6.3874, -3.9048, -4.9765, -5.5244, -5.9491, -6.2203, -5.4223, -5.9447, -5.7605, -5.7351, -6.0485, -6.1019, -6.2089, -6.338, -6.3138, -6.1513, -6.2724, -6.143, -6.3478, -6.1829, -6.7277, -6.8686, -6.8688, -6.9471, -6.9473, -7.0329, -7.2295, -7.2297, -7.2297, -7.2297, -7.2298, -7.23, -7.3444, -7.3446, -7.3447, -7.3448, -7.3448, -7.4745, -7.4745, -7.4746, -7.4746, -7.4746, -7.4747, -7.4747, -7.4747, -7.4748, -7.4751, -7.4752, -7.4774, -6.9468, -6.3094, -6.9095, -6.4386, -6.9719, -6.9756, -6.4086, -6.1772, -6.5351, -5.9879, -6.9647, -5.7088, -5.8995, -3.6867, -6.2387, -6.6999, -6.3293, -5.9922, -6.6764, -5.6198, -5.6569, -6.0078, -5.4684, -5.7664, -5.636, -6.4222, -6.3318, -5.6139, -5.6844, -5.5947, -6.3216, -6.2145, -6.3127, -6.4097, -6.1311, -6.1146, -6.3918, -6.3684, -6.4124], \"loglift\": [30.0, 29.0, 28.0, 27.0, 26.0, 25.0, 24.0, 23.0, 22.0, 21.0, 20.0, 19.0, 18.0, 17.0, 16.0, 15.0, 14.0, 13.0, 12.0, 11.0, 10.0, 9.0, 8.0, 7.0, 6.0, 5.0, 4.0, 3.0, 2.0, 1.0, 0.8779, 0.8778, 0.8776, 0.8773, 0.8769, 0.8769, 0.8768, 0.8758, 0.8755, 0.8731, 0.8721, 0.8719, 0.8718, 0.8718, 0.871, 0.8704, 0.8694, 0.8682, 0.8677, 0.8673, 0.8673, 0.8671, 0.867, 0.8664, 0.8664, 0.8662, 0.8657, 0.8656, 0.8652, 0.8639, 0.8433, 0.8349, 0.8511, 0.8584, 0.8309, 0.8341, 0.8407, 0.8014, 0.7896, 0.5125, 0.7968, 0.6906, 0.7, 0.6427, 0.7827, 0.5751, 0.3748, 0.7052, 0.4503, 0.1129, 0.3085, 0.6017, -0.2588, 0.1068, 1.7434, 1.7367, 1.7354, 1.7266, 1.7206, 1.7147, 1.7147, 1.7146, 1.7146, 1.7146, 1.7095, 1.7094, 1.7093, 1.7044, 1.7029, 1.7024, 1.6988, 1.6988, 1.6987, 1.6941, 1.694, 1.6821, 1.6818, 1.6818, 1.6817, 1.6817, 1.6816, 1.6803, 1.6739, 1.6739, 1.6667, 1.6166, 1.5997, 1.5777, 1.6335, 1.6387, 1.6075, 1.5335, 1.3218, 1.4425, 1.5401, 1.0664, 1.1622, 1.5661, 1.5495, 1.2697, 1.0704, 1.3117, 1.3755, 1.0441, 1.3768, 1.5167, 1.0187, 1.1267, 0.9524, 0.8298, 1.1195, 1.4445, 1.1212, 1.2529, -0.701, 0.8781, 0.316, -0.0618, 1.1108, 0.7192, -0.4369, -0.275, 0.5882, 0.8067, 1.8222, 1.8079, 1.8078, 1.7986, 1.7957, 1.7923, 1.7923, 1.7923, 1.7922, 1.7922, 1.7921, 1.7876, 1.7876, 1.7876, 1.7876, 1.7876, 1.7876, 1.7876, 1.7876, 1.7876, 1.7876, 1.7876, 1.7876, 1.7876, 1.7876, 1.7876, 1.7876, 1.7876, 1.7876, 1.7876, 1.7488, 1.6622, 1.5944, 1.7391, 1.5128, 1.736, 1.1946, 0.794, 1.6152, 1.6018, 1.3097, 1.5602, 1.4103, 1.2771, 1.376, 1.0916, 1.2024, 0.9653, 0.9086, 0.6489, 1.2546, 0.8327, 1.2655, 1.3561, 1.1311, 0.7569, 1.0844, 0.9284, 0.9896, 0.2076, 1.1716, 1.0907, 0.2185, -0.1416, 0.9252, 0.6769, -0.0172, 0.8813, -0.2684, -0.091, 0.1458, -0.5293, -2.5782, 0.3105, 1.9841, 1.9827, 1.9805, 1.9795, 1.9794, 1.9793, 1.9793, 1.9776, 1.9735, 1.9734, 1.9734, 1.9733, 1.971, 1.971, 1.971, 1.971, 1.971, 1.971, 1.971, 1.9709, 1.9709, 1.9709, 1.9682, 1.9682, 1.9679, 1.9678, 1.9676, 1.965, 1.9615, 1.9615, 1.8971, 1.8193, 1.8466, 1.6612, 1.8196, 1.8163, 1.7486, 1.2334, 1.2581, 1.0982, 1.2541, 0.5545, 1.7532, -0.3081, 0.4944, 0.9607, 1.145, 1.4518, 0.4224, 1.0516, 0.791, 0.5729, 0.9017, -0.1743, 0.4579, 1.0927, 0.8881, -0.4117, 0.5402, -0.8236, -0.5466, 2.0671, 2.0451, 2.0375, 2.0373, 2.0331, 2.0328, 2.0271, 2.0125, 2.0124, 2.0123, 2.0123, 2.0123, 2.0121, 2.0028, 2.0026, 2.0025, 2.0024, 2.0024, 1.9902, 1.9902, 1.9901, 1.9901, 1.9901, 1.99, 1.99, 1.99, 1.9899, 1.9896, 1.9895, 1.9873, 1.9584, 1.9018, 1.9213, 1.8099, 1.8645, 1.859, 1.7009, 1.627, 1.6684, 1.4748, 1.807, 1.2419, 1.3197, -0.0901, 1.3649, 1.6217, 1.3805, 1.1448, 1.5891, 0.7184, 0.6305, 0.8966, 0.3762, 0.5921, 0.4045, 1.1373, 1.0159, -0.143, -0.0753, -0.2752, 0.7706, 0.4055, 0.5373, 0.6824, -0.3915, -0.7792, 0.5131, -0.1483, 0.2487]}, \"token.table\": {\"Topic\": [5, 3, 3, 2, 3, 5, 5, 1, 3, 4, 5, 5, 3, 4, 5, 4, 2, 3, 4, 1, 3, 4, 3, 4, 2, 4, 1, 3, 4, 5, 1, 2, 3, 1, 2, 3, 4, 5, 2, 3, 4, 5, 1, 2, 3, 4, 5, 2, 3, 3, 5, 4, 2, 2, 3, 4, 2, 4, 5, 2, 3, 5, 3, 1, 2, 5, 5, 2, 3, 5, 2, 1, 1, 2, 3, 4, 5, 5, 2, 2, 1, 4, 5, 4, 2, 3, 5, 2, 3, 4, 5, 2, 3, 4, 5, 2, 3, 4, 5, 4, 2, 3, 3, 5, 1, 4, 3, 2, 3, 4, 2, 2, 3, 4, 2, 3, 4, 5, 1, 2, 3, 5, 3, 4, 5, 5, 5, 2, 5, 2, 3, 4, 2, 3, 4, 2, 3, 4, 5, 1, 3, 4, 5, 4, 2, 1, 5, 1, 3, 5, 1, 2, 3, 4, 5, 1, 2, 3, 4, 5, 1, 2, 3, 4, 5, 2, 1, 2, 3, 5, 4, 1, 2, 3, 4, 5, 2, 3, 1, 3, 2, 1, 5, 1, 2, 3, 4, 5, 2, 3, 4, 1, 2, 3, 4, 5, 2, 3, 4, 2, 2, 1, 2, 3, 4, 5, 2, 3, 4, 3, 4, 2, 3, 4, 5, 1, 2, 3, 4, 5, 1, 2, 3, 2, 3, 4, 5, 2, 3, 1, 2, 3, 4, 1, 2, 3, 4, 5, 2, 3, 4, 1, 2, 3, 4, 5, 5, 1, 2, 3, 5, 2, 3, 4, 2, 3, 1, 3, 1, 2, 4, 5, 3, 2, 3, 4, 1, 1, 5, 1, 3, 4, 3, 3, 2, 4, 4, 1, 4, 5, 4, 4, 1, 1, 4, 4, 5, 1, 2, 1, 5, 4, 1, 4, 4, 2, 2, 5, 2, 1, 3, 4, 5, 5, 3, 5, 3, 4, 5, 4, 5, 2, 3, 1, 5, 3, 2, 3, 4, 2, 3, 4, 1, 4, 5, 1, 1, 3, 1, 4, 1, 2, 4, 5, 1, 1, 4, 1, 5, 5, 5, 4, 2, 2, 1, 1, 2, 3, 4, 1, 3, 5, 1, 5, 1, 1, 1, 2, 3, 5, 2, 3, 4, 5, 2, 3, 4, 4, 2, 2, 1, 4, 5, 1, 2, 3, 4, 5, 1, 2, 3, 4, 5, 1, 2, 3, 4, 5, 3, 5, 2, 3, 4, 5, 1, 4, 5, 1, 1, 3, 3, 1, 2, 3, 4, 5, 3, 4, 2, 1, 2, 3, 4, 5, 1, 5, 2, 5, 2, 3, 5, 1, 2, 4, 5, 1, 4, 5, 3, 5, 3, 5, 2, 3, 1, 3, 1, 4, 3, 1, 5, 1, 2, 3, 5, 5, 5, 4, 1, 4, 2, 3, 1, 2, 1, 3, 4, 1, 1, 5, 4, 2, 4, 2, 3, 1, 2, 3, 4, 5, 4, 2, 4, 2, 3, 4, 1, 2, 3, 4, 3, 1, 1, 2, 3, 4, 1, 2, 1, 2, 3, 4, 5, 5, 1, 3, 4, 3, 3, 4, 5, 3, 1, 3, 4, 1, 4, 5, 1, 1, 4, 1, 1, 3, 5, 3, 2, 2, 3, 1, 2, 3, 4, 5, 4, 3, 1, 2, 3, 5, 4, 3, 1, 4, 5, 2, 4, 5, 2, 5, 3, 4, 1, 3, 4, 4, 2, 3, 4, 5, 4, 2, 1, 4, 2, 3, 5, 5, 5, 5, 1, 1, 2, 3, 5, 2, 3, 4, 5, 1, 2, 3, 4, 5], \"Freq\": [0.8731394695747794, 0.9705701287467676, 0.917651532652578, 0.17616138756185484, 0.32715686261487326, 0.47815233766789167, 0.873156362416026, 0.6008603810282147, 0.1300831752741496, 0.2353886028770326, 0.03716662150689988, 0.905746661983719, 0.3247773101241301, 0.04639675858916144, 0.6031578616590987, 0.9276702222307682, 0.39875800153212265, 0.39875800153212265, 0.20676340820184136, 0.7875795796658887, 0.09738887275438408, 0.11009176920060809, 0.14943209888739167, 0.8218765438806542, 0.881376062687475, 0.06779815866826731, 0.31815745427412206, 0.13998927988061372, 0.4581467341547358, 0.08272093811127174, 0.2834391398290036, 0.08503174194870108, 0.6235661076238079, 0.319592922846819, 0.1013343413904548, 0.19487373344318232, 0.2026686827809096, 0.17928383476772772, 0.631519249114659, 0.09021703558780843, 0.1443472569404935, 0.1263038498229318, 0.29853565992677633, 0.054279210895777516, 0.23068664630705446, 0.16283763268733256, 0.2713960544788876, 0.34969349605596517, 0.6494307783896496, 0.1549899611032262, 0.774949805516131, 0.9490374601957215, 0.9423981374655517, 0.11913371359406577, 0.05415168799730262, 0.8231056575589999, 0.1718300767246148, 0.7016394799588438, 0.11455338448307653, 0.13785482358931006, 0.7811773336727571, 0.04595160786310336, 0.9319863889710518, 0.5846330906295909, 0.021653077430725587, 0.38975539375306056, 0.9502603411156109, 0.6448558394571381, 0.10215538050806149, 0.24900373998839986, 0.9703959162586163, 0.9917996547808459, 0.6938825686720888, 0.04230991272390785, 0.04230991272390785, 0.04230991272390785, 0.18616361598519454, 0.9470718067756859, 0.9487696190732325, 0.9702154293413375, 0.14043873851472094, 0.8426324310883255, 0.896391518861621, 0.9550424541690156, 0.8311459262311013, 0.023087386839752814, 0.13852432103851686, 0.7361992251871389, 0.16004330982329107, 0.09602598589397464, 0.8731511980543865, 0.3503927277507474, 0.26279454581306055, 0.05255890916261211, 0.33287309136321, 0.28129952798170177, 0.04500792447707228, 0.46133122588999087, 0.20253566014682528, 0.955060907423336, 0.8375568868338327, 0.10469461085422908, 0.9831821686085932, 0.9318212901804162, 0.9917997976042268, 0.9664754921815549, 0.9831814311676502, 0.48994780002264293, 0.21336436452598967, 0.2923882032393192, 0.921611717792943, 0.4164607158847054, 0.5156180291905876, 0.059494387983529344, 0.3104079657489495, 0.40796475498433366, 0.2128511765135654, 0.06208159314978991, 0.19961097086174093, 0.5489301698697876, 0.18089744234345273, 0.06861627123372345, 0.843151339717857, 0.03832506089626623, 0.1149751826887987, 0.9156812305771371, 0.87312351232164, 0.08317036410312899, 0.8317036410312899, 0.4235734931690732, 0.5445944912173799, 0.020170166341384438, 0.20628659077744893, 0.38965244924629244, 0.3972926933491609, 0.2940374955133893, 0.39581970549879325, 0.20356441997080796, 0.11309134442822665, 0.5562855050317457, 0.06783969573557874, 0.13567939147115748, 0.24422290464808347, 0.9664754921815549, 0.9423972482310489, 0.15440653229463994, 0.8492359276205196, 0.9797907509438853, 0.9705701287467676, 0.8731534478818777, 0.6927184159583171, 0.08561225818142006, 0.01193632445798645, 0.09754858263940651, 0.11195449146801084, 0.17007403696822618, 0.02218357003933385, 0.3327535505900077, 0.34754259728289694, 0.12570689688955847, 0.6502204384128439, 0.0997270611062644, 0.15557421532577248, 0.03191265955400461, 0.059836236663758646, 0.9213953648958071, 0.18646535442852868, 0.6759369098034165, 0.09323267721426434, 0.023308169303566086, 0.9766894388957043, 0.07181400313715101, 0.3488108723804478, 0.30777429915921867, 0.22570115271676033, 0.030777429915921865, 0.8059768926732974, 0.172709334144278, 0.5304794505263357, 0.47042517310826, 0.9487706250525658, 0.3948073406779353, 0.6141447521656772, 0.564146206736605, 0.07585159082172839, 0.14222173279074074, 0.033185070984506175, 0.18488825262796296, 0.9051245760228921, 0.8778162702289954, 0.0675243284791535, 0.3191566651259659, 0.16091932695426853, 0.19310319234512224, 0.2172410913882625, 0.10727955130284568, 0.7300601992942503, 0.19468271981180008, 0.06489423993726669, 0.9051249095737693, 0.9487678790377913, 0.12114980386774968, 0.18172470580162453, 0.1514372548346871, 0.3180182351528429, 0.22715588225203065, 0.3971252727867362, 0.42360029097251867, 0.1720876182075857, 0.766643830516991, 0.219041094433426, 0.5001945136832212, 0.3480616201205825, 0.05762609604645406, 0.0922017536743265, 0.7388657200918213, 0.05224303071356312, 0.11941264163100143, 0.07836454607034468, 0.014926580203875179, 0.4619532273015533, 0.23517618844442711, 0.3023693851428349, 0.5279360700498618, 0.2639680350249309, 0.15282359922495997, 0.05557221789998545, 0.8957823486229783, 0.06398445347306989, 0.10568244097131813, 0.17613740161886354, 0.5812534253422497, 0.12329618113320448, 0.11667342233925693, 0.4764164745519658, 0.2139012742886377, 0.09722785194938077, 0.09722785194938077, 0.19514927362480927, 0.7155473366243007, 0.06504975787493643, 0.46373258350585145, 0.11242002024384277, 0.13584085779464336, 0.23186629175292572, 0.05621001012192139, 0.8731480445808474, 0.13173796522690204, 0.21407419349371584, 0.5187182380809268, 0.13173796522690204, 0.8660970183481138, 0.08589391917501955, 0.04294695958750978, 0.6904767420941452, 0.29920658824079627, 0.9967677995346003, 0.9705701287467676, 0.6189651194755363, 0.036409712910325666, 0.11529742421603129, 0.23059484843206257, 0.9705701287467676, 0.09573280023255482, 0.7658624018604385, 0.09573280023255482, 0.9783644112308681, 0.9890686813475953, 0.006821163319638589, 0.9554225300608821, 0.038733345813279, 0.004303705090364334, 0.9705701287467676, 0.9705701287467676, 0.9402774690413622, 0.030331531259398782, 0.9490296594590926, 0.05531575265232763, 0.3318945159139658, 0.6361311555017677, 0.9389624247671077, 0.955060907423336, 0.998134087428325, 0.15867056908733587, 0.8330204877085133, 0.9490323729571823, 0.9318058475442902, 0.04599517277578071, 0.9199034555156143, 0.9636544060951071, 0.0292016486695487, 0.9550485743230462, 0.10888545581006207, 0.8928607376425088, 0.9664754921815549, 0.9922872651751821, 0.9702148531883501, 0.8731476007843163, 0.9702140862781977, 0.36978024668857895, 0.01540751027869079, 0.15407510278690792, 0.46222530836072373, 0.8731347003197771, 0.9705701287467676, 0.8731539921036935, 0.9705701287467676, 0.7742986143526304, 0.1935746535881576, 0.21831108479829497, 0.7277036159943165, 0.6173214937448651, 0.3788109166161672, 0.9954643553025453, 0.8731552280098873, 0.9705701287467676, 0.5982317027432995, 0.12819250773070703, 0.25638501546141407, 0.5302223229568398, 0.040786332535141516, 0.4214587695297957, 0.8280658877144751, 0.08771884403755033, 0.08421009027604831, 0.9984448631890948, 0.9783610198214068, 0.9705701287467676, 0.9566412236893658, 0.0409989095866871, 0.9106142292882023, 0.007403367717790263, 0.014806735435580526, 0.06663030946011236, 0.9969776683618077, 0.999042943451165, 0.9582388508420447, 0.9546734117419952, 0.04256505657448386, 0.931814696635865, 0.8731517380452056, 0.9490366294565974, 0.984787880218839, 0.9702144714285693, 0.9981080813407871, 0.9779645030478105, 0.013396774014353569, 0.9832744919407614, 0.9422207648110397, 0.12369355914878429, 0.2061559319146405, 0.6596989821268495, 0.9945871920902329, 0.9318169679791558, 0.9950609856734288, 0.9979215495345118, 0.13680828921873986, 0.15390932537108235, 0.4788290122655895, 0.22231346998045226, 0.9423935014682508, 0.07506366933642128, 0.22519100800926384, 0.6755730240277915, 0.5227140072813578, 0.470442606553222, 0.9664750533421556, 0.9664754921815549, 0.9213934350196402, 0.9216030608672126, 0.9203426306191396, 0.02604743294205112, 0.05209486588410224, 0.26003749022604195, 0.4100591192026046, 0.12001730318125015, 0.050007209658854225, 0.15002162897656268, 0.5616534026614879, 0.07375246701615497, 0.14750493403230994, 0.11346533387100766, 0.10779206717745726, 0.30886494315635266, 0.24496185146883143, 0.06390309168752124, 0.17040824450005665, 0.2130103056250708, 0.16618717484779386, 0.8309358742389692, 0.024016788658933922, 0.624436505132282, 0.16811752061253746, 0.16811752061253746, 0.9861951636113877, 0.1552675727089317, 0.7763378635446585, 0.9945171202401465, 0.08574908542721774, 0.9146569112236559, 0.9705701287467676, 0.031092379070936014, 0.3575623593157642, 0.46638568606404024, 0.09327713721280805, 0.06218475814187203, 0.9831882458154408, 0.9276702222220176, 0.9749775895060313, 0.15745319870409702, 0.25867311215673083, 0.23617979805614553, 0.04498662820117058, 0.3036597403579014, 0.49786281757685585, 0.47523268950518055, 0.915486470065986, 0.07323891760527888, 0.8491370766724466, 0.07338221650255712, 0.07338221650255712, 0.293192645639056, 0.39743891964405365, 0.08470009762906061, 0.22152333226062007, 0.5182881848621351, 0.05889638464342445, 0.42405396943265605, 0.9705701287467676, 0.8963988376228426, 0.9659811847240903, 0.9318105536527087, 0.767526569174524, 0.191881642293631, 0.984519883158378, 0.9705701287467676, 0.5900729051344062, 0.39972680670395266, 0.9705701287467676, 0.9063053842179731, 0.08973320635821516, 0.19050135737583235, 0.3810027147516647, 0.26193936639176946, 0.15478235286786377, 0.8731451591647226, 0.91569275127751, 0.9664751546501357, 0.5249031940017, 0.4646684012474066, 0.42890566403075436, 0.5661554765205957, 0.9855691253994161, 0.9702136559480738, 0.8340953027362007, 0.062950588885751, 0.09967176573577241, 0.9920602308872432, 0.9240006102123575, 0.07142033702124502, 0.9550302451665129, 0.9423965398067456, 0.9664754921815549, 0.8127556727645725, 0.16932409849261928, 0.18494773215328278, 0.012329848810218853, 0.2342671273941582, 0.3822253131167844, 0.18494773215328278, 0.9666651727209208, 0.8428790553752484, 0.1330861666381971, 0.8231542677358213, 0.08231542677358213, 0.08231542677358213, 0.9832924729162124, 0.5007290559252333, 0.35766361137516667, 0.13591217232256333, 0.9831889765461047, 0.9900690483767803, 0.9969800681898855, 0.9426968063494425, 0.9705701287467676, 0.9766874809480058, 0.98253518579407, 0.94239532510702, 0.11782479879827124, 0.18515325525442622, 0.5217955375352011, 0.15148902702634873, 0.01683211411403875, 0.9057398626645224, 0.8425881792570566, 0.08059539105937064, 0.07326853732670058, 0.9705701287467676, 0.740002738011262, 0.08222252644569579, 0.16444505289139158, 0.9831867385112681, 0.31505091664417273, 0.09693874358282238, 0.5573977756012287, 0.9648308214958925, 0.0067470686817894575, 0.028675041897605193, 0.9959439320062193, 0.671072317513018, 0.329649559480079, 0.9890911455409682, 0.996254943133445, 0.9705701287467676, 0.9709578222968813, 0.9705701287467676, 0.9423973903751439, 0.9747112761948664, 0.9705701287467676, 0.6035457807766126, 0.1324105539458895, 0.09237945624131826, 0.0585069889528349, 0.11393466269762585, 0.9664754921815549, 0.9831831483551426, 0.7577622094711775, 0.03540944904070922, 0.09206456750584399, 0.11331023693026952, 0.9766873255917731, 0.9659821212213658, 0.15996023048216493, 0.7678091063143916, 0.06398409219286597, 0.04312907973288102, 0.17251631893152408, 0.7331943554589774, 0.9747117645019847, 0.9318139073750836, 0.8777899177579778, 0.0675223013659983, 0.973932538229337, 0.024972629185367617, 0.9664723091638191, 0.9744196859189591, 0.2878115807762638, 0.5534838091851226, 0.022139352367404906, 0.11069676183702452, 0.9664754921815549, 0.9051253412395979, 0.9900747002211207, 0.9766867639166394, 0.5218990125271468, 0.3990992448737005, 0.06139988382672316, 0.9057307832193932, 0.9057240670819298, 0.9057389197301609, 0.9970761455164987, 0.3086416891424446, 0.4497350327504193, 0.08818333975498419, 0.1587300115589715, 0.21622073011250137, 0.1769078700920466, 0.058969290030682193, 0.5307236102761398, 0.17029796058553395, 0.09934047700822814, 0.17029796058553395, 0.17029796058553395, 0.3831704113174514], \"Term\": [\"20\", \"60\\u062f\\u0631\\u0647\\u0645\", \"\\u0627\\u0628\\u0644\\u064a\\u0633\", \"\\u0627\\u0628\\u0646\", \"\\u0627\\u0628\\u0646\", \"\\u0627\\u0628\\u0646\", \"\\u0627\\u062d\\u0644\\u0627\\u0645\\u0643\", \"\\u0627\\u062e\\u062a\\u064a\", \"\\u0627\\u062e\\u062a\\u064a\", \"\\u0627\\u062e\\u062a\\u064a\", \"\\u0627\\u062e\\u062a\\u064a\", \"\\u0627\\u062e\\u064a\\u0643\", \"\\u0627\\u0631\\u062f\\u0648\\u063a\\u0627\\u0646\", \"\\u0627\\u0631\\u062f\\u0648\\u063a\\u0627\\u0646\", \"\\u0627\\u0631\\u062f\\u0648\\u063a\\u0627\\u0646\", \"\\u0627\\u0633\\u062a\\u0639\\u0645\\u0644\", \"\\u0627\\u0633\\u0631\\u0627\\u0621\\u064a\\u0644\", \"\\u0627\\u0633\\u0631\\u0627\\u0621\\u064a\\u0644\", \"\\u0627\\u0633\\u0631\\u0627\\u0621\\u064a\\u0644\", \"\\u0627\\u0634\", \"\\u0627\\u0634\", \"\\u0627\\u0634\", \"\\u0627\\u0639\\u062f\\u0627\\u0621\", \"\\u0627\\u0639\\u062f\\u0627\\u0621\", \"\\u0627\\u0639\\u062f\\u0627\\u0645\", \"\\u0627\\u0639\\u062f\\u0627\\u0645\", \"\\u0627\\u0643\\u0628\\u0631\", \"\\u0627\\u0643\\u0628\\u0631\", \"\\u0627\\u0643\\u0628\\u0631\", \"\\u0627\\u0643\\u0628\\u0631\", \"\\u0627\\u0643\\u062b\\u0631\", \"\\u0627\\u0643\\u062b\\u0631\", \"\\u0627\\u0643\\u062b\\u0631\", \"\\u0627\\u0644\\u0627\", \"\\u0627\\u0644\\u0627\", \"\\u0627\\u0644\\u0627\", \"\\u0627\\u0644\\u0627\", \"\\u0627\\u0644\\u0627\", \"\\u0627\\u0644\\u0627\\u062e\\u0648\\u0627\\u0646\", \"\\u0627\\u0644\\u0627\\u062e\\u0648\\u0627\\u0646\", \"\\u0627\\u0644\\u0627\\u062e\\u0648\\u0627\\u0646\", \"\\u0627\\u0644\\u0627\\u062e\\u0648\\u0627\\u0646\", \"\\u0627\\u0644\\u0627\\u0631\\u0636\", \"\\u0627\\u0644\\u0627\\u0631\\u0636\", \"\\u0627\\u0644\\u0627\\u0631\\u0636\", \"\\u0627\\u0644\\u0627\\u0631\\u0636\", \"\\u0627\\u0644\\u0627\\u0631\\u0636\", \"\\u0627\\u0644\\u0627\\u0631\\u0647\\u0627\\u0628\", \"\\u0627\\u0644\\u0627\\u0631\\u0647\\u0627\\u0628\", \"\\u0627\\u0644\\u0627\\u0631\\u0647\\u0627\\u0628\\u064a\\u064a\\u0646\", \"\\u0627\\u0644\\u0627\\u0631\\u0647\\u0627\\u0628\\u064a\\u064a\\u0646\", \"\\u0627\\u0644\\u0627\\u0632\\u0645\\u0647\", \"\\u0627\\u0644\\u0627\\u0633\\u0631\\u0627\\u0621\\u064a\\u0644\\u064a\", \"\\u0627\\u0644\\u0627\\u0633\\u0644\\u0627\\u0645\", \"\\u0627\\u0644\\u0627\\u0633\\u0644\\u0627\\u0645\", \"\\u0627\\u0644\\u0627\\u0633\\u0644\\u0627\\u0645\", \"\\u0627\\u0644\\u0627\\u0633\\u0644\\u0627\\u0645\\u064a\\u0647\", \"\\u0627\\u0644\\u0627\\u0633\\u0644\\u0627\\u0645\\u064a\\u0647\", \"\\u0627\\u0644\\u0627\\u0633\\u0644\\u0627\\u0645\\u064a\\u0647\", \"\\u0627\\u0644\\u0627\\u0643\\u0631\\u0627\\u062f\", \"\\u0627\\u0644\\u0627\\u0643\\u0631\\u0627\\u062f\", \"\\u0627\\u0644\\u0627\\u0643\\u0631\\u0627\\u062f\", \"\\u0627\\u0644\\u0627\\u0644\\u0647\", \"\\u0627\\u0644\\u0627\\u0645\", \"\\u0627\\u0644\\u0627\\u0645\", \"\\u0627\\u0644\\u0627\\u0645\", \"\\u0627\\u0644\\u0628\\u0631\\u062a\\u0648\\u0634\", \"\\u0627\\u0644\\u062c\\u0632\\u064a\\u0631\\u0647\", \"\\u0627\\u0644\\u062c\\u0632\\u064a\\u0631\\u0647\", \"\\u0627\\u0644\\u062c\\u0632\\u064a\\u0631\\u0647\", \"\\u0627\\u0644\\u062c\\u064a\\u0634\", \"\\u0627\\u0644\\u062d\\u0628\\u0633\", \"\\u0627\\u0644\\u062d\\u0642\", \"\\u0627\\u0644\\u062d\\u0642\", \"\\u0627\\u0644\\u062d\\u0642\", \"\\u0627\\u0644\\u062d\\u0642\", \"\\u0627\\u0644\\u062d\\u0642\", \"\\u0627\\u0644\\u062d\\u0644\\u0627\\u0644\", \"\\u0627\\u0644\\u062d\\u0645\\u064a\\u0631\", \"\\u0627\\u0644\\u062d\\u0648\\u062b\\u064a\", \"\\u0627\\u0644\\u062e\\u062f\\u0645\\u0647\", \"\\u0627\\u0644\\u062e\\u062f\\u0645\\u0647\", \"\\u0627\\u0644\\u062e\\u0631\\u0627\\u0621\", \"\\u0627\\u0644\\u062e\\u0646\\u0632\", \"\\u0627\\u0644\\u062e\\u0646\\u0632\\u064a\\u0631\\u0647\", \"\\u0627\\u0644\\u062e\\u0646\\u0632\\u064a\\u0631\\u0647\", \"\\u0627\\u0644\\u062e\\u0646\\u0632\\u064a\\u0631\\u0647\", \"\\u0627\\u0644\\u062e\\u0648\\u0646\\u0647\", \"\\u0627\\u0644\\u062e\\u0648\\u0646\\u0647\", \"\\u0627\\u0644\\u062e\\u0648\\u0646\\u0647\", \"\\u0627\\u0644\\u062f\\u0641\\u0646\", \"\\u0627\\u0644\\u062f\\u0648\\u0644\", \"\\u0627\\u0644\\u062f\\u0648\\u0644\", \"\\u0627\\u0644\\u062f\\u0648\\u0644\", \"\\u0627\\u0644\\u062f\\u0648\\u0644\", \"\\u0627\\u0644\\u062f\\u0648\\u0644\\u0647\", \"\\u0627\\u0644\\u062f\\u0648\\u0644\\u0647\", \"\\u0627\\u0644\\u062f\\u0648\\u0644\\u0647\", \"\\u0627\\u0644\\u062f\\u0648\\u0644\\u0647\", \"\\u0627\\u0644\\u0631\\u0627\\u0628\\u0637\", \"\\u0627\\u0644\\u0631\\u0627\\u064a\", \"\\u0627\\u0644\\u0631\\u0627\\u064a\", \"\\u0627\\u0644\\u0631\\u0628\\u062d\", \"\\u0627\\u0644\\u0631\\u062d\\u0645\\u0646\", \"\\u0627\\u0644\\u0632\\u0628\\u0644\", \"\\u0627\\u0644\\u0632\\u0645\\u0627\\u0646\\u0641\\u064a\", \"\\u0627\\u0644\\u0633\\u062c\\u0646\", \"\\u0627\\u0644\\u0633\\u0639\\u0648\\u062f\\u064a\\u0647\", \"\\u0627\\u0644\\u0633\\u0639\\u0648\\u062f\\u064a\\u0647\", \"\\u0627\\u0644\\u0633\\u0639\\u0648\\u062f\\u064a\\u0647\", \"\\u0627\\u0644\\u0633\\u0639\\u0648\\u062f\\u06cc\\u0647\", \"\\u0627\\u0644\\u0633\\u0646\\u0647\", \"\\u0627\\u0644\\u0633\\u0646\\u0647\", \"\\u0627\\u0644\\u0633\\u0646\\u0647\", \"\\u0627\\u0644\\u0633\\u064a\\u0633\\u064a\", \"\\u0627\\u0644\\u0633\\u064a\\u0633\\u064a\", \"\\u0627\\u0644\\u0633\\u064a\\u0633\\u064a\", \"\\u0627\\u0644\\u0633\\u064a\\u0633\\u064a\", \"\\u0627\\u0644\\u0634\\u0639\\u0628\", \"\\u0627\\u0644\\u0634\\u0639\\u0628\", \"\\u0627\\u0644\\u0634\\u0639\\u0628\", \"\\u0627\\u0644\\u0634\\u0639\\u0628\", \"\\u0627\\u0644\\u0635\\u0647\\u064a\\u0648\\u0646\\u064a\", \"\\u0627\\u0644\\u0635\\u0647\\u064a\\u0648\\u0646\\u064a\", \"\\u0627\\u0644\\u0635\\u0647\\u064a\\u0648\\u0646\\u064a\", \"\\u0627\\u0644\\u0635\\u0648\\u062a\", \"\\u0627\\u0644\\u0639\\u062f\\u064a\\u062f\", \"\\u0627\\u0644\\u0639\\u0630\\u0627\\u0628\", \"\\u0627\\u0644\\u0639\\u0630\\u0627\\u0628\", \"\\u0627\\u0644\\u0639\\u0631\\u0627\\u0642\", \"\\u0627\\u0644\\u0639\\u0631\\u0627\\u0642\", \"\\u0627\\u0644\\u0639\\u0631\\u0627\\u0642\", \"\\u0627\\u0644\\u0639\\u0631\\u0628\", \"\\u0627\\u0644\\u0639\\u0631\\u0628\", \"\\u0627\\u0644\\u0639\\u0631\\u0628\", \"\\u0627\\u0644\\u0639\\u0631\\u0628\\u064a\\u0647\", \"\\u0627\\u0644\\u0639\\u0631\\u0628\\u064a\\u0647\", \"\\u0627\\u0644\\u0639\\u0631\\u0628\\u064a\\u0647\", \"\\u0627\\u0644\\u0639\\u0631\\u0628\\u064a\\u0647\", \"\\u0627\\u0644\\u0639\\u0638\\u064a\\u0645\", \"\\u0627\\u0644\\u0639\\u0638\\u064a\\u0645\", \"\\u0627\\u0644\\u0639\\u0638\\u064a\\u0645\", \"\\u0627\\u0644\\u0639\\u0638\\u064a\\u0645\", \"\\u0627\\u0644\\u0642\\u0627\\u062f\\u0627\\u062a\", \"\\u0627\\u0644\\u0642\\u0637\\u0631\\u064a\", \"\\u0627\\u0644\\u0642\\u0644\\u0627\\u0648\\u064a\", \"\\u0627\\u0644\\u0642\\u0644\\u0627\\u0648\\u064a\", \"\\u0627\\u0644\\u0642\\u0646\\u0627\\u0647\", \"\\u0627\\u0644\\u0643\\u0627\\u062f\\u0648\\u0627\\u062a\", \"\\u0627\\u0644\\u0643\\u0631\\u064a\\u0645\\u0647\", \"\\u0627\\u0644\\u0644\\u0647\", \"\\u0627\\u0644\\u0644\\u0647\", \"\\u0627\\u0644\\u0644\\u0647\", \"\\u0627\\u0644\\u0644\\u0647\", \"\\u0627\\u0644\\u0644\\u0647\", \"\\u0627\\u0644\\u0644\\u0647\\u0645\", \"\\u0627\\u0644\\u0644\\u0647\\u0645\", \"\\u0627\\u0644\\u0644\\u0647\\u0645\", \"\\u0627\\u0644\\u0644\\u0647\\u0645\", \"\\u0627\\u0644\\u0644\\u0647\\u0645\", \"\\u0627\\u0644\\u0644\\u064a\", \"\\u0627\\u0644\\u0644\\u064a\", \"\\u0627\\u0644\\u0644\\u064a\", \"\\u0627\\u0644\\u0644\\u064a\", \"\\u0627\\u0644\\u0644\\u064a\", \"\\u0627\\u0644\\u0644\\u064a\\u0628\\u064a\", \"\\u0627\\u0644\\u0645\\u062c\\u0631\\u0645\", \"\\u0627\\u0644\\u0645\\u062c\\u0631\\u0645\", \"\\u0627\\u0644\\u0645\\u062c\\u0631\\u0645\", \"\\u0627\\u0644\\u0645\\u062c\\u0631\\u0645\", \"\\u0627\\u0644\\u0645\\u062f\\u062e\\u0648\\u0644\", \"\\u0627\\u0644\\u0645\\u0633\\u0644\\u0645\\u064a\\u0646\", \"\\u0627\\u0644\\u0645\\u0633\\u0644\\u0645\\u064a\\u0646\", \"\\u0627\\u0644\\u0645\\u0633\\u0644\\u0645\\u064a\\u0646\", \"\\u0627\\u0644\\u0645\\u0633\\u0644\\u0645\\u064a\\u0646\", \"\\u0627\\u0644\\u0645\\u0633\\u0644\\u0645\\u064a\\u0646\", \"\\u0627\\u0644\\u0645\\u0635\\u0631\\u064a\", \"\\u0627\\u0644\\u0645\\u0635\\u0631\\u064a\", \"\\u0627\\u0644\\u0645\\u063a\\u0631\\u0628\", \"\\u0627\\u0644\\u0645\\u063a\\u0631\\u0628\", \"\\u0627\\u0644\\u0645\\u0642\\u0627\\u0648\\u0645\\u0647\", \"\\u0627\\u0644\\u0645\\u0646\\u0643\\u0631\", \"\\u0627\\u0644\\u0645\\u0646\\u0643\\u0631\", \"\\u0627\\u0644\\u0646\\u0627\\u0633\", \"\\u0627\\u0644\\u0646\\u0627\\u0633\", \"\\u0627\\u0644\\u0646\\u0627\\u0633\", \"\\u0627\\u0644\\u0646\\u0627\\u0633\", \"\\u0627\\u0644\\u0646\\u0627\\u0633\", \"\\u0627\\u0644\\u0646\\u0635\\u0631\\u0647\", \"\\u0627\\u0644\\u0648\\u0637\\u0646\", \"\\u0627\\u0644\\u0648\\u0637\\u0646\", \"\\u0627\\u0644\\u064a\", \"\\u0627\\u0644\\u064a\", \"\\u0627\\u0644\\u064a\", \"\\u0627\\u0644\\u064a\", \"\\u0627\\u0644\\u064a\", \"\\u0627\\u0644\\u064a\\u0645\\u0646\", \"\\u0627\\u0644\\u064a\\u0645\\u0646\", \"\\u0627\\u0644\\u064a\\u0645\\u0646\", \"\\u0627\\u0644\\u064a\\u0645\\u0646\\u064a\", \"\\u0627\\u0644\\u064a\\u0645\\u0646\\u064a\\u064a\\u0646\", \"\\u0627\\u0645\", \"\\u0627\\u0645\", \"\\u0627\\u0645\", \"\\u0627\\u0645\", \"\\u0627\\u0645\", \"\\u0627\\u0645\\u0631\\u064a\\u0643\\u0627\", \"\\u0627\\u0645\\u0631\\u064a\\u0643\\u0627\", \"\\u0627\\u0645\\u0631\\u064a\\u0643\\u0627\", \"\\u0627\\u0645\\u064a\\u0646\", \"\\u0627\\u0645\\u064a\\u0646\", \"\\u0627\\u0646\", \"\\u0627\\u0646\", \"\\u0627\\u0646\", \"\\u0627\\u0646\", \"\\u0627\\u0646\\u0627\", \"\\u0627\\u0646\\u0627\", \"\\u0627\\u0646\\u0627\", \"\\u0627\\u0646\\u0627\", \"\\u0627\\u0646\\u0627\", \"\\u0627\\u0646\\u062a\", \"\\u0627\\u0646\\u062a\", \"\\u0627\\u0646\\u062a\", \"\\u0627\\u0646\\u062a\\u0645\", \"\\u0627\\u0646\\u062a\\u0645\", \"\\u0627\\u0646\\u062a\\u0645\", \"\\u0627\\u0646\\u062a\\u0645\", \"\\u0627\\u0646\\u062a\\u0648\", \"\\u0627\\u0646\\u062a\\u0648\", \"\\u0627\\u0646\\u0643\", \"\\u0627\\u0646\\u0643\", \"\\u0627\\u0646\\u0643\", \"\\u0627\\u0646\\u0643\", \"\\u0627\\u0646\\u0647\", \"\\u0627\\u0646\\u0647\", \"\\u0627\\u0646\\u0647\", \"\\u0627\\u0646\\u0647\", \"\\u0627\\u0646\\u0647\", \"\\u0627\\u0647\\u0644\", \"\\u0627\\u0647\\u0644\", \"\\u0627\\u0647\\u0644\", \"\\u0627\\u0648\", \"\\u0627\\u0648\", \"\\u0627\\u0648\", \"\\u0627\\u0648\", \"\\u0627\\u0648\", \"\\u0627\\u0648\\u0644\\u0627\\u062f\\u0643\", \"\\u0627\\u064a\", \"\\u0627\\u064a\", \"\\u0627\\u064a\", \"\\u0627\\u064a\", \"\\u0627\\u064a\\u0631\\u0627\\u0646\", \"\\u0627\\u064a\\u0631\\u0627\\u0646\", \"\\u0627\\u064a\\u0631\\u0627\\u0646\", \"\\u0627\\u064a\\u0646\", \"\\u0627\\u064a\\u0646\", \"\\u0628\\u0627\\u0634\", \"\\u0628\\u0627\\u0644\\u0627\\u0639\\u0634\\u0627\\u0628\", \"\\u0628\\u0627\\u0644\\u0644\\u0647\", \"\\u0628\\u0627\\u0644\\u0644\\u0647\", \"\\u0628\\u0627\\u0644\\u0644\\u0647\", \"\\u0628\\u0627\\u0644\\u0644\\u0647\", \"\\u0628\\u0627\\u0644\\u0648\\u0639\\u0648\\u062f\", \"\\u0628\\u0627\\u064a\", \"\\u0628\\u0627\\u064a\", \"\\u0628\\u0627\\u064a\", \"\\u0628\\u0627\\u064a\\u0646\\u0647\", \"\\u0628\\u062d\\u0627\\u0644\", \"\\u0628\\u062d\\u0627\\u0644\", \"\\u0628\\u0646\\u062a\", \"\\u0628\\u0646\\u062a\", \"\\u0628\\u0646\\u062a\", \"\\u0628\\u0646\\u062a\\u0643\\u0648\\u0646\\u0632\\u064a\\u062f\\u0643\", \"\\u062a\\u062e\\u064a\\u0631\\u064a\", \"\\u062a\\u0631\\u0643\\u064a\\u0627\", \"\\u062a\\u0631\\u0643\\u064a\\u0627\", \"\\u062a\\u0632\\u064a\\u062f\\u064a\", \"\\u062a\\u0639\\u0627\\u0644\\u064a\", \"\\u062a\\u0639\\u0627\\u0644\\u064a\", \"\\u062a\\u0639\\u0627\\u0644\\u064a\", \"\\u062a\\u0639\\u0627\\u0648\\u0646\", \"\\u062a\\u0641\\u0647\\u0645\\u064a\", \"\\u062a\\u0641\\u0648\", \"\\u062a\\u0642\\u062f\\u0631\", \"\\u062a\\u0642\\u062f\\u0631\", \"\\u062a\\u0642\\u062f\\u0631\\u064a\", \"\\u062a\\u0646\\u062f\\u0645\\u064a\", \"\\u062a\\u0646\\u0638\\u064a\\u0645\", \"\\u062a\\u0646\\u0638\\u064a\\u0645\", \"\\u062a\\u064a\\u0641\\u064a\", \"\\u062a\\u064a\\u0641\\u064a\", \"\\u062c\\u0627\\u0628\\u062a\", \"\\u062c\\u0647\\u0646\\u0645\", \"\\u062c\\u0647\\u0646\\u0645\", \"\\u062d\\u0628\\u0633\\u062a\\u064a\", \"\\u062d\\u0631\\u0628\", \"\\u062d\\u0641\\u062a\\u0631\", \"\\u062d\\u0642\\u0642\\u064a\", \"\\u062d\\u0645\\u0627\\u0633\", \"\\u062d\\u0648\\u0644\", \"\\u062d\\u0648\\u0644\", \"\\u062d\\u0648\\u0644\", \"\\u062d\\u0648\\u0644\", \"\\u062d\\u0648\\u0644\\u0627\", \"\\u062e\\u062a\\u064a\\u0627\\u0631\\u0643\", \"\\u062e\\u0644\\u0635\\u0647\", \"\\u062f\\u0627\\u0631\\u062a\\u0647\\u0627\", \"\\u062f\\u0627\\u0631\\u0643\", \"\\u062f\\u0627\\u0631\\u0643\", \"\\u062f\\u0627\\u0631\\u0648\", \"\\u062f\\u0627\\u0631\\u0648\", \"\\u062f\\u0627\\u0639\\u0634\", \"\\u062f\\u0627\\u0639\\u0634\", \"\\u062f\\u0627\\u0643\", \"\\u062f\\u0628\\u0644\\u0648\\u0645\", \"\\u062f\\u062e\\u0644\\u062a\\u064a\\u0647\\u0627\", \"\\u062f\\u0648\\u0644\", \"\\u062f\\u0648\\u0644\", \"\\u062f\\u0648\\u0644\", \"\\u062f\\u0648\\u0644\\u0647\", \"\\u062f\\u0648\\u0644\\u0647\", \"\\u062f\\u0648\\u0644\\u0647\", \"\\u062f\\u064a\\u0627\\u0644\", \"\\u062f\\u064a\\u0627\\u0644\", \"\\u062f\\u064a\\u0627\\u0644\", \"\\u062f\\u064a\\u0627\\u0644\\u0643\", \"\\u062f\\u064a\\u0643\", \"\\u0630\\u0648\\u0642\\u0643\", \"\\u0631\\u0627\\u062c\\u0644\", \"\\u0631\\u0627\\u062c\\u0644\", \"\\u0631\\u0627\\u0633\\u0643\", \"\\u0631\\u0627\\u0633\\u0643\", \"\\u0631\\u0627\\u0633\\u0643\", \"\\u0631\\u0627\\u0633\\u0643\", \"\\u0631\\u0627\\u0643\", \"\\u0631\\u0627\\u0647\", \"\\u0631\\u0628\\u0647\", \"\\u0631\\u0628\\u064a\", \"\\u0631\\u0628\\u064a\", \"\\u0632\\u0627\\u0621\\u062f\", \"\\u0633\\u0639\\u062f\", \"\\u0633\\u0648\\u0627\", \"\\u0633\\u0648\\u0631\\u064a\\u0627\", \"\\u0633\\u0648\\u0631\\u064a\\u0647\", \"\\u0633\\u064a\\u0631\", \"\\u0633\\u064a\\u0631\\u064a\", \"\\u0633\\u064a\\u0631\\u064a\", \"\\u0634\\u0631\\u0643\\u0647\", \"\\u0634\\u0631\\u064a\\u0643\\u0647\", \"\\u0634\\u0643\\u0631\\u0627\", \"\\u0634\\u0643\\u0631\\u0627\", \"\\u0634\\u0643\\u0631\\u0627\", \"\\u0634\\u0646\\u0648\", \"\\u0634\\u0647\\u0631\\u064a\\u0647\", \"\\u0634\\u0648\\u0641\", \"\\u0634\\u064a\", \"\\u0634\\u064a\\u0621\", \"\\u0634\\u064a\\u0621\", \"\\u0634\\u064a\\u0621\", \"\\u0634\\u064a\\u0621\", \"\\u0634\\u064a\\u0621\\u0627\", \"\\u0635\\u0644\\u064a\", \"\\u0635\\u0644\\u064a\", \"\\u0635\\u0644\\u064a\", \"\\u0636\\u062f\", \"\\u0636\\u062f\", \"\\u0636\\u0644\", \"\\u0637\\u0627\\u0644\\u0628\\u0647\", \"\\u0639\\u0628\\u0627\\u0633\", \"\\u0639\\u0630\\u0627\\u0628\", \"\\u0639\\u0644\\u0627\\u0634\", \"\\u0639\\u0644\\u0627\\u0634\", \"\\u0639\\u0644\\u0627\\u0634\", \"\\u0639\\u0644\\u064a\", \"\\u0639\\u0644\\u064a\", \"\\u0639\\u0644\\u064a\", \"\\u0639\\u0644\\u064a\", \"\\u0639\\u0644\\u064a\", \"\\u0639\\u0644\\u064a\\u0643\\u0645\", \"\\u0639\\u0644\\u064a\\u0643\\u0645\", \"\\u0639\\u0644\\u064a\\u0643\\u0645\", \"\\u0639\\u0644\\u064a\\u0643\\u0645\", \"\\u0639\\u0644\\u064a\\u0643\\u0645\", \"\\u0639\\u0644\\u064a\\u0647\\u0645\", \"\\u0639\\u0644\\u064a\\u0647\\u0645\", \"\\u0639\\u0644\\u064a\\u0647\\u0645\", \"\\u0639\\u0644\\u064a\\u0647\\u0645\", \"\\u0639\\u0644\\u064a\\u0647\\u0645\", \"\\u0639\\u0645\\u0644\", \"\\u0639\\u0645\\u0644\", \"\\u0639\\u0646\\u062f\\u0645\\u0627\", \"\\u0639\\u0646\\u062f\\u0645\\u0627\", \"\\u0639\\u0646\\u062f\\u0645\\u0627\", \"\\u0639\\u0646\\u062f\\u0645\\u0627\", \"\\u0639\\u0646\\u062f\\u0648\", \"\\u0639\\u0648\\u064a\\u0637\\u0647\", \"\\u0639\\u0648\\u064a\\u0637\\u0647\", \"\\u063a\\u0627\\u062f\\u064a\", \"\\u0641\\u0627\\u0628\\u0648\\u0631\", \"\\u0641\\u0627\\u0628\\u0648\\u0631\", \"\\u0641\\u0627\\u064a\\u062f\\u0647\\u0627\\u062c\\u064a\", \"\\u0641\\u0642\\u0637\", \"\\u0641\\u0642\\u0637\", \"\\u0641\\u0642\\u0637\", \"\\u0641\\u0642\\u0637\", \"\\u0641\\u0642\\u0637\", \"\\u0641\\u0643\\u0648\\u0632\\u064a\\u0646\\u062a\\u0643\", \"\\u0641\\u064a\\u064a\\u064a\\u064a\\u064a\\u064a\\u064a\\u0646\\u0643\\u0645\", \"\\u0641\\u06cc\", \"\\u0642\\u0627\\u0644\", \"\\u0642\\u0627\\u0644\", \"\\u0642\\u0627\\u0644\", \"\\u0642\\u0627\\u0644\", \"\\u0642\\u0627\\u0644\", \"\\u0642\\u0628\\u062d\", \"\\u0642\\u0628\\u062d\", \"\\u0642\\u062a\\u0644\", \"\\u0642\\u062a\\u0644\", \"\\u0642\\u0637\\u0631\", \"\\u0642\\u0637\\u0631\", \"\\u0642\\u0637\\u0631\", \"\\u0642\\u0646\\u0627\\u0647\", \"\\u0642\\u0646\\u0627\\u0647\", \"\\u0642\\u0646\\u0627\\u0647\", \"\\u0642\\u0646\\u0627\\u0647\", \"\\u0642\\u0648\\u0647\", \"\\u0642\\u0648\\u0647\", \"\\u0642\\u0648\\u0647\", \"\\u0643\\u0627\\u062f\\u0648\\u0627\\u062a\", \"\\u0643\\u062a\\u0642\\u062f\\u0627\\u064a\", \"\\u0643\\u062b\\u064a\\u0631\", \"\\u0643\\u0631\\u064a\\u0645\", \"\\u0643\\u0644\\u0627\\u0628\", \"\\u0643\\u0644\\u0627\\u0628\", \"\\u0643\\u0644\\u0634\\u064a\", \"\\u0643\\u0645\\u0648\\u0646\\u062f\", \"\\u0643\\u0648\\u0631\\u0648\\u0646\\u0627\", \"\\u0643\\u0648\\u0631\\u0648\\u0646\\u0627\", \"\\u0643\\u0648\\u0645\\u0648\\u0646\\u062f\", \"\\u0643\\u0648\\u0646\", \"\\u0643\\u0648\\u0646\", \"\\u0644\\u0627\\u0646\", \"\\u0644\\u0627\\u0646\", \"\\u0644\\u0627\\u0646\", \"\\u0644\\u0627\\u0646\", \"\\u0644\\u062f\\u0627\\u0631\\u0643\", \"\\u0644\\u0642\\u0644\\u0627\\u0648\\u064a\", \"\\u0644\\u0644\\u0627\\u0646\\u0636\\u0645\\u0627\\u0645\", \"\\u0644\\u0644\\u0647\", \"\\u0644\\u0644\\u0647\", \"\\u0644\\u0645\\u0627\\u0630\\u0627\", \"\\u0644\\u0645\\u0627\\u0630\\u0627\", \"\\u0644\\u064a\\u0627\", \"\\u0644\\u064a\\u0628\\u064a\\u0627\", \"\\u0644\\u064a\\u0643\", \"\\u0644\\u064a\\u0643\", \"\\u0644\\u064a\\u0643\", \"\\u0644\\u064a\\u0647\\u0627\", \"\\u0645\\u0627\\u0634\\u064a\", \"\\u0645\\u0627\\u0634\\u064a\", \"\\u0645\\u0627\\u064a\\u062d\\u0634\\u0645\", \"\\u0645\\u0628\\u0631\\u0648\\u0643\", \"\\u0645\\u062a\\u0642\\u062f\\u0631\\u064a\\u0634\", \"\\u0645\\u062c\\u0631\\u0645\", \"\\u0645\\u062c\\u0631\\u0645\", \"\\u0645\\u062d\\u0645\\u062f\", \"\\u0645\\u062d\\u0645\\u062f\", \"\\u0645\\u062d\\u0645\\u062f\", \"\\u0645\\u062d\\u0645\\u062f\", \"\\u0645\\u062d\\u0645\\u062f\", \"\\u0645\\u062f\\u062e\\u0648\\u0644\", \"\\u0645\\u0631\\u062a\\u0632\\u0642\\u0647\", \"\\u0645\\u0631\\u062a\\u0632\\u0642\\u0647\", \"\\u0645\\u0631\\u0633\\u064a\", \"\\u0645\\u0631\\u0633\\u064a\", \"\\u0645\\u0631\\u0633\\u064a\", \"\\u0645\\u0633\\u0643\\u064a\\u0646\\u0647\", \"\\u0645\\u0635\\u0631\", \"\\u0645\\u0635\\u0631\", \"\\u0645\\u0635\\u0631\", \"\\u0645\\u0636\\u0645\\u0648\\u0646\", \"\\u0645\\u0639\\u0627\\u0643\", \"\\u0645\\u0639\\u0627\\u0647\", \"\\u0645\\u0639\\u0647\\u0645\", \"\\u0645\\u063a\\u0631\\u0628\\u064a\\u0647100\", \"\\u0645\\u0644\\u0642\\u064a\\u062a\\u064a\\u0634\", \"\\u0645\\u0644\\u064a\", \"\\u0645\\u0646\\u0628\\u0631\", \"\\u0645\\u0646\\u0647\\u0645\", \"\\u0645\\u0646\\u0647\\u0645\", \"\\u0645\\u0646\\u0647\\u0645\", \"\\u0645\\u0646\\u0647\\u0645\", \"\\u0645\\u0646\\u0647\\u0645\", \"\\u0645\\u0648\\u0647\\u0628\\u0647\", \"\\u0646\\u062a\\u064a\", \"\\u0646\\u062a\\u064a\", \"\\u0646\\u062a\\u064a\", \"\\u0646\\u0633\\u0648\\u0644\\u0643\\u0645\", \"\\u0646\\u0641\\u0633\\u0647\", \"\\u0646\\u0641\\u0633\\u0647\", \"\\u0646\\u0641\\u0633\\u0647\", \"\\u0646\\u0642\\u0627\\u0637\", \"\\u0646\\u0642\\u0648\\u0644\", \"\\u0646\\u0642\\u0648\\u0644\", \"\\u0646\\u0642\\u0648\\u0644\", \"\\u0647\\u0627\\u062f\", \"\\u0647\\u0627\\u062f\", \"\\u0647\\u0627\\u062f\", \"\\u0647\\u0627\\u062f\\u0634\\u064a\", \"\\u0647\\u0627\\u0630\", \"\\u0647\\u0627\\u0630\", \"\\u0647\\u062f\", \"\\u0648\\u0627\\u0634\", \"\\u0648\\u0627\\u0644\\u062a\\u0633\\u062c\\u064a\\u0644\", \"\\u0648\\u0627\\u0644\\u062f\\u064a\\u0643\", \"\\u0648\\u0627\\u0644\\u0631\\u0628\\u062d\", \"\\u0648\\u0627\\u0644\\u0633\\u0639\\u0648\\u062f\\u064a\\u0647\", \"\\u0648\\u0627\\u0644\\u0639\\u0631\\u0627\\u0642\", \"\\u0648\\u0627\\u0644\\u0643\\u0627\\u062a\\u0627\\u0644\\u0648\\u0643\", \"\\u0648\\u0627\\u0644\\u0644\\u0647\", \"\\u0648\\u0627\\u0644\\u0644\\u0647\", \"\\u0648\\u0627\\u0644\\u0644\\u0647\", \"\\u0648\\u0627\\u0644\\u0644\\u0647\", \"\\u0648\\u0627\\u0644\\u0644\\u0647\", \"\\u0648\\u0628\\u063a\\u064a\\u062a\\u064a\", \"\\u0648\\u0628\\u0644\\u0627\", \"\\u0648\\u062c\\u0647\", \"\\u0648\\u062c\\u0647\", \"\\u0648\\u062c\\u0647\", \"\\u0648\\u062c\\u0647\", \"\\u0648\\u062f\\u062e\\u0644\\u064a\", \"\\u0648\\u0631\\u0627\\u0621\", \"\\u0648\\u0633\\u0637\", \"\\u0648\\u0633\\u0637\", \"\\u0648\\u0633\\u0637\", \"\\u0648\\u0633\\u0644\\u0645\", \"\\u0648\\u0633\\u0644\\u0645\", \"\\u0648\\u0633\\u0644\\u0645\", \"\\u0648\\u0633\\u0648\\u0631\\u064a\\u0627\", \"\\u0648\\u0639\\u0627\\u062f\", \"\\u0648\\u063a\\u064a\\u0631\", \"\\u0648\\u063a\\u064a\\u0631\", \"\\u0648\\u0644\\u062f\", \"\\u0648\\u0644\\u062f\", \"\\u0648\\u0644\\u0643\\u064a\\u0646\", \"\\u0648\\u0644\\u064a\\u062f\\u0627\\u062a\\u0643\", \"\\u0648\\u0644\\u064a\\u0633\", \"\\u0648\\u0644\\u064a\\u0633\", \"\\u0648\\u0644\\u064a\\u0633\", \"\\u0648\\u0644\\u064a\\u0633\", \"\\u0648\\u0645\\u0648\\u0644\\u0627\\u062a\\u064a\", \"\\u064a\\u0627\\u062c\\u0632\\u064a\\u0631\\u0647\", \"\\u064a\\u0627\\u0631\\u0628\\u064a\", \"\\u064a\\u0627\\u0644\\u0627\\u0647\", \"\\u064a\\u062c\\u0628\", \"\\u064a\\u062c\\u0628\", \"\\u064a\\u062c\\u0628\", \"\\u064a\\u062d\\u0641\\u0638\\u0643\", \"\\u064a\\u0633\\u062a\\u0631\\u0643\", \"\\u064a\\u0638\\u0647\\u0631\", \"\\u064a\\u0639\\u0637\\u064a\\u0643\", \"\\u064a\\u0639\\u0646\\u064a\", \"\\u064a\\u0639\\u0646\\u064a\", \"\\u064a\\u0639\\u0646\\u064a\", \"\\u064a\\u0639\\u0646\\u064a\", \"\\u064a\\u0642\\u0648\\u0644\", \"\\u064a\\u0642\\u0648\\u0644\", \"\\u064a\\u0642\\u0648\\u0644\", \"\\u064a\\u0642\\u0648\\u0644\", \"\\u064a\\u0648\\u0645\", \"\\u064a\\u0648\\u0645\", \"\\u064a\\u0648\\u0645\", \"\\u064a\\u0648\\u0645\", \"\\u064a\\u0648\\u0645\"]}, \"R\": 30, \"lambda.step\": 0.01, \"plot.opts\": {\"xlab\": \"PC1\", \"ylab\": \"PC2\"}, \"topic.order\": [4, 2, 5, 3, 1]};\n",
       "\n",
       "function LDAvis_load_lib(url, callback){\n",
       "  var s = document.createElement('script');\n",
       "  s.src = url;\n",
       "  s.async = true;\n",
       "  s.onreadystatechange = s.onload = callback;\n",
       "  s.onerror = function(){console.warn(\"failed to load library \" + url);};\n",
       "  document.getElementsByTagName(\"head\")[0].appendChild(s);\n",
       "}\n",
       "\n",
       "if(typeof(LDAvis) !== \"undefined\"){\n",
       "   // already loaded: just create the visualization\n",
       "   !function(LDAvis){\n",
       "       new LDAvis(\"#\" + \"ldavis_el126002086782140304558708317\", ldavis_el126002086782140304558708317_data);\n",
       "   }(LDAvis);\n",
       "}else if(typeof define === \"function\" && define.amd){\n",
       "   // require.js is available: use it to load d3/LDAvis\n",
       "   require.config({paths: {d3: \"https://d3js.org/d3.v5\"}});\n",
       "   require([\"d3\"], function(d3){\n",
       "      window.d3 = d3;\n",
       "      LDAvis_load_lib(\"https://cdn.jsdelivr.net/gh/bmabey/pyLDAvis@3.3.1/pyLDAvis/js/ldavis.v3.0.0.js\", function(){\n",
       "        new LDAvis(\"#\" + \"ldavis_el126002086782140304558708317\", ldavis_el126002086782140304558708317_data);\n",
       "      });\n",
       "    });\n",
       "}else{\n",
       "    // require.js not available: dynamically load d3 & LDAvis\n",
       "    LDAvis_load_lib(\"https://d3js.org/d3.v5.js\", function(){\n",
       "         LDAvis_load_lib(\"https://cdn.jsdelivr.net/gh/bmabey/pyLDAvis@3.3.1/pyLDAvis/js/ldavis.v3.0.0.js\", function(){\n",
       "                 new LDAvis(\"#\" + \"ldavis_el126002086782140304558708317\", ldavis_el126002086782140304558708317_data);\n",
       "            })\n",
       "         });\n",
       "}\n",
       "</script>"
      ],
      "text/plain": [
       "PreparedData(topic_coordinates=                x           y  topics  cluster       Freq\n",
       "topic                                                    \n",
       "3      150.222153  -72.269554       1        1  41.491833\n",
       "1       51.163364 -159.968018       2        1  17.234561\n",
       "4      -73.144554   21.523815       3        1  15.702616\n",
       "2      -66.410133 -110.606438       4        1  13.302414\n",
       "0       54.417324   12.443444       5        1  12.268576, topic_info=         Term         Freq        Total Category  logprob  loglift\n",
       "2365     الله  2429.000000  2429.000000  Default  30.0000  30.0000\n",
       "9675      هاد   592.000000   592.000000  Default  29.0000  29.0000\n",
       "4454      تفو   392.000000   392.000000  Default  28.0000  28.0000\n",
       "6255       شي   371.000000   371.000000  Default  27.0000  27.0000\n",
       "3002       ان   433.000000   433.000000  Default  26.0000  26.0000\n",
       "...       ...          ...          ...      ...      ...      ...\n",
       "5514     ديال    23.637354   285.001476   Topic5  -6.1311  -0.3915\n",
       "3122       او    24.030936   426.970213   Topic5  -6.1146  -0.7792\n",
       "1460   الدوله    18.213247    88.873238   Topic5  -6.3918   0.5131\n",
       "6794    عليكم    18.645411   176.265290   Topic5  -6.3684  -0.1483\n",
       "11437    يعني    17.841544   113.400105   Topic5  -6.4124   0.2487\n",
       "\n",
       "[358 rows x 6 columns], token_table=       Topic      Freq    Term\n",
       "term                          \n",
       "13         5  0.873139      20\n",
       "34         3  0.970570  60درهم\n",
       "80         3  0.917652   ابليس\n",
       "81         2  0.176161     ابن\n",
       "81         3  0.327157     ابن\n",
       "...      ...       ...     ...\n",
       "11653      1  0.170298     يوم\n",
       "11653      2  0.099340     يوم\n",
       "11653      3  0.170298     يوم\n",
       "11653      4  0.170298     يوم\n",
       "11653      5  0.383170     يوم\n",
       "\n",
       "[574 rows x 3 columns], R=30, lambda_step=0.01, plot_opts={'xlab': 'PC1', 'ylab': 'PC2'}, topic_order=[4, 2, 5, 3, 1])"
      ]
     },
     "execution_count": 31,
     "metadata": {},
     "output_type": "execute_result"
    }
   ],
   "source": [
    "import pyLDAvis.sklearn\n",
    "\n",
    "# Enable the visualization on the notebook\n",
    "pyLDAvis.enable_notebook()\n",
    "\n",
    "# Create the panel for the visualization\n",
    "panel = pyLDAvis.sklearn.prepare(LDA_model, dtm, cv, mds='tsne') \n",
    "\n",
    "# Show the panel\n",
    "panel"
   ]
  }
 ],
 "metadata": {
  "kernelspec": {
   "display_name": "Python 3.8.10 64-bit",
   "language": "python",
   "name": "python3"
  },
  "language_info": {
   "codemirror_mode": {
    "name": "ipython",
    "version": 3
   },
   "file_extension": ".py",
   "mimetype": "text/x-python",
   "name": "python",
   "nbconvert_exporter": "python",
   "pygments_lexer": "ipython3",
   "version": "3.8.10"
  },
  "orig_nbformat": 4,
  "vscode": {
   "interpreter": {
    "hash": "96f786b0b969ce9dd83e03f57258e7a9a05f55dd8c5f36e6eecbeebc399786bd"
   }
  }
 },
 "nbformat": 4,
 "nbformat_minor": 2
}
